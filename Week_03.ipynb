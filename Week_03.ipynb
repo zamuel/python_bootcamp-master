{
 "cells": [
  {
   "cell_type": "markdown",
   "metadata": {},
   "source": [
    "# User Input & Type Converting"
   ]
  },
  {
   "cell_type": "code",
   "execution_count": 1,
   "metadata": {},
   "outputs": [
    {
     "name": "stdout",
     "output_type": "stream",
     "text": [
      "What is your name? John Smith\n",
      "John Smith\n"
     ]
    }
   ],
   "source": [
    "# accepting and outputting user input\n",
    "\n",
    "print(input('What is your name? '))"
   ]
  },
  {
   "cell_type": "code",
   "execution_count": 2,
   "metadata": {},
   "outputs": [
    {
     "name": "stdout",
     "output_type": "stream",
     "text": [
      "What is your name? John Smith\n",
      "Hello John Smith!\n"
     ]
    }
   ],
   "source": [
    "# saving what the user inputs\n",
    "\n",
    "ans = input('What is your name? ')\n",
    "\n",
    "print('Hello {}!'.format(ans))"
   ]
  },
  {
   "cell_type": "code",
   "execution_count": 3,
   "metadata": {},
   "outputs": [
    {
     "name": "stdout",
     "output_type": "stream",
     "text": [
      "<class 'int'>\n"
     ]
    }
   ],
   "source": [
    "# how to check the data type of a variable\n",
    "\n",
    "num = 5\n",
    "\n",
    "print(type(num))"
   ]
  },
  {
   "cell_type": "code",
   "execution_count": 1,
   "metadata": {},
   "outputs": [
    {
     "name": "stdout",
     "output_type": "stream",
     "text": [
      "<class 'int'>\n"
     ]
    }
   ],
   "source": [
    "# converting a variable from one data type to another\n",
    "\n",
    "num = \"9\"\n",
    "\n",
    "num = int(num)    # re-declaring num to store an integer\n",
    "\n",
    "print( type(num) )    # checking type to make sure conversion worked"
   ]
  },
  {
   "cell_type": "code",
   "execution_count": 3,
   "metadata": {},
   "outputs": [
    {
     "name": "stdout",
     "output_type": "stream",
     "text": [
      "Type a number to add: 9\n",
      "<class 'str'>\n",
      "100 + 9 = 109\n"
     ]
    }
   ],
   "source": [
    "# working with user input to perform calculations\n",
    "\n",
    "ans = input('Type a number to add: ')\n",
    "\n",
    "print( type(ans) )    # default type is string, must convert\n",
    "\n",
    "result = 100 + int(ans)\n",
    "\n",
    "print('100 + {} = {}'.format(ans, result))"
   ]
  },
  {
   "cell_type": "code",
   "execution_count": 5,
   "metadata": {},
   "outputs": [
    {
     "name": "stdout",
     "output_type": "stream",
     "text": [
      "Type a number to add: 45.5\n",
      "100 + 45.5 = 145.5\n",
      "The program did not break!\n"
     ]
    }
   ],
   "source": [
    "# using the try and except blocks, use tab to indent where necessary\n",
    "\n",
    "try:\n",
    "    ans = float(input('Type a number to add: '))\n",
    "    print('100 + {} = {}'.format(ans, 100 + ans))\n",
    "except:\n",
    "    print('You did not put in a valid number!')\n",
    "\n",
    "    # without try/except print statement would not get hit if error occurs\n",
    "print('The program did not break!')"
   ]
  },
  {
   "cell_type": "markdown",
   "metadata": {
    "collapsed": true
   },
   "source": [
    "# If Statements"
   ]
  },
  {
   "cell_type": "code",
   "execution_count": 1,
   "metadata": {},
   "outputs": [
    {
     "name": "stdout",
     "output_type": "stream",
     "text": [
      "x is less than y\n"
     ]
    }
   ],
   "source": [
    "# using an if statement to only run code if the condition is met\n",
    "\n",
    "x, y = 5, 10\n",
    "\n",
    "if x < y:\n",
    "    print('x is less than y')"
   ]
  },
  {
   "cell_type": "code",
   "execution_count": 2,
   "metadata": {},
   "outputs": [
    {
     "name": "stdout",
     "output_type": "stream",
     "text": [
      "What is 5 + 5? 10\n",
      "You got it right!\n"
     ]
    }
   ],
   "source": [
    "# checking user input\n",
    "\n",
    "ans = int(input('What is 5 + 5? '))\n",
    "\n",
    "if ans == 10:\n",
    "    print('You got it right!')"
   ]
  },
  {
   "cell_type": "code",
   "execution_count": 3,
   "metadata": {},
   "outputs": [
    {
     "name": "stdout",
     "output_type": "stream",
     "text": [
      "Both statements were true\n"
     ]
    }
   ],
   "source": [
    "# using the keyword 'and' in an 'if statement'\n",
    "\n",
    "x, y, z = 5, 10, 5\n",
    "\n",
    "if x < y and x == z:\n",
    "    print('Both statements were true')"
   ]
  },
  {
   "cell_type": "code",
   "execution_count": 4,
   "metadata": {},
   "outputs": [
    {
     "name": "stdout",
     "output_type": "stream",
     "text": [
      "One or both statements were true\n"
     ]
    }
   ],
   "source": [
    "# using the keyword 'or' in an 'if statement'\n",
    "\n",
    "x, y, z = 5, 10, 5\n",
    "\n",
    "if x < y or x != z:\n",
    "    print('One or both statements were true')"
   ]
  },
  {
   "cell_type": "code",
   "execution_count": 5,
   "metadata": {},
   "outputs": [
    {
     "name": "stdout",
     "output_type": "stream",
     "text": [
      "Flag is False\n"
     ]
    }
   ],
   "source": [
    "# using the keyword 'not' within an 'if statement'\n",
    "\n",
    "flag = False\n",
    "\n",
    "if not flag:\n",
    "    print('Flag is False')"
   ]
  },
  {
   "cell_type": "code",
   "execution_count": 9,
   "metadata": {},
   "outputs": [
    {
     "name": "stdout",
     "output_type": "stream",
     "text": [
      "Baseball contains the character b\n"
     ]
    }
   ],
   "source": [
    "# using the keyword 'in' within an 'if statement'\n",
    "\n",
    "word = 'Baseball'\n",
    "\n",
    "if 'b' in word:\n",
    "    print('{} contains the character b'.format(word))"
   ]
  },
  {
   "cell_type": "code",
   "execution_count": 8,
   "metadata": {},
   "outputs": [
    {
     "name": "stdout",
     "output_type": "stream",
     "text": [
      "Baseball does not contain the character x\n"
     ]
    }
   ],
   "source": [
    "# using the keyword 'not in' within an 'if statement'\n",
    "\n",
    "word = 'Baseball'\n",
    "\n",
    "if 'x' not in word:\n",
    "    print('{} does not contain the character x'.format(word))"
   ]
  },
  {
   "cell_type": "markdown",
   "metadata": {},
   "source": [
    "# Elif Statements"
   ]
  },
  {
   "cell_type": "code",
   "execution_count": 1,
   "metadata": {},
   "outputs": [
    {
     "name": "stdout",
     "output_type": "stream",
     "text": [
      "x is less\n"
     ]
    }
   ],
   "source": [
    "# using the elif conditional statement\n",
    "\n",
    "x, y = 5, 10\n",
    "\n",
    "if x > y:\n",
    "    print('x is greater')\n",
    "elif x < y:\n",
    "    print('x is less')"
   ]
  },
  {
   "cell_type": "code",
   "execution_count": 3,
   "metadata": {},
   "outputs": [
    {
     "name": "stdout",
     "output_type": "stream",
     "text": [
      "equal\n"
     ]
    }
   ],
   "source": [
    "# checking more than one elif conditional statement\n",
    "\n",
    "x, y = 5, 10\n",
    "\n",
    "if x > y:\n",
    "    print('x is greater')\n",
    "elif (x + 10) < y:\n",
    "    print('x is less')\n",
    "elif (x + 5) == y:\n",
    "    print('equal')"
   ]
  },
  {
   "cell_type": "code",
   "execution_count": 5,
   "metadata": {},
   "outputs": [
    {
     "name": "stdout",
     "output_type": "stream",
     "text": [
      "x is equal to z\n"
     ]
    }
   ],
   "source": [
    "# writing multiple conditionals within each other - multiple block levels\n",
    "\n",
    "x, y, z = 5, 10, 5\n",
    "\n",
    "if x > y:\n",
    "    print('greater')\n",
    "elif x <= y:\n",
    "    if x == z:\n",
    "        print('x is equal to z')         # resulting output\n",
    "    elif x != z:\n",
    "        print('x is not equal to z')     # won't get hit"
   ]
  },
  {
   "cell_type": "code",
   "execution_count": 6,
   "metadata": {},
   "outputs": [
    {
     "name": "stdout",
     "output_type": "stream",
     "text": [
      "x is less\n",
      "x is equal\n"
     ]
    }
   ],
   "source": [
    "# testing output of two if statements in a row that are both true\n",
    "\n",
    "x, y, z = 5, 10, 5\n",
    "\n",
    "if x < y:\n",
    "    print('x is less')\n",
    "\n",
    "if x == z:\n",
    "    print('x is equal')"
   ]
  },
  {
   "cell_type": "code",
   "execution_count": 7,
   "metadata": {},
   "outputs": [
    {
     "name": "stdout",
     "output_type": "stream",
     "text": [
      "x is less\n"
     ]
    }
   ],
   "source": [
    "# testing output of an if and elif statement that are both true\n",
    "\n",
    "x, y, z = 5, 10, 5\n",
    "\n",
    "if x < y:\n",
    "    print('x is less')\n",
    "elif x == z:\n",
    "    print('x is equal to z')"
   ]
  },
  {
   "cell_type": "markdown",
   "metadata": {},
   "source": [
    "# Else Statements"
   ]
  },
  {
   "cell_type": "code",
   "execution_count": 1,
   "metadata": {},
   "outputs": [
    {
     "name": "stdout",
     "output_type": "stream",
     "text": [
      "Hello John!\n"
     ]
    }
   ],
   "source": [
    "# using an else statement\n",
    "\n",
    "name = 'John'\n",
    "\n",
    "if name == 'Jacob':\n",
    "    print('Hello Jacob!')\n",
    "else:\n",
    "    print('Hello {}!'.format(name))"
   ]
  },
  {
   "cell_type": "code",
   "execution_count": 3,
   "metadata": {},
   "outputs": [
    {
     "name": "stdout",
     "output_type": "stream",
     "text": [
      "Name starts with a J\n"
     ]
    }
   ],
   "source": [
    "# writing a full conditional statement with if, elif, else\n",
    "\n",
    "name = 'John'\n",
    "\n",
    "if name[0] == 'A':\n",
    "    print('Name starts with an A')\n",
    "    \n",
    "elif name[0] == 'B':\n",
    "    print('Name starts with a B')\n",
    "    \n",
    "elif name[0] == 'J':\n",
    "    print('Name starts with a J')\n",
    "    \n",
    "else:                       # covers all other possibilities\n",
    "    print('Name starts with a {}'.format(name[0]))"
   ]
  },
  {
   "cell_type": "markdown",
   "metadata": {},
   "source": [
    "# Friday Project: Creating a Calculator"
   ]
  },
  {
   "cell_type": "code",
   "execution_count": 20,
   "metadata": {},
   "outputs": [
    {
     "name": "stdout",
     "output_type": "stream",
     "text": [
      "Would you like to add/subtract/multiply/divide? add\n",
      "You chose add.\n"
     ]
    }
   ],
   "source": [
    "# step 1: ask user for calculation to be performed\n",
    "operation = input('Would you like to add/subtract/multiply/divide? ').lower()\n",
    "print('You chose {}.'.format(operation))   # for testing purposes"
   ]
  },
  {
   "cell_type": "code",
   "execution_count": 21,
   "metadata": {},
   "outputs": [
    {
     "name": "stdout",
     "output_type": "stream",
     "text": [
      "What is the first number? 4\n",
      "What is the second number? 5\n",
      "First number: 4\n",
      "Second Number: 5\n"
     ]
    }
   ],
   "source": [
    "# step 2: ask for numbers, alert order matters for subtracting or dividing\n",
    "if operation == 'subtract' or operation == 'divide':\n",
    "    print('You chose {}.'.format(operation))\n",
    "    print('Please keep in mind that the order of your numbers matter.')\n",
    "    \n",
    "num1 = input('What is the first number? ')\n",
    "num2 = input('What is the second number? ')\n",
    "\n",
    "print('First number: {}'.format(num1))   # for testing purposes\n",
    "print('Second Number: {}'.format(num2))  # for testing purposes"
   ]
  },
  {
   "cell_type": "code",
   "execution_count": 24,
   "metadata": {},
   "outputs": [
    {
     "name": "stdout",
     "output_type": "stream",
     "text": [
      "4.0 + 5.0 = 9.0\n"
     ]
    }
   ],
   "source": [
    "# step 3: setup try/except for mathematical operation\n",
    "try:\n",
    "    # step 3a: immediately try to convert numbers input to floats\n",
    "    num1, num2 = float(num1), float(num2)\n",
    "    \n",
    "    # step 3b: perform operation and print result\n",
    "    if operation == 'add':\n",
    "        result = num1 + num2\n",
    "        print('{} + {} = {}'.format(num1, num2, result))\n",
    "    elif operation == 'subtract':\n",
    "        result = num1 - num2\n",
    "        print('{} - {} = {}'.format(num1, num2, result))\n",
    "    elif operation == 'multiply':\n",
    "        result = num1 * num2\n",
    "        print('{} * {} = {}'.format(num1, num2, result))\n",
    "    elif operation == 'divide':\n",
    "        result = num1 / num2\n",
    "        print('{} / {} = {}'.format(num1, num2, result))\n",
    "    else:\n",
    "        # else will be hit if they didn't chose an option correctly\n",
    "        print('Sorry, but \"{}\" is not an option.'.format(operation))\n",
    "except:\n",
    "    # step 3c: print error\n",
    "    print('Error: Improper numbers used. Please try again.')"
   ]
  },
  {
   "cell_type": "code",
   "execution_count": 17,
   "metadata": {},
   "outputs": [
    {
     "name": "stdout",
     "output_type": "stream",
     "text": [
      "Would you like to add/subtract/multiply/divide? divide\n",
      "You chose divide.\n",
      "Please keep in mind that the order of your numbers matters.\n",
      "What is the first number? 4\n",
      "What is the second number? 4\n",
      "4.0 / 4.0 = 1.0\n"
     ]
    }
   ],
   "source": [
    "# step 1: ask user for calculation to be performed\n",
    "operation = input('Would you like to add/subtract/multiply/divide? ').lower()\n",
    "\n",
    "# step 2: ask for numbers, alert order matters for subtracting or dividing\n",
    "if operation == 'subtract' or operation == 'divide':\n",
    "    print('You chose {}.'.format(operation))\n",
    "    print('Please keep in mind that the order of your numbers matter.')\n",
    "\n",
    "num1 = input('What is the first number? ')\n",
    "num2 = input('What is the second number? ')\n",
    "\n",
    "# step 3: setup try/except for mathematical operation\n",
    "try:\n",
    "    # step 3a: immediately try to convert numbers input to floats\n",
    "    num1, num2 = float(num1), float(num2)\n",
    "    \n",
    "    # step 3b: perform operation and print result\n",
    "    if operation == 'add':\n",
    "        result = num1 + num2\n",
    "        print('{} + {} = {}'.format(num1, num2, result))\n",
    "    elif operation == 'subtract':\n",
    "        result = num1 - num2\n",
    "        print('{} - {} = {}'.format(num1, num2, result))\n",
    "    elif operation == 'multiply':\n",
    "        result = num1 * num2\n",
    "        print('{} * {} = {}'.format(num1, num2, result))\n",
    "    elif operation == 'divide':\n",
    "        result = num1 / num2\n",
    "        print('{} / {} = {}'.format(num1, num2, result))\n",
    "    else:\n",
    "        # else will be hit if they didn't chose an option correctly\n",
    "        print('Sorry, but \"{}\" is not an option.'.format(operation))\n",
    "except:\n",
    "    # step 3c: print error\n",
    "    print('Error: Improper numbers used. Please try again.')"
   ]
  },
  {
   "cell_type": "markdown",
   "metadata": {},
   "source": [
    "# Monday Exercises - Answers"
   ]
  },
  {
   "cell_type": "markdown",
   "metadata": {
    "collapsed": true
   },
   "source": [
    "<p>\n",
    "1. <b>Converting:</b> Try converting a string of <i>'True'</i> to a boolean, then output its' type to make sure it converted properly.\n",
    "</p>"
   ]
  },
  {
   "cell_type": "code",
   "execution_count": 49,
   "metadata": {},
   "outputs": [
    {
     "name": "stdout",
     "output_type": "stream",
     "text": [
      "<class 'str'>\n",
      "<class 'bool'>\n"
     ]
    }
   ],
   "source": [
    "s = 'True'\n",
    "\n",
    "print(type(s))\n",
    "\n",
    "switch = bool(s)\n",
    "\n",
    "print(type(switch))"
   ]
  },
  {
   "cell_type": "markdown",
   "metadata": {},
   "source": [
    "<p>\n",
    "2. <b>Sum of Inputs:</b> Create two input statements and ask the user to enter two numbers. Print the sum of these numbers out.\n",
    "</p>"
   ]
  },
  {
   "cell_type": "code",
   "execution_count": 50,
   "metadata": {},
   "outputs": [
    {
     "name": "stdout",
     "output_type": "stream",
     "text": [
      "Enter a number: 4\n",
      "Enter a second number: 5\n",
      "The sum of 4 and 5 is 9.0\n"
     ]
    }
   ],
   "source": [
    "num1 = input('Enter a number: ')\n",
    "num2 = input('Enter a second number: ')\n",
    "\n",
    "result = float(num1) + float(num2)\n",
    "\n",
    "print('The sum of {} and {} is {}'.format(num1, num2, result))"
   ]
  },
  {
   "cell_type": "markdown",
   "metadata": {},
   "source": [
    "<p>\n",
    "3. <b>Car Information:</b> Ask the user to input the year, make, model, and color of their car and print a nicely formatted statement like \"2018 Blue Chevrolet Silverado\".\n",
    "</p>"
   ]
  },
  {
   "cell_type": "code",
   "execution_count": 51,
   "metadata": {},
   "outputs": [
    {
     "name": "stdout",
     "output_type": "stream",
     "text": [
      "What is the year of your car? 2018\n",
      "What is the make of your car? Chevrolet\n",
      "What is the model of your car? Silverado\n",
      "What is the color of your car? Blue\n",
      "2018 Blue Chevrolet Silverado\n"
     ]
    }
   ],
   "source": [
    "year = input('What is the year of your car? ')\n",
    "make = input('What is the make of your car? ')\n",
    "model = input('What is the model of your car? ')\n",
    "color = input('What is the color of your car? ')\n",
    "\n",
    "print('{} {} {} {}'.format(year, color, make, model))"
   ]
  },
  {
   "cell_type": "markdown",
   "metadata": {},
   "source": [
    "# Tuesday Exercises - Answers"
   ]
  },
  {
   "cell_type": "markdown",
   "metadata": {
    "collapsed": true
   },
   "source": [
    "<p>\n",
    "1. <b>Checking Inclusion - Part 1:</b> Ask the user for input and check to see if what they wrote includes an <i>'es'</i>.\n",
    "</p>"
   ]
  },
  {
   "cell_type": "code",
   "execution_count": 43,
   "metadata": {},
   "outputs": [
    {
     "name": "stdout",
     "output_type": "stream",
     "text": [
      "Please input a word: nope\n",
      "Your word does not include \"es\"\n"
     ]
    }
   ],
   "source": [
    "ans = input('Please input a word: ')\n",
    "\n",
    "if 'es' in ans:\n",
    "    print('Your word includes \"es\"')\n",
    "elif 'es' not in ans:\n",
    "    print('Your word does not include \"es\"')"
   ]
  },
  {
   "cell_type": "markdown",
   "metadata": {},
   "source": [
    "<p>\n",
    "2. <b>Checking Inclusion - Part 2:</b> Ask the user for input and check to see if what they wrote has an <i>'ing'</i> at the end. <b>Hint</b>: Use slicing.\n",
    "</p>"
   ]
  },
  {
   "cell_type": "code",
   "execution_count": 45,
   "metadata": {},
   "outputs": [
    {
     "name": "stdout",
     "output_type": "stream",
     "text": [
      "Please input a word: ends\n",
      "Your word does not end with \"ing\"\n"
     ]
    }
   ],
   "source": [
    "ans = input('Please input a word: ')\n",
    "\n",
    "if 'ing' in ans[-3:]:\n",
    "    print('Your word ends with \"ing\"')\n",
    "elif 'ing' not in ans[-3:]:\n",
    "    print('Your word does not end with \"ing\"')"
   ]
  },
  {
   "cell_type": "markdown",
   "metadata": {},
   "source": [
    "<p>\n",
    "3. <b>Checking Equality:</b> Ask the user to input two words and write a conditional statement to check if both words are the same. Make it case insensitive so that capitals do not matter.\n",
    "</p>"
   ]
  },
  {
   "cell_type": "code",
   "execution_count": 47,
   "metadata": {},
   "outputs": [
    {
     "name": "stdout",
     "output_type": "stream",
     "text": [
      "Please input a word: happy\n",
      "Please input a second word: happy\n",
      "You input the same word!\n"
     ]
    }
   ],
   "source": [
    "word1 = input('Please input a word: ')\n",
    "word2 = input('Please input a second word: ')\n",
    "\n",
    "if word1.lower() == word2.lower():\n",
    "    print('You input the same word!')\n",
    "elif word1.lower() != word2.lower():\n",
    "    print('The words you input are different.')"
   ]
  },
  {
   "cell_type": "markdown",
   "metadata": {},
   "source": [
    "<p>\n",
    "4. <b>Returning Exponents:</b> Ask the user to input a number and return that number squared. <b>Hint:</b> Investigate arithmatic expressions for exponents.\n",
    "</p>"
   ]
  },
  {
   "cell_type": "code",
   "execution_count": 48,
   "metadata": {},
   "outputs": [
    {
     "name": "stdout",
     "output_type": "stream",
     "text": [
      "Please input a number: 5\n",
      "You're number is lower than 10, so here is the result squared: \n",
      "25.0\n"
     ]
    }
   ],
   "source": [
    "num = float(input('Please input a number: '))\n",
    "\n",
    "if num < 10:\n",
    "    print('You\\'re number is lower than 10, so here is the result squared: ')\n",
    "    result = num**2\n",
    "    print(result)"
   ]
  },
  {
   "cell_type": "markdown",
   "metadata": {},
   "source": [
    "# Wednesday Exercises - Answers"
   ]
  },
  {
   "cell_type": "markdown",
   "metadata": {},
   "source": [
    "<p>\n",
    "1. <b>Higher/Lower:</b> Ask the user to input a number. Type convert that number and use an if/elif statement to print whether it's higher or lower than 100.\n",
    "</p>"
   ]
  },
  {
   "cell_type": "code",
   "execution_count": 40,
   "metadata": {},
   "outputs": [
    {
     "name": "stdout",
     "output_type": "stream",
     "text": [
      "Please input a number: 99\n",
      "Your number is less than 100\n"
     ]
    }
   ],
   "source": [
    "num = float(input('Please input a number: '))\n",
    "\n",
    "if num > 100:\n",
    "    print('Your number is greater than 100')\n",
    "elif num < 100:\n",
    "    print('Your number is less than 100')\n",
    "elif num == 100:\n",
    "    print('Your number is equal to 100')"
   ]
  },
  {
   "cell_type": "markdown",
   "metadata": {},
   "source": [
    "<p>\n",
    "2. <b>Find the solution:</b> Given the following code, fix any/all errors in order to make it output 'lower':\n",
    "</p>"
   ]
  },
  {
   "cell_type": "code",
   "execution_count": 37,
   "metadata": {},
   "outputs": [
    {
     "name": "stdout",
     "output_type": "stream",
     "text": [
      "lower\n"
     ]
    }
   ],
   "source": [
    "x, y = 5, 10\n",
    "\n",
    "if x > y:\n",
    "    print('greater')\n",
    "elif x < y:\n",
    "    print('lower')"
   ]
  },
  {
   "cell_type": "markdown",
   "metadata": {},
   "source": [
    "# Thursday Exercises - Answers"
   ]
  },
  {
   "cell_type": "markdown",
   "metadata": {},
   "source": [
    "<p>\n",
    "1. <b>Fix the Errors:</b> Given the code below, fix any/all errors so that it outputs <i>'Hello John'</i> correctly:\n",
    "</p>"
   ]
  },
  {
   "cell_type": "code",
   "execution_count": 29,
   "metadata": {},
   "outputs": [
    {
     "name": "stdout",
     "output_type": "stream",
     "text": [
      "Hello John\n"
     ]
    }
   ],
   "source": [
    "name = 'John'\n",
    "\n",
    "if name == 'Jack':\n",
    "    print('Hello Jack')\n",
    "else:\n",
    "    print('Hello John')"
   ]
  },
  {
   "cell_type": "markdown",
   "metadata": {},
   "source": [
    "<p>\n",
    "2. <b>User Input:</b> Ask the user to input the time of day in military time without a colon (1100 = 11:00 A.M.). Write a conditional statement so that it outputs the following:\n",
    "<p>a. \"Good Morning\" if less than 1200</p>\n",
    "<p>b. \"Good Afternoon\" if between 1200 and 1700</p>\n",
    "<p>c. \"Good Evening\" if equal or above 1700</p>\n",
    "</p>"
   ]
  },
  {
   "cell_type": "code",
   "execution_count": 36,
   "metadata": {},
   "outputs": [
    {
     "name": "stdout",
     "output_type": "stream",
     "text": [
      "Please enter the time in military hours, such that 11:00 A.M. = 1100\n",
      "What is the time? 0900\n",
      "Good Morning\n"
     ]
    }
   ],
   "source": [
    "print('Please enter the time in military hours, such that 11:00 A.M. = 1100')\n",
    "time = int(input('What is the time? '))\n",
    "\n",
    "if time < 1200:\n",
    "    print('Good Morning')\n",
    "elif time >= 1200 and time < 1700:\n",
    "    print('Good Afternoon')\n",
    "elif time >= 1700:\n",
    "    print('Good Evening')"
   ]
  },
  {
   "cell_type": "markdown",
   "metadata": {},
   "source": [
    "# End of Week Exercises - Answers"
   ]
  },
  {
   "cell_type": "markdown",
   "metadata": {
    "collapsed": true
   },
   "source": [
    "<p>\n",
    "1. <b>Reversing Numbers:</b> Alter the calculator project so that the order of the numbers doesn't matter. There are a few ways to get the same result, one way is to ask the user if they'd like to reverse the placement of the numbers.\n",
    "</p>"
   ]
  },
  {
   "cell_type": "code",
   "execution_count": 59,
   "metadata": {},
   "outputs": [
    {
     "name": "stdout",
     "output_type": "stream",
     "text": [
      "Would you like to add/subtract/multiply/divide? divide\n",
      "You chose divide.\n",
      "Please keep in mind that the order of your numbers matter.\n",
      "What is the first number? 10\n",
      "What is the second number? 5\n",
      "Currently you are performing 10.0 / 5.0\n",
      "Would you like to reverse the numbers? (y/n) y\n",
      "5.0 / 10.0 = 0.5\n"
     ]
    }
   ],
   "source": [
    "# step 1: ask user for calculation to be performed\n",
    "operation = input('Would you like to add/subtract/multiply/divide? ').lower()\n",
    "\n",
    "# step 2: ask for numbers, alert order matters for subtracting or dividing\n",
    "if operation == 'subtract' or operation == 'divide':\n",
    "    print('You chose {}.'.format(operation))\n",
    "    print('Please keep in mind that the order of your numbers matter.')\n",
    "\n",
    "num1 = input('What is the first number? ')\n",
    "num2 = input('What is the second number? ')\n",
    "\n",
    "# step 3: setup try/except for mathematical operation\n",
    "try:\n",
    "    # step 3a: immediately try to convert numbers input to floats\n",
    "    num1, num2 = float(num1), float(num2)\n",
    "    \n",
    "    # step 3b: perform operation and print result\n",
    "    if operation == 'add':\n",
    "        result = num1 + num2\n",
    "        print('{} + {} = {}'.format(num1, num2, result))\n",
    "    elif operation == 'subtract':\n",
    "        print('Currently you are performing {} - {}'.format(num1, num2))\n",
    "        ans = input('Would you like to reverse the numbers? (y/n) ')\n",
    "        \n",
    "        # reverse the numbers\n",
    "        if ans == 'y':\n",
    "            num1, num2 = num2, num1   # called an in-place swap\n",
    "            \n",
    "        result = num1 - num2\n",
    "        print('{} - {} = {}'.format(num1, num2, result))\n",
    "        \n",
    "    elif operation == 'multiply':\n",
    "        result = num1 * num2\n",
    "        print('{} * {} = {}'.format(num1, num2, result))\n",
    "    elif operation == 'divide':\n",
    "        print('Currently you are performing {} / {}'.format(num1, num2))\n",
    "        ans = input('Would you like to reverse the numbers? (y/n) ')\n",
    "        \n",
    "        # reverse the numbers\n",
    "        if ans == 'y':\n",
    "            num1, num2 = num2, num1   # called an in-place swap\n",
    "            \n",
    "        result = num1 / num2\n",
    "        print('{} / {} = {}'.format(num1, num2, result))\n",
    "    else:\n",
    "        # else will be hit if they didn't chose an option correctly\n",
    "        print('Sorry, but \"{}\" is not an option.'.format(operation))\n",
    "except:\n",
    "    # step 3c: print error\n",
    "    print('Error: Improper numbers used. Please try again.')"
   ]
  },
  {
   "cell_type": "markdown",
   "metadata": {},
   "source": [
    "<p>\n",
    "2. <b>Age Group:</b> Ask the user to input their age. Depending on their input, output one of the following groups:\n",
    "<p>a. Between 0 and 12 = \"Kid\"</p>\n",
    "<p>b. Between 13 and 19 = \"Teenager\"</p>\n",
    "<p>c. Between 20 and 30 = \"Young Adult\"</p>\n",
    "<p>d. Between 31 and 64 = \"Adult\"</p>\n",
    "<p>e. 65 or above = \"Senior\"</p>\n",
    "</p>"
   ]
  },
  {
   "cell_type": "code",
   "execution_count": 57,
   "metadata": {},
   "outputs": [
    {
     "name": "stdout",
     "output_type": "stream",
     "text": [
      "How old are you? 55\n",
      "Adult\n"
     ]
    }
   ],
   "source": [
    "age = int(input('How old are you? '))\n",
    "\n",
    "if age >= 0 and age <= 12:\n",
    "    print('Kid')\n",
    "elif age >= 13 and age <= 19:\n",
    "    print('Teenager')\n",
    "elif age >= 20 and age <= 30:\n",
    "    print('Young Adult')\n",
    "elif age >= 31 and age <= 64:\n",
    "    print('Adult')\n",
    "elif age >= 65:\n",
    "    print('Senior')"
   ]
  },
  {
   "cell_type": "markdown",
   "metadata": {},
   "source": [
    "<p>\n",
    "3. <b>Text-Based RPG:</b> This is an open-ended exercise. Create a text-based RPG with a storyline. You take user input, give them a couple choices and depending on what they choose, they can go down a different path. You'll use several branching statements depending on the length of the story.\n",
    "</p>"
   ]
  },
  {
   "cell_type": "code",
   "execution_count": 60,
   "metadata": {},
   "outputs": [
    {
     "name": "stdout",
     "output_type": "stream",
     "text": [
      "1: Pick the lock\n",
      "2: Go to sleep\n",
      "You awake in a jail cell, what would you like to do? 1\n",
      "1: Run\n",
      "2: Fight\n",
      "The door opens, a guard notices you though, what do you do? 1\n",
      "You got away, congrats you are free!\n"
     ]
    }
   ],
   "source": [
    "# as it's open-ended this is a sample\n",
    "\n",
    "print('1: Pick the lock')\n",
    "print('2: Go to sleep')\n",
    "ans = input('You awake in a jail cell, what would you like to do? ')\n",
    "\n",
    "if ans == '1':\n",
    "    print('1: Run')\n",
    "    print('2: Fight')\n",
    "    ans = input('The door opens, a guard notices you though, what do you do? ')\n",
    "    \n",
    "    if ans == '1':\n",
    "        print('You got away, congrats you are free!')\n",
    "    elif ans == '2':\n",
    "        print('The guard caught you... you lost!')\n",
    "        \n",
    "elif ans == '2':\n",
    "    print('1: Pick the lock')\n",
    "    print('2: Go to sleep')\n",
    "    ans = input('You awake in a jail cell, what would you like to do? ')"
   ]
  }
 ],
 "metadata": {
  "kernelspec": {
   "display_name": "Python 3",
   "language": "python",
   "name": "python3"
  },
  "language_info": {
   "codemirror_mode": {
    "name": "ipython",
    "version": 3
   },
   "file_extension": ".py",
   "mimetype": "text/x-python",
   "name": "python",
   "nbconvert_exporter": "python",
   "pygments_lexer": "ipython3",
   "version": "3.6.5"
  }
 },
 "nbformat": 4,
 "nbformat_minor": 2
}
