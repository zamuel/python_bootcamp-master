{
 "cells": [
  {
   "cell_type": "markdown",
   "metadata": {},
   "source": [
    "# Virtual Environments and Requests Module"
   ]
  },
  {
   "cell_type": "code",
   "execution_count": 12,
   "metadata": {},
   "outputs": [
    {
     "name": "stdout",
     "output_type": "stream",
     "text": [
      "<Response [200]>\n",
      "<class 'requests.models.Response'>\n"
     ]
    }
   ],
   "source": [
    "# sending a request and logging the response code\n",
    "import requests\n",
    "\n",
    "r = requests.get('https://api.github.com/users/Connor-SM')\n",
    "\n",
    "print( r )\n",
    "print(type( r ))"
   ]
  },
  {
   "cell_type": "code",
   "execution_count": 27,
   "metadata": {},
   "outputs": [
    {
     "name": "stdout",
     "output_type": "stream",
     "text": [
      "b'{\"login\":\"Connor-SM\",\"id\":20958711,\"node_id\":\"MDQ6VXNlcjIwOTU4NzEx\",\"avatar_url\":\"https://avatars0.githubusercontent.com/u/20958711?v=4\",\"gravatar_id\":\"\",\"url\":\"https://api.github.com/users/Connor-SM\",\"html_url\":\"https://github.com/Connor-SM\",\"followers_url\":\"https://api.github.com/users/Connor-SM/followers\",\"following_url\":\"https://api.github.com/users/Connor-SM/following{/other_user}\",\"gists_url\":\"https://api.github.com/users/Connor-SM/gists{/gist_id}\",\"starred_url\":\"https://api.github.com/users/Connor-SM/starred{/owner}{/repo}\",\"subscriptions_url\":\"https://api.github.com/users/Connor-SM/subscriptions\",\"organizations_url\":\"https://api.github.com/users/Connor-SM/orgs\",\"repos_url\":\"https://api.github.com/users/Connor-SM/repos\",\"events_url\":\"https://api.github.com/users/Connor-SM/events{/privacy}\",\"received_events_url\":\"https://api.github.com/users/Connor-SM/received_events\",\"type\":\"User\",\"site_admin\":false,\"name\":\"Connor Milliken\",\"company\":\"@CodingTemple \",\"blog\":\"www.connormilliken.com\",\"location\":\"Boston, MA\",\"email\":null,\"hireable\":true,\"bio\":\"Python Instructor\\\\r\\\\n- Traveler\\\\r\\\\n- Sports Enthusiast\",\"public_repos\":45,\"public_gists\":0,\"followers\":23,\"following\":31,\"created_at\":\"2016-08-10T22:39:46Z\",\"updated_at\":\"2019-07-22T03:07:47Z\"}'\n"
     ]
    }
   ],
   "source": [
    "# accessing the content that we requested from the URL\n",
    "\n",
    "data = r.content\n",
    "\n",
    "print(data)"
   ]
  },
  {
   "cell_type": "code",
   "execution_count": 28,
   "metadata": {
    "scrolled": true
   },
   "outputs": [
    {
     "name": "stdout",
     "output_type": "stream",
     "text": [
      "Key: login\t Value: Connor-SM\n",
      "Key: id\t Value: 20958711\n",
      "Key: node_id\t Value: MDQ6VXNlcjIwOTU4NzEx\n",
      "Key: avatar_url\t Value: https://avatars0.githubusercontent.com/u/20958711?v=4\n",
      "Key: gravatar_id\t Value: \n",
      "Key: url\t Value: https://api.github.com/users/Connor-SM\n",
      "Key: html_url\t Value: https://github.com/Connor-SM\n",
      "Key: followers_url\t Value: https://api.github.com/users/Connor-SM/followers\n",
      "Key: following_url\t Value: https://api.github.com/users/Connor-SM/following{/other_user}\n",
      "Key: gists_url\t Value: https://api.github.com/users/Connor-SM/gists{/gist_id}\n",
      "Key: starred_url\t Value: https://api.github.com/users/Connor-SM/starred{/owner}{/repo}\n",
      "Key: subscriptions_url\t Value: https://api.github.com/users/Connor-SM/subscriptions\n",
      "Key: organizations_url\t Value: https://api.github.com/users/Connor-SM/orgs\n",
      "Key: repos_url\t Value: https://api.github.com/users/Connor-SM/repos\n",
      "Key: events_url\t Value: https://api.github.com/users/Connor-SM/events{/privacy}\n",
      "Key: received_events_url\t Value: https://api.github.com/users/Connor-SM/received_events\n",
      "Key: type\t Value: User\n",
      "Key: site_admin\t Value: False\n",
      "Key: name\t Value: Connor Milliken\n",
      "Key: company\t Value: @CodingTemple \n",
      "Key: blog\t Value: www.connormilliken.com\n",
      "Key: location\t Value: Boston, MA\n",
      "Key: email\t Value: None\n",
      "Key: hireable\t Value: True\n",
      "Key: bio\t Value: Python Instructor\r\n",
      "- Traveler\r\n",
      "- Sports Enthusiast\n",
      "Key: public_repos\t Value: 45\n",
      "Key: public_gists\t Value: 0\n",
      "Key: followers\t Value: 23\n",
      "Key: following\t Value: 31\n",
      "Key: created_at\t Value: 2016-08-10T22:39:46Z\n",
      "Key: updated_at\t Value: 2019-07-22T03:07:47Z\n",
      "\n",
      "\n",
      "Accessing Data Directly\n",
      "Connor Milliken\n"
     ]
    }
   ],
   "source": [
    "# converting data from JSON into a python dictionary and outputting all key-value pairs\n",
    "data = r.json()\n",
    "\n",
    "for k, v in data.items():\n",
    "    print('Key: {}\\t Value: {}'.format(k, v))\n",
    "    \n",
    "print('\\n\\nAccessing Data Directly')\n",
    "print(data['name'])"
   ]
  },
  {
   "cell_type": "code",
   "execution_count": 31,
   "metadata": {},
   "outputs": [
    {
     "name": "stdout",
     "output_type": "stream",
     "text": [
      "4119729\n"
     ]
    }
   ],
   "source": [
    "# outputting specific key-value pairs from data\n",
    "\n",
    "r = requests.get('https://api.github.com/search/repositories?q=language:python')\n",
    "\n",
    "data = r.json()\n",
    "\n",
    "print(data['total_count'])"
   ]
  },
  {
   "cell_type": "markdown",
   "metadata": {},
   "source": [
    "# Pandas"
   ]
  },
  {
   "cell_type": "code",
   "execution_count": 2,
   "metadata": {
    "collapsed": true
   },
   "outputs": [],
   "source": [
    "# importing the pandas library\n",
    "import pandas as pd         # industry standard name of pd when importing"
   ]
  },
  {
   "cell_type": "code",
   "execution_count": 3,
   "metadata": {},
   "outputs": [
    {
     "name": "stdout",
     "output_type": "stream",
     "text": [
      "   ages    names\n",
      "0    25     Jess\n",
      "1    35   Jordan\n",
      "2    22    Sandy\n",
      "3    29      Ted\n",
      "4    33   Barney\n",
      "5    20    Tyler\n",
      "6    18  Rebecca\n"
     ]
    }
   ],
   "source": [
    "# using the from_dict method to convert a dictionary into a Pandas DataFrame\n",
    "import random\n",
    "\n",
    "random.seed(3)   # generate same random numbers every time\n",
    "\n",
    "names = [\"Jess\", \"Jordan\", \"Sandy\", \"Ted\", \"Barney\", \"Tyler\", \"Rebecca\"]\n",
    "ages = [ random.randint(18, 35) for x in range(len(names))]\n",
    "\n",
    "people = { \"names\" : names, \"ages\" : ages }\n",
    "\n",
    "df = pd.DataFrame.from_dict(people)\n",
    "print(df)"
   ]
  },
  {
   "cell_type": "code",
   "execution_count": 4,
   "metadata": {},
   "outputs": [
    {
     "name": "stdout",
     "output_type": "stream",
     "text": [
      "0    25\n",
      "1    35\n",
      "2    22\n",
      "3    29\n",
      "4    33\n",
      "5    20\n",
      "6    18\n",
      "Name: ages, dtype: int64\n",
      "29\n"
     ]
    }
   ],
   "source": [
    "# directly selecting a column in Pandas\n",
    "print( df[\"ages\"] )\n",
    "\n",
    "print( df[\"ages\"][3] )   # select the value of \"ages\" in the fourth row (0 index based)\n",
    "\n",
    "# print( df[4] )   doesn't work, 4 is not a column name"
   ]
  },
  {
   "cell_type": "code",
   "execution_count": 5,
   "metadata": {},
   "outputs": [
    {
     "name": "stdout",
     "output_type": "stream",
     "text": [
      "ages       25\n",
      "names    Jess\n",
      "Name: 0, dtype: object\n",
      "Jess\n"
     ]
    }
   ],
   "source": [
    "# directly selecting a record in Pandas using .loc\n",
    "print( df.loc[0] )\n",
    "\n",
    "print( df.loc[0][\"names\"] )   # selecting the value at record 0 in the \"names\" column"
   ]
  },
  {
   "cell_type": "code",
   "execution_count": 6,
   "metadata": {},
   "outputs": [
    {
     "name": "stdout",
     "output_type": "stream",
     "text": [
      "   ages   names\n",
      "2    22   Sandy\n",
      "3    29     Ted\n",
      "4    33  Barney\n"
     ]
    }
   ],
   "source": [
    "# slicing a DataFrame to grab specific records\n",
    "print( df[2:5] )"
   ]
  },
  {
   "cell_type": "code",
   "execution_count": 7,
   "metadata": {},
   "outputs": [
    {
     "data": {
      "text/html": [
       "<div>\n",
       "<style>\n",
       "    .dataframe thead tr:only-child th {\n",
       "        text-align: right;\n",
       "    }\n",
       "\n",
       "    .dataframe thead th {\n",
       "        text-align: left;\n",
       "    }\n",
       "\n",
       "    .dataframe tbody tr th {\n",
       "        vertical-align: top;\n",
       "    }\n",
       "</style>\n",
       "<table border=\"1\" class=\"dataframe\">\n",
       "  <thead>\n",
       "    <tr style=\"text-align: right;\">\n",
       "      <th></th>\n",
       "      <th>ages</th>\n",
       "      <th>names</th>\n",
       "    </tr>\n",
       "  </thead>\n",
       "  <tbody>\n",
       "    <tr>\n",
       "      <th>0</th>\n",
       "      <td>25</td>\n",
       "      <td>Jess</td>\n",
       "    </tr>\n",
       "    <tr>\n",
       "      <th>1</th>\n",
       "      <td>35</td>\n",
       "      <td>Jordan</td>\n",
       "    </tr>\n",
       "    <tr>\n",
       "      <th>2</th>\n",
       "      <td>22</td>\n",
       "      <td>Sandy</td>\n",
       "    </tr>\n",
       "    <tr>\n",
       "      <th>3</th>\n",
       "      <td>29</td>\n",
       "      <td>Ted</td>\n",
       "    </tr>\n",
       "    <tr>\n",
       "      <th>4</th>\n",
       "      <td>33</td>\n",
       "      <td>Barney</td>\n",
       "    </tr>\n",
       "  </tbody>\n",
       "</table>\n",
       "</div>"
      ],
      "text/plain": [
       "   ages   names\n",
       "0    25    Jess\n",
       "1    35  Jordan\n",
       "2    22   Sandy\n",
       "3    29     Ted\n",
       "4    33  Barney"
      ]
     },
     "execution_count": 7,
     "metadata": {},
     "output_type": "execute_result"
    }
   ],
   "source": [
    "# accessing the top 5 records using .head()\n",
    "df.head(5)"
   ]
  },
  {
   "cell_type": "code",
   "execution_count": 8,
   "metadata": {},
   "outputs": [
    {
     "data": {
      "text/html": [
       "<div>\n",
       "<style>\n",
       "    .dataframe thead tr:only-child th {\n",
       "        text-align: right;\n",
       "    }\n",
       "\n",
       "    .dataframe thead th {\n",
       "        text-align: left;\n",
       "    }\n",
       "\n",
       "    .dataframe tbody tr th {\n",
       "        vertical-align: top;\n",
       "    }\n",
       "</style>\n",
       "<table border=\"1\" class=\"dataframe\">\n",
       "  <thead>\n",
       "    <tr style=\"text-align: right;\">\n",
       "      <th></th>\n",
       "      <th>ages</th>\n",
       "      <th>names</th>\n",
       "    </tr>\n",
       "  </thead>\n",
       "  <tbody>\n",
       "    <tr>\n",
       "      <th>4</th>\n",
       "      <td>33</td>\n",
       "      <td>Barney</td>\n",
       "    </tr>\n",
       "    <tr>\n",
       "      <th>5</th>\n",
       "      <td>20</td>\n",
       "      <td>Tyler</td>\n",
       "    </tr>\n",
       "    <tr>\n",
       "      <th>6</th>\n",
       "      <td>18</td>\n",
       "      <td>Rebecca</td>\n",
       "    </tr>\n",
       "  </tbody>\n",
       "</table>\n",
       "</div>"
      ],
      "text/plain": [
       "   ages    names\n",
       "4    33   Barney\n",
       "5    20    Tyler\n",
       "6    18  Rebecca"
      ]
     },
     "execution_count": 8,
     "metadata": {},
     "output_type": "execute_result"
    }
   ],
   "source": [
    "# accessing the bottom 3 records using .tail()\n",
    "df.tail(3)"
   ]
  },
  {
   "cell_type": "code",
   "execution_count": 9,
   "metadata": {},
   "outputs": [
    {
     "name": "stdout",
     "output_type": "stream",
     "text": [
      "Index(['ages', 'names'], dtype='object')\n"
     ]
    }
   ],
   "source": [
    "# accessing the column headers (keys) using the .keys() method\n",
    "headers = df.keys()\n",
    "\n",
    "print(headers)"
   ]
  },
  {
   "cell_type": "code",
   "execution_count": 138,
   "metadata": {},
   "outputs": [
    {
     "name": "stdout",
     "output_type": "stream",
     "text": [
      "(7, 2)\n"
     ]
    }
   ],
   "source": [
    "# checking the shape, which is the number of records and columns\n",
    "print( df.shape )"
   ]
  },
  {
   "cell_type": "code",
   "execution_count": 139,
   "metadata": {
    "scrolled": true
   },
   "outputs": [
    {
     "data": {
      "text/html": [
       "<div>\n",
       "<style>\n",
       "    .dataframe thead tr:only-child th {\n",
       "        text-align: right;\n",
       "    }\n",
       "\n",
       "    .dataframe thead th {\n",
       "        text-align: left;\n",
       "    }\n",
       "\n",
       "    .dataframe tbody tr th {\n",
       "        vertical-align: top;\n",
       "    }\n",
       "</style>\n",
       "<table border=\"1\" class=\"dataframe\">\n",
       "  <thead>\n",
       "    <tr style=\"text-align: right;\">\n",
       "      <th></th>\n",
       "      <th>ages</th>\n",
       "    </tr>\n",
       "  </thead>\n",
       "  <tbody>\n",
       "    <tr>\n",
       "      <th>count</th>\n",
       "      <td>7.000000</td>\n",
       "    </tr>\n",
       "    <tr>\n",
       "      <th>mean</th>\n",
       "      <td>26.000000</td>\n",
       "    </tr>\n",
       "    <tr>\n",
       "      <th>std</th>\n",
       "      <td>6.531973</td>\n",
       "    </tr>\n",
       "    <tr>\n",
       "      <th>min</th>\n",
       "      <td>18.000000</td>\n",
       "    </tr>\n",
       "    <tr>\n",
       "      <th>25%</th>\n",
       "      <td>21.000000</td>\n",
       "    </tr>\n",
       "    <tr>\n",
       "      <th>50%</th>\n",
       "      <td>25.000000</td>\n",
       "    </tr>\n",
       "    <tr>\n",
       "      <th>75%</th>\n",
       "      <td>31.000000</td>\n",
       "    </tr>\n",
       "    <tr>\n",
       "      <th>max</th>\n",
       "      <td>35.000000</td>\n",
       "    </tr>\n",
       "  </tbody>\n",
       "</table>\n",
       "</div>"
      ],
      "text/plain": [
       "            ages\n",
       "count   7.000000\n",
       "mean   26.000000\n",
       "std     6.531973\n",
       "min    18.000000\n",
       "25%    21.000000\n",
       "50%    25.000000\n",
       "75%    31.000000\n",
       "max    35.000000"
      ]
     },
     "execution_count": 139,
     "metadata": {},
     "output_type": "execute_result"
    }
   ],
   "source": [
    "# checking the general statistics of the DataFrame using .describe(), only works on numerical columns\n",
    "df.describe()"
   ]
  },
  {
   "cell_type": "code",
   "execution_count": 140,
   "metadata": {},
   "outputs": [
    {
     "data": {
      "text/html": [
       "<div>\n",
       "<style>\n",
       "    .dataframe thead tr:only-child th {\n",
       "        text-align: right;\n",
       "    }\n",
       "\n",
       "    .dataframe thead th {\n",
       "        text-align: left;\n",
       "    }\n",
       "\n",
       "    .dataframe tbody tr th {\n",
       "        vertical-align: top;\n",
       "    }\n",
       "</style>\n",
       "<table border=\"1\" class=\"dataframe\">\n",
       "  <thead>\n",
       "    <tr style=\"text-align: right;\">\n",
       "      <th></th>\n",
       "      <th>ages</th>\n",
       "      <th>names</th>\n",
       "    </tr>\n",
       "  </thead>\n",
       "  <tbody>\n",
       "    <tr>\n",
       "      <th>6</th>\n",
       "      <td>18</td>\n",
       "      <td>Rebecca</td>\n",
       "    </tr>\n",
       "    <tr>\n",
       "      <th>5</th>\n",
       "      <td>20</td>\n",
       "      <td>Tyler</td>\n",
       "    </tr>\n",
       "    <tr>\n",
       "      <th>2</th>\n",
       "      <td>22</td>\n",
       "      <td>Sandy</td>\n",
       "    </tr>\n",
       "    <tr>\n",
       "      <th>0</th>\n",
       "      <td>25</td>\n",
       "      <td>Jess</td>\n",
       "    </tr>\n",
       "    <tr>\n",
       "      <th>3</th>\n",
       "      <td>29</td>\n",
       "      <td>Ted</td>\n",
       "    </tr>\n",
       "  </tbody>\n",
       "</table>\n",
       "</div>"
      ],
      "text/plain": [
       "   ages    names\n",
       "6    18  Rebecca\n",
       "5    20    Tyler\n",
       "2    22    Sandy\n",
       "0    25     Jess\n",
       "3    29      Ted"
      ]
     },
     "execution_count": 140,
     "metadata": {},
     "output_type": "execute_result"
    }
   ],
   "source": [
    "# sort based on a given column, but keep the DataFrame in tact using sort_values()\n",
    "df = df.sort_values(\"ages\")\n",
    "df.head(5)"
   ]
  },
  {
   "cell_type": "code",
   "execution_count": 141,
   "metadata": {},
   "outputs": [
    {
     "name": "stdout",
     "output_type": "stream",
     "text": [
      "6    False\n",
      "5    False\n",
      "2     True\n",
      "0     True\n",
      "3     True\n",
      "4     True\n",
      "1     True\n",
      "Name: ages, dtype: bool\n"
     ]
    }
   ],
   "source": [
    "# using a conditional to create a true/false column to work with\n",
    "can_drink = df[\"ages\"] > 21\n",
    "print(can_drink)"
   ]
  },
  {
   "cell_type": "code",
   "execution_count": 142,
   "metadata": {},
   "outputs": [
    {
     "data": {
      "text/html": [
       "<div>\n",
       "<style>\n",
       "    .dataframe thead tr:only-child th {\n",
       "        text-align: right;\n",
       "    }\n",
       "\n",
       "    .dataframe thead th {\n",
       "        text-align: left;\n",
       "    }\n",
       "\n",
       "    .dataframe tbody tr th {\n",
       "        vertical-align: top;\n",
       "    }\n",
       "</style>\n",
       "<table border=\"1\" class=\"dataframe\">\n",
       "  <thead>\n",
       "    <tr style=\"text-align: right;\">\n",
       "      <th></th>\n",
       "      <th>ages</th>\n",
       "      <th>names</th>\n",
       "    </tr>\n",
       "  </thead>\n",
       "  <tbody>\n",
       "    <tr>\n",
       "      <th>2</th>\n",
       "      <td>22</td>\n",
       "      <td>Sandy</td>\n",
       "    </tr>\n",
       "    <tr>\n",
       "      <th>0</th>\n",
       "      <td>25</td>\n",
       "      <td>Jess</td>\n",
       "    </tr>\n",
       "    <tr>\n",
       "      <th>3</th>\n",
       "      <td>29</td>\n",
       "      <td>Ted</td>\n",
       "    </tr>\n",
       "    <tr>\n",
       "      <th>4</th>\n",
       "      <td>33</td>\n",
       "      <td>Barney</td>\n",
       "    </tr>\n",
       "    <tr>\n",
       "      <th>1</th>\n",
       "      <td>35</td>\n",
       "      <td>Jordan</td>\n",
       "    </tr>\n",
       "  </tbody>\n",
       "</table>\n",
       "</div>"
      ],
      "text/plain": [
       "   ages   names\n",
       "2    22   Sandy\n",
       "0    25    Jess\n",
       "3    29     Ted\n",
       "4    33  Barney\n",
       "1    35  Jordan"
      ]
     },
     "execution_count": 142,
     "metadata": {},
     "output_type": "execute_result"
    }
   ],
   "source": [
    "# using subsetting to filter out records and keep DataFrame in tact\n",
    "df[df[\"ages\"] > 21]"
   ]
  },
  {
   "cell_type": "code",
   "execution_count": 171,
   "metadata": {},
   "outputs": [
    {
     "data": {
      "text/html": [
       "<div>\n",
       "<style>\n",
       "    .dataframe thead tr:only-child th {\n",
       "        text-align: right;\n",
       "    }\n",
       "\n",
       "    .dataframe thead th {\n",
       "        text-align: left;\n",
       "    }\n",
       "\n",
       "    .dataframe tbody tr th {\n",
       "        vertical-align: top;\n",
       "    }\n",
       "</style>\n",
       "<table border=\"1\" class=\"dataframe\">\n",
       "  <thead>\n",
       "    <tr style=\"text-align: right;\">\n",
       "      <th></th>\n",
       "      <th>ages</th>\n",
       "      <th>names</th>\n",
       "      <th>tenure</th>\n",
       "      <th>age_group</th>\n",
       "    </tr>\n",
       "  </thead>\n",
       "  <tbody>\n",
       "    <tr>\n",
       "      <th>6</th>\n",
       "      <td>18</td>\n",
       "      <td>Rebecca</td>\n",
       "      <td>4</td>\n",
       "      <td>Teenager</td>\n",
       "    </tr>\n",
       "    <tr>\n",
       "      <th>5</th>\n",
       "      <td>20</td>\n",
       "      <td>Tyler</td>\n",
       "      <td>6</td>\n",
       "      <td>Teenager</td>\n",
       "    </tr>\n",
       "    <tr>\n",
       "      <th>2</th>\n",
       "      <td>22</td>\n",
       "      <td>Sandy</td>\n",
       "      <td>2</td>\n",
       "      <td>Adult</td>\n",
       "    </tr>\n",
       "    <tr>\n",
       "      <th>0</th>\n",
       "      <td>25</td>\n",
       "      <td>Jess</td>\n",
       "      <td>5</td>\n",
       "      <td>Adult</td>\n",
       "    </tr>\n",
       "    <tr>\n",
       "      <th>3</th>\n",
       "      <td>29</td>\n",
       "      <td>Ted</td>\n",
       "      <td>8</td>\n",
       "      <td>Adult</td>\n",
       "    </tr>\n",
       "    <tr>\n",
       "      <th>4</th>\n",
       "      <td>33</td>\n",
       "      <td>Barney</td>\n",
       "      <td>7</td>\n",
       "      <td>Adult</td>\n",
       "    </tr>\n",
       "    <tr>\n",
       "      <th>1</th>\n",
       "      <td>35</td>\n",
       "      <td>Jordan</td>\n",
       "      <td>5</td>\n",
       "      <td>Adult</td>\n",
       "    </tr>\n",
       "  </tbody>\n",
       "</table>\n",
       "</div>"
      ],
      "text/plain": [
       "   ages    names  tenure age_group\n",
       "6    18  Rebecca       4  Teenager\n",
       "5    20    Tyler       6  Teenager\n",
       "2    22    Sandy       2     Adult\n",
       "0    25     Jess       5     Adult\n",
       "3    29      Ted       8     Adult\n",
       "4    33   Barney       7     Adult\n",
       "1    35   Jordan       5     Adult"
      ]
     },
     "execution_count": 171,
     "metadata": {},
     "output_type": "execute_result"
    }
   ],
   "source": [
    "# generating a new column of fake data for each record in the DataFrame\n",
    "random.seed(321)\n",
    "\n",
    "tenure = [ random.randint(0, 10) for x in range( len(df) )]\n",
    "\n",
    "df[\"tenure\"] = tenure    # same as adding a new key-value pair in a dictionary\n",
    "\n",
    "df.head(10)"
   ]
  },
  {
   "cell_type": "code",
   "execution_count": 144,
   "metadata": {},
   "outputs": [
    {
     "data": {
      "text/html": [
       "<div>\n",
       "<style>\n",
       "    .dataframe thead tr:only-child th {\n",
       "        text-align: right;\n",
       "    }\n",
       "\n",
       "    .dataframe thead th {\n",
       "        text-align: left;\n",
       "    }\n",
       "\n",
       "    .dataframe tbody tr th {\n",
       "        vertical-align: top;\n",
       "    }\n",
       "</style>\n",
       "<table border=\"1\" class=\"dataframe\">\n",
       "  <thead>\n",
       "    <tr style=\"text-align: right;\">\n",
       "      <th></th>\n",
       "      <th>ages</th>\n",
       "      <th>names</th>\n",
       "      <th>tenure</th>\n",
       "      <th>age_group</th>\n",
       "    </tr>\n",
       "  </thead>\n",
       "  <tbody>\n",
       "    <tr>\n",
       "      <th>6</th>\n",
       "      <td>18</td>\n",
       "      <td>Rebecca</td>\n",
       "      <td>4</td>\n",
       "      <td>Teenager</td>\n",
       "    </tr>\n",
       "    <tr>\n",
       "      <th>5</th>\n",
       "      <td>20</td>\n",
       "      <td>Tyler</td>\n",
       "      <td>6</td>\n",
       "      <td>Teenager</td>\n",
       "    </tr>\n",
       "    <tr>\n",
       "      <th>2</th>\n",
       "      <td>22</td>\n",
       "      <td>Sandy</td>\n",
       "      <td>2</td>\n",
       "      <td>Adult</td>\n",
       "    </tr>\n",
       "    <tr>\n",
       "      <th>0</th>\n",
       "      <td>25</td>\n",
       "      <td>Jess</td>\n",
       "      <td>5</td>\n",
       "      <td>Adult</td>\n",
       "    </tr>\n",
       "    <tr>\n",
       "      <th>3</th>\n",
       "      <td>29</td>\n",
       "      <td>Ted</td>\n",
       "      <td>8</td>\n",
       "      <td>Adult</td>\n",
       "    </tr>\n",
       "    <tr>\n",
       "      <th>4</th>\n",
       "      <td>33</td>\n",
       "      <td>Barney</td>\n",
       "      <td>7</td>\n",
       "      <td>Adult</td>\n",
       "    </tr>\n",
       "    <tr>\n",
       "      <th>1</th>\n",
       "      <td>35</td>\n",
       "      <td>Jordan</td>\n",
       "      <td>5</td>\n",
       "      <td>Adult</td>\n",
       "    </tr>\n",
       "  </tbody>\n",
       "</table>\n",
       "</div>"
      ],
      "text/plain": [
       "   ages    names  tenure age_group\n",
       "6    18  Rebecca       4  Teenager\n",
       "5    20    Tyler       6  Teenager\n",
       "2    22    Sandy       2     Adult\n",
       "0    25     Jess       5     Adult\n",
       "3    29      Ted       8     Adult\n",
       "4    33   Barney       7     Adult\n",
       "1    35   Jordan       5     Adult"
      ]
     },
     "execution_count": 144,
     "metadata": {},
     "output_type": "execute_result"
    }
   ],
   "source": [
    "# feature engineering a new column from known data using a UDF\n",
    "def ageGroup(age):\n",
    "    return \"Teenager\" if age < 21 else \"Adult\"\n",
    "    \n",
    "df[\"age_group\"] = df[\"ages\"].apply(ageGroup)\n",
    "df.head(10)"
   ]
  },
  {
   "cell_type": "code",
   "execution_count": 173,
   "metadata": {},
   "outputs": [
    {
     "data": {
      "text/html": [
       "<div>\n",
       "<style>\n",
       "    .dataframe thead tr:only-child th {\n",
       "        text-align: right;\n",
       "    }\n",
       "\n",
       "    .dataframe thead th {\n",
       "        text-align: left;\n",
       "    }\n",
       "\n",
       "    .dataframe tbody tr th {\n",
       "        vertical-align: top;\n",
       "    }\n",
       "</style>\n",
       "<table border=\"1\" class=\"dataframe\">\n",
       "  <thead>\n",
       "    <tr style=\"text-align: right;\">\n",
       "      <th></th>\n",
       "      <th>age_group</th>\n",
       "      <th>ages</th>\n",
       "      <th>names</th>\n",
       "      <th>tenure</th>\n",
       "    </tr>\n",
       "  </thead>\n",
       "  <tbody>\n",
       "    <tr>\n",
       "      <th>0</th>\n",
       "      <td>Adult</td>\n",
       "      <td>5</td>\n",
       "      <td>5</td>\n",
       "      <td>5</td>\n",
       "    </tr>\n",
       "    <tr>\n",
       "      <th>1</th>\n",
       "      <td>Teenager</td>\n",
       "      <td>2</td>\n",
       "      <td>2</td>\n",
       "      <td>2</td>\n",
       "    </tr>\n",
       "  </tbody>\n",
       "</table>\n",
       "</div>"
      ],
      "text/plain": [
       "  age_group  ages  names  tenure\n",
       "0     Adult     5      5       5\n",
       "1  Teenager     2      2       2"
      ]
     },
     "execution_count": 173,
     "metadata": {},
     "output_type": "execute_result"
    }
   ],
   "source": [
    "# grouping the records together to count how many records in each group\n",
    "df.groupby(\"age_group\", as_index=False).count().head()"
   ]
  },
  {
   "cell_type": "code",
   "execution_count": 146,
   "metadata": {},
   "outputs": [
    {
     "data": {
      "text/html": [
       "<div>\n",
       "<style>\n",
       "    .dataframe thead tr:only-child th {\n",
       "        text-align: right;\n",
       "    }\n",
       "\n",
       "    .dataframe thead th {\n",
       "        text-align: left;\n",
       "    }\n",
       "\n",
       "    .dataframe tbody tr th {\n",
       "        vertical-align: top;\n",
       "    }\n",
       "</style>\n",
       "<table border=\"1\" class=\"dataframe\">\n",
       "  <thead>\n",
       "    <tr style=\"text-align: right;\">\n",
       "      <th></th>\n",
       "      <th>age_group</th>\n",
       "      <th>ages</th>\n",
       "      <th>tenure</th>\n",
       "    </tr>\n",
       "  </thead>\n",
       "  <tbody>\n",
       "    <tr>\n",
       "      <th>0</th>\n",
       "      <td>Adult</td>\n",
       "      <td>28.8</td>\n",
       "      <td>5.4</td>\n",
       "    </tr>\n",
       "    <tr>\n",
       "      <th>1</th>\n",
       "      <td>Teenager</td>\n",
       "      <td>19.0</td>\n",
       "      <td>5.0</td>\n",
       "    </tr>\n",
       "  </tbody>\n",
       "</table>\n",
       "</div>"
      ],
      "text/plain": [
       "  age_group  ages  tenure\n",
       "0     Adult  28.8     5.4\n",
       "1  Teenager  19.0     5.0"
      ]
     },
     "execution_count": 146,
     "metadata": {},
     "output_type": "execute_result"
    }
   ],
   "source": [
    "# grouping the data to average out the data\n",
    "df.groupby(\"age_group\", as_index=False).mean().head()"
   ]
  },
  {
   "cell_type": "code",
   "execution_count": 147,
   "metadata": {},
   "outputs": [
    {
     "data": {
      "text/html": [
       "<div>\n",
       "<style>\n",
       "    .dataframe thead tr:only-child th {\n",
       "        text-align: right;\n",
       "    }\n",
       "\n",
       "    .dataframe thead th {\n",
       "        text-align: left;\n",
       "    }\n",
       "\n",
       "    .dataframe tbody tr th {\n",
       "        vertical-align: top;\n",
       "    }\n",
       "</style>\n",
       "<table border=\"1\" class=\"dataframe\">\n",
       "  <thead>\n",
       "    <tr style=\"text-align: right;\">\n",
       "      <th></th>\n",
       "      <th>age_group</th>\n",
       "      <th>tenure</th>\n",
       "      <th>ages</th>\n",
       "      <th>names</th>\n",
       "    </tr>\n",
       "  </thead>\n",
       "  <tbody>\n",
       "    <tr>\n",
       "      <th>0</th>\n",
       "      <td>Adult</td>\n",
       "      <td>2</td>\n",
       "      <td>1</td>\n",
       "      <td>1</td>\n",
       "    </tr>\n",
       "    <tr>\n",
       "      <th>1</th>\n",
       "      <td>Adult</td>\n",
       "      <td>5</td>\n",
       "      <td>2</td>\n",
       "      <td>2</td>\n",
       "    </tr>\n",
       "    <tr>\n",
       "      <th>2</th>\n",
       "      <td>Adult</td>\n",
       "      <td>7</td>\n",
       "      <td>1</td>\n",
       "      <td>1</td>\n",
       "    </tr>\n",
       "    <tr>\n",
       "      <th>3</th>\n",
       "      <td>Adult</td>\n",
       "      <td>8</td>\n",
       "      <td>1</td>\n",
       "      <td>1</td>\n",
       "    </tr>\n",
       "    <tr>\n",
       "      <th>4</th>\n",
       "      <td>Teenager</td>\n",
       "      <td>4</td>\n",
       "      <td>1</td>\n",
       "      <td>1</td>\n",
       "    </tr>\n",
       "    <tr>\n",
       "      <th>5</th>\n",
       "      <td>Teenager</td>\n",
       "      <td>6</td>\n",
       "      <td>1</td>\n",
       "      <td>1</td>\n",
       "    </tr>\n",
       "  </tbody>\n",
       "</table>\n",
       "</div>"
      ],
      "text/plain": [
       "  age_group  tenure  ages  names\n",
       "0     Adult       2     1      1\n",
       "1     Adult       5     2      2\n",
       "2     Adult       7     1      1\n",
       "3     Adult       8     1      1\n",
       "4  Teenager       4     1      1\n",
       "5  Teenager       6     1      1"
      ]
     },
     "execution_count": 147,
     "metadata": {},
     "output_type": "execute_result"
    }
   ],
   "source": [
    "# grouping information by their age group, then by their tenure\n",
    "df.groupby(['age_group', 'tenure'], as_index=False).count().head(10)"
   ]
  },
  {
   "cell_type": "code",
   "execution_count": 148,
   "metadata": {},
   "outputs": [
    {
     "data": {
      "text/html": [
       "<div>\n",
       "<style>\n",
       "    .dataframe thead tr:only-child th {\n",
       "        text-align: right;\n",
       "    }\n",
       "\n",
       "    .dataframe thead th {\n",
       "        text-align: left;\n",
       "    }\n",
       "\n",
       "    .dataframe tbody tr th {\n",
       "        vertical-align: top;\n",
       "    }\n",
       "</style>\n",
       "<table border=\"1\" class=\"dataframe\">\n",
       "  <thead>\n",
       "    <tr style=\"text-align: right;\">\n",
       "      <th></th>\n",
       "      <th>ages</th>\n",
       "      <th>names</th>\n",
       "      <th>tenure</th>\n",
       "      <th>age_group</th>\n",
       "    </tr>\n",
       "  </thead>\n",
       "  <tbody>\n",
       "    <tr>\n",
       "      <th>6</th>\n",
       "      <td>18</td>\n",
       "      <td>Rebecca</td>\n",
       "      <td>4</td>\n",
       "      <td>Teenager</td>\n",
       "    </tr>\n",
       "    <tr>\n",
       "      <th>5</th>\n",
       "      <td>20</td>\n",
       "      <td>Tyler</td>\n",
       "      <td>6</td>\n",
       "      <td>Teenager</td>\n",
       "    </tr>\n",
       "    <tr>\n",
       "      <th>2</th>\n",
       "      <td>22</td>\n",
       "      <td>Sandy</td>\n",
       "      <td>2</td>\n",
       "      <td>Adult</td>\n",
       "    </tr>\n",
       "    <tr>\n",
       "      <th>0</th>\n",
       "      <td>25</td>\n",
       "      <td>Jess</td>\n",
       "      <td>5</td>\n",
       "      <td>Adult</td>\n",
       "    </tr>\n",
       "    <tr>\n",
       "      <th>3</th>\n",
       "      <td>29</td>\n",
       "      <td>Ted</td>\n",
       "      <td>8</td>\n",
       "      <td>Adult</td>\n",
       "    </tr>\n",
       "    <tr>\n",
       "      <th>4</th>\n",
       "      <td>33</td>\n",
       "      <td>Barney</td>\n",
       "      <td>7</td>\n",
       "      <td>Adult</td>\n",
       "    </tr>\n",
       "    <tr>\n",
       "      <th>1</th>\n",
       "      <td>35</td>\n",
       "      <td>Jordan</td>\n",
       "      <td>5</td>\n",
       "      <td>Adult</td>\n",
       "    </tr>\n",
       "    <tr>\n",
       "      <th>7</th>\n",
       "      <td>28</td>\n",
       "      <td>Jess</td>\n",
       "      <td>2</td>\n",
       "      <td>Adult</td>\n",
       "    </tr>\n",
       "  </tbody>\n",
       "</table>\n",
       "</div>"
      ],
      "text/plain": [
       "   ages    names  tenure age_group\n",
       "6    18  Rebecca       4  Teenager\n",
       "5    20    Tyler       6  Teenager\n",
       "2    22    Sandy       2     Adult\n",
       "0    25     Jess       5     Adult\n",
       "3    29      Ted       8     Adult\n",
       "4    33   Barney       7     Adult\n",
       "1    35   Jordan       5     Adult\n",
       "7    28     Jess       2     Adult"
      ]
     },
     "execution_count": 148,
     "metadata": {},
     "output_type": "execute_result"
    }
   ],
   "source": [
    "# adding a record to the bottom of the DataFrame\n",
    "df.loc[7] = [28, \"Jess\", 2, \"Adult\"]   # add a record\n",
    "df.head(10)"
   ]
  },
  {
   "cell_type": "code",
   "execution_count": 149,
   "metadata": {},
   "outputs": [
    {
     "data": {
      "text/html": [
       "<div>\n",
       "<style>\n",
       "    .dataframe thead tr:only-child th {\n",
       "        text-align: right;\n",
       "    }\n",
       "\n",
       "    .dataframe thead th {\n",
       "        text-align: left;\n",
       "    }\n",
       "\n",
       "    .dataframe tbody tr th {\n",
       "        vertical-align: top;\n",
       "    }\n",
       "</style>\n",
       "<table border=\"1\" class=\"dataframe\">\n",
       "  <thead>\n",
       "    <tr style=\"text-align: right;\">\n",
       "      <th></th>\n",
       "      <th>ages</th>\n",
       "      <th>names</th>\n",
       "      <th>tenure</th>\n",
       "      <th>age_group</th>\n",
       "    </tr>\n",
       "  </thead>\n",
       "  <tbody>\n",
       "    <tr>\n",
       "      <th>6</th>\n",
       "      <td>18</td>\n",
       "      <td>Rebecca</td>\n",
       "      <td>4</td>\n",
       "      <td>Teenager</td>\n",
       "    </tr>\n",
       "    <tr>\n",
       "      <th>5</th>\n",
       "      <td>20</td>\n",
       "      <td>Tyler</td>\n",
       "      <td>6</td>\n",
       "      <td>Teenager</td>\n",
       "    </tr>\n",
       "    <tr>\n",
       "      <th>2</th>\n",
       "      <td>22</td>\n",
       "      <td>Sandy</td>\n",
       "      <td>2</td>\n",
       "      <td>Adult</td>\n",
       "    </tr>\n",
       "    <tr>\n",
       "      <th>0</th>\n",
       "      <td>25</td>\n",
       "      <td>Jess</td>\n",
       "      <td>5</td>\n",
       "      <td>Adult</td>\n",
       "    </tr>\n",
       "    <tr>\n",
       "      <th>3</th>\n",
       "      <td>29</td>\n",
       "      <td>Ted</td>\n",
       "      <td>8</td>\n",
       "      <td>Adult</td>\n",
       "    </tr>\n",
       "    <tr>\n",
       "      <th>4</th>\n",
       "      <td>33</td>\n",
       "      <td>Barney</td>\n",
       "      <td>7</td>\n",
       "      <td>Adult</td>\n",
       "    </tr>\n",
       "    <tr>\n",
       "      <th>1</th>\n",
       "      <td>35</td>\n",
       "      <td>Jordan</td>\n",
       "      <td>5</td>\n",
       "      <td>Adult</td>\n",
       "    </tr>\n",
       "  </tbody>\n",
       "</table>\n",
       "</div>"
      ],
      "text/plain": [
       "   ages    names  tenure age_group\n",
       "6    18  Rebecca       4  Teenager\n",
       "5    20    Tyler       6  Teenager\n",
       "2    22    Sandy       2     Adult\n",
       "0    25     Jess       5     Adult\n",
       "3    29      Ted       8     Adult\n",
       "4    33   Barney       7     Adult\n",
       "1    35   Jordan       5     Adult"
      ]
     },
     "execution_count": 149,
     "metadata": {},
     "output_type": "execute_result"
    }
   ],
   "source": [
    "# removing duplicates based on same names\n",
    "df = df.drop_duplicates(subset=\"names\")\n",
    "df.head(10)"
   ]
  },
  {
   "cell_type": "code",
   "execution_count": 168,
   "metadata": {},
   "outputs": [
    {
     "data": {
      "text/html": [
       "<div>\n",
       "<style>\n",
       "    .dataframe thead tr:only-child th {\n",
       "        text-align: right;\n",
       "    }\n",
       "\n",
       "    .dataframe thead th {\n",
       "        text-align: left;\n",
       "    }\n",
       "\n",
       "    .dataframe tbody tr th {\n",
       "        vertical-align: top;\n",
       "    }\n",
       "</style>\n",
       "<table border=\"1\" class=\"dataframe\">\n",
       "  <thead>\n",
       "    <tr style=\"text-align: right;\">\n",
       "      <th></th>\n",
       "      <th>names</th>\n",
       "      <th>ratings</th>\n",
       "    </tr>\n",
       "  </thead>\n",
       "  <tbody>\n",
       "    <tr>\n",
       "      <th>0</th>\n",
       "      <td>Jess</td>\n",
       "      <td>10</td>\n",
       "    </tr>\n",
       "    <tr>\n",
       "      <th>1</th>\n",
       "      <td>Tyler</td>\n",
       "      <td>9</td>\n",
       "    </tr>\n",
       "    <tr>\n",
       "      <th>2</th>\n",
       "      <td>Ted</td>\n",
       "      <td>6</td>\n",
       "    </tr>\n",
       "  </tbody>\n",
       "</table>\n",
       "</div>"
      ],
      "text/plain": [
       "   names  ratings\n",
       "0   Jess       10\n",
       "1  Tyler        9\n",
       "2    Ted        6"
      ]
     },
     "execution_count": 168,
     "metadata": {},
     "output_type": "execute_result"
    }
   ],
   "source": [
    "# creating another fake DataFrame to work with, having same names and a new ratings column\n",
    "ratings = {\n",
    "    \"names\": [\"Jess\", \"Tyler\", \"Ted\"],\n",
    "    \"ratings\": [10, 9, 6]\n",
    "}\n",
    "\n",
    "ratings = df.from_dict(ratings)\n",
    "ratings.head()"
   ]
  },
  {
   "cell_type": "code",
   "execution_count": 169,
   "metadata": {},
   "outputs": [
    {
     "data": {
      "text/html": [
       "<div>\n",
       "<style>\n",
       "    .dataframe thead tr:only-child th {\n",
       "        text-align: right;\n",
       "    }\n",
       "\n",
       "    .dataframe thead th {\n",
       "        text-align: left;\n",
       "    }\n",
       "\n",
       "    .dataframe tbody tr th {\n",
       "        vertical-align: top;\n",
       "    }\n",
       "</style>\n",
       "<table border=\"1\" class=\"dataframe\">\n",
       "  <thead>\n",
       "    <tr style=\"text-align: right;\">\n",
       "      <th></th>\n",
       "      <th>ages</th>\n",
       "      <th>names</th>\n",
       "      <th>tenure</th>\n",
       "      <th>age_group</th>\n",
       "      <th>ratings</th>\n",
       "    </tr>\n",
       "  </thead>\n",
       "  <tbody>\n",
       "    <tr>\n",
       "      <th>0</th>\n",
       "      <td>20</td>\n",
       "      <td>Tyler</td>\n",
       "      <td>6</td>\n",
       "      <td>Teenager</td>\n",
       "      <td>9</td>\n",
       "    </tr>\n",
       "    <tr>\n",
       "      <th>1</th>\n",
       "      <td>25</td>\n",
       "      <td>Jess</td>\n",
       "      <td>5</td>\n",
       "      <td>Adult</td>\n",
       "      <td>10</td>\n",
       "    </tr>\n",
       "    <tr>\n",
       "      <th>2</th>\n",
       "      <td>29</td>\n",
       "      <td>Ted</td>\n",
       "      <td>8</td>\n",
       "      <td>Adult</td>\n",
       "      <td>6</td>\n",
       "    </tr>\n",
       "  </tbody>\n",
       "</table>\n",
       "</div>"
      ],
      "text/plain": [
       "   ages  names  tenure age_group  ratings\n",
       "0    20  Tyler       6  Teenager        9\n",
       "1    25   Jess       5     Adult       10\n",
       "2    29    Ted       8     Adult        6"
      ]
     },
     "execution_count": 169,
     "metadata": {},
     "output_type": "execute_result"
    }
   ],
   "source": [
    "# performing an inner join with our df and ratings DataFrames based on names\n",
    "matched_ratings = df.merge(ratings, on=\"names\", how=\"inner\")\n",
    "matched_ratings.head()"
   ]
  },
  {
   "cell_type": "code",
   "execution_count": 170,
   "metadata": {},
   "outputs": [
    {
     "data": {
      "text/html": [
       "<div>\n",
       "<style>\n",
       "    .dataframe thead tr:only-child th {\n",
       "        text-align: right;\n",
       "    }\n",
       "\n",
       "    .dataframe thead th {\n",
       "        text-align: left;\n",
       "    }\n",
       "\n",
       "    .dataframe tbody tr th {\n",
       "        vertical-align: top;\n",
       "    }\n",
       "</style>\n",
       "<table border=\"1\" class=\"dataframe\">\n",
       "  <thead>\n",
       "    <tr style=\"text-align: right;\">\n",
       "      <th></th>\n",
       "      <th>ages</th>\n",
       "      <th>names</th>\n",
       "      <th>tenure</th>\n",
       "      <th>age_group</th>\n",
       "      <th>ratings</th>\n",
       "    </tr>\n",
       "  </thead>\n",
       "  <tbody>\n",
       "    <tr>\n",
       "      <th>0</th>\n",
       "      <td>18</td>\n",
       "      <td>Rebecca</td>\n",
       "      <td>4</td>\n",
       "      <td>Teenager</td>\n",
       "      <td>NaN</td>\n",
       "    </tr>\n",
       "    <tr>\n",
       "      <th>1</th>\n",
       "      <td>20</td>\n",
       "      <td>Tyler</td>\n",
       "      <td>6</td>\n",
       "      <td>Teenager</td>\n",
       "      <td>9.0</td>\n",
       "    </tr>\n",
       "    <tr>\n",
       "      <th>2</th>\n",
       "      <td>22</td>\n",
       "      <td>Sandy</td>\n",
       "      <td>2</td>\n",
       "      <td>Adult</td>\n",
       "      <td>NaN</td>\n",
       "    </tr>\n",
       "    <tr>\n",
       "      <th>3</th>\n",
       "      <td>25</td>\n",
       "      <td>Jess</td>\n",
       "      <td>5</td>\n",
       "      <td>Adult</td>\n",
       "      <td>10.0</td>\n",
       "    </tr>\n",
       "    <tr>\n",
       "      <th>4</th>\n",
       "      <td>29</td>\n",
       "      <td>Ted</td>\n",
       "      <td>8</td>\n",
       "      <td>Adult</td>\n",
       "      <td>6.0</td>\n",
       "    </tr>\n",
       "    <tr>\n",
       "      <th>5</th>\n",
       "      <td>33</td>\n",
       "      <td>Barney</td>\n",
       "      <td>7</td>\n",
       "      <td>Adult</td>\n",
       "      <td>NaN</td>\n",
       "    </tr>\n",
       "    <tr>\n",
       "      <th>6</th>\n",
       "      <td>35</td>\n",
       "      <td>Jordan</td>\n",
       "      <td>5</td>\n",
       "      <td>Adult</td>\n",
       "      <td>NaN</td>\n",
       "    </tr>\n",
       "  </tbody>\n",
       "</table>\n",
       "</div>"
      ],
      "text/plain": [
       "   ages    names  tenure age_group  ratings\n",
       "0    18  Rebecca       4  Teenager      NaN\n",
       "1    20    Tyler       6  Teenager      9.0\n",
       "2    22    Sandy       2     Adult      NaN\n",
       "3    25     Jess       5     Adult     10.0\n",
       "4    29      Ted       8     Adult      6.0\n",
       "5    33   Barney       7     Adult      NaN\n",
       "6    35   Jordan       5     Adult      NaN"
      ]
     },
     "execution_count": 170,
     "metadata": {},
     "output_type": "execute_result"
    }
   ],
   "source": [
    "all_ratings = df.merge(ratings, on=\"names\", how=\"outer\")\n",
    "all_ratings.head(10)"
   ]
  },
  {
   "cell_type": "markdown",
   "metadata": {},
   "source": [
    "# Matplotlib"
   ]
  },
  {
   "cell_type": "code",
   "execution_count": 175,
   "metadata": {
    "collapsed": true
   },
   "outputs": [],
   "source": [
    "# importing the matplotlib library\n",
    "from matplotlib import pyplot as plt      # industry standard name of plt when importing"
   ]
  },
  {
   "cell_type": "code",
   "execution_count": 305,
   "metadata": {},
   "outputs": [
    {
     "data": {
      "image/png": "[encoded data removed]",
      "text/plain": [
       "<Figure size 432x288 with 1 Axes>"
      ]
     },
     "metadata": {},
     "output_type": "display_data"
    }
   ],
   "source": [
    "# creating a line plot using x and y coords\n",
    "\n",
    "x, y = [1600, 1700, 1800, 1900, 2000], [0.2, 0.5, 1.1, 2.2, 7.7]\n",
    "\n",
    "plt.plot(x, y)    # creates the line\n",
    "\n",
    "plt.title('World Population Over Time')\n",
    "plt.xlabel('Year')\n",
    "plt.ylabel('Population (billions)')\n",
    "\n",
    "plt.show()"
   ]
  },
  {
   "cell_type": "code",
   "execution_count": 303,
   "metadata": {},
   "outputs": [
    {
     "data": {
      "image/png": "[encoded data removed]",
      "text/plain": [
       "<Figure size 432x288 with 1 Axes>"
      ]
     },
     "metadata": {},
     "output_type": "display_data"
    }
   ],
   "source": [
    "# creating a line plot with multiple lines\n",
    "\n",
    "x1, y1 = [1600, 1700, 1800, 1900, 2000], [0.2, 0.5, 1.1, 2.2, 7.7]\n",
    "x2, y2 = [1600, 1700, 1800, 1900, 2000], [1, 1, 2, 3, 4]\n",
    "\n",
    "plt.plot(x1, y1, 'rx-', label='Actual')    # create a red solid line with x dots\n",
    "plt.plot(x2, y2, 'bo--', label='Fake')   # create a blue dashed line with circle dots\n",
    "\n",
    "plt.title('World Population Over Time')\n",
    "plt.xlabel('Year')\n",
    "plt.ylabel('Population (billions)')\n",
    "plt.legend()\n",
    "\n",
    "plt.show()"
   ]
  },
  {
   "cell_type": "code",
   "execution_count": 301,
   "metadata": {},
   "outputs": [
    {
     "data": {
      "image/png": "[encoded data removed]",
      "text/plain": [
       "<Figure size 432x288 with 1 Axes>"
      ]
     },
     "metadata": {},
     "output_type": "display_data"
    }
   ],
   "source": [
    "# creating a bar plot using x and y coords\n",
    "\n",
    "num_people, categories = [4, 8, 3, 6, 2], [\"Comedy\", \"Action\", \"Thriller\", \"Romance\", \"Horror\"]\n",
    "\n",
    "plt.bar(categories, num_people)\n",
    "\n",
    "plt.title(\"Favorite Movie Category\", fontsize=24)\n",
    "plt.xlabel(\"Category\", fontsize=16)\n",
    "plt.ylabel(\"# of People\", fontsize=16)\n",
    "plt.xticks(fontname=\"Fantasy\")\n",
    "plt.yticks(fontname=\"Fantasy\")\n",
    "\n",
    "plt.show()"
   ]
  },
  {
   "cell_type": "code",
   "execution_count": 299,
   "metadata": {},
   "outputs": [
    {
     "data": {
      "image/png": "[encoded data removed]",
      "text/plain": [
       "<Figure size 1080x576 with 1 Axes>"
      ]
     },
     "metadata": {},
     "output_type": "display_data"
    }
   ],
   "source": [
    "# creating a box plot - showing height data for male-female\n",
    "\n",
    "males = [72, 68, 65, 77, 73, 71, 69]\n",
    "females = [60, 65, 68, 61, 63, 64]\n",
    "heights = [males, females]\n",
    "\n",
    "plt.figure(figsize=(15, 8))\n",
    "plt.boxplot(heights)\n",
    "\n",
    "plt.xticks([1, 2], [\"Male\", \"Female\"])\n",
    "plt.title(\"Height by Gender\", fontsize=22)\n",
    "plt.ylabel(\"Height (inches)\", fontsize=14)\n",
    "plt.xlabel('Gender', fontsize=14)\n",
    "\n",
    "plt.show()"
   ]
  },
  {
   "cell_type": "code",
   "execution_count": 297,
   "metadata": {},
   "outputs": [
    {
     "data": {
      "image/png": "[encoded data removed]",
      "text/plain": [
       "<Figure size 432x288 with 1 Axes>"
      ]
     },
     "metadata": {},
     "output_type": "display_data"
    }
   ],
   "source": [
    "# creating a scatter plot to represent height-weight distribution\n",
    "from random import randint\n",
    "random.seed(2)\n",
    "\n",
    "height = [ randint(58, 78) for x in range(20) ]   # 20 records between 4'10\" and 6'8\"\n",
    "weight = [ randint(90, 250) for x in range(20) ]  # 20 records between 90lbs. and 250lbs.\n",
    "\n",
    "plt.scatter(weight, height)\n",
    "\n",
    "plt.title(\"Height-Weight Distribution\")\n",
    "plt.xlabel(\"Weight (lbs)\")\n",
    "plt.ylabel(\"Height (inches)\")\n",
    "\n",
    "plt.show()"
   ]
  },
  {
   "cell_type": "code",
   "execution_count": 326,
   "metadata": {},
   "outputs": [
    {
     "data": {
      "image/png": "[encoded data removed]",
      "text/plain": [
       "<Figure size 432x288 with 1 Axes>"
      ]
     },
     "metadata": {},
     "output_type": "display_data"
    }
   ],
   "source": [
    "# creating a histogram to show age data for a fake population\n",
    "import numpy as np\n",
    "np.random.seed(5)\n",
    "\n",
    "ages = [ np.random.normal(loc=40, scale=10) for x in range(1000) ]    # ages centrally distributed around 40\n",
    "\n",
    "plt.hist(ages, bins=45)\n",
    "\n",
    "plt.title(\"Ages per Population\")\n",
    "plt.xlabel(\"Age\")\n",
    "plt.ylabel(\"# of People\")\n",
    "\n",
    "plt.savefig('figure10-6.jpg')\n",
    "\n",
    "plt.show()"
   ]
  },
  {
   "cell_type": "code",
   "execution_count": 335,
   "metadata": {},
   "outputs": [
    {
     "data": {
      "image/png": "[encoded data removed]",
      "text/plain": [
       "<Figure size 432x288 with 1 Axes>"
      ]
     },
     "metadata": {},
     "output_type": "display_data"
    },
    {
     "data": {
      "image/png": "[encoded data removed]",
      "text/plain": [
       "<Figure size 432x288 with 1 Axes>"
      ]
     },
     "metadata": {},
     "output_type": "display_data"
    },
    {
     "data": {
      "image/png": "[encoded data removed]",
      "text/plain": [
       "<Figure size 432x288 with 1 Axes>"
      ]
     },
     "metadata": {},
     "output_type": "display_data"
    }
   ],
   "source": [
    "# showing the importance of histogram's to display central distribution\n",
    "\n",
    "florida = [ np.random.normal(loc=60, scale=15) for x in range(1000) ]\n",
    "california = [ np.random.normal(loc=35, scale=5) for x in range(1000) ]\n",
    "\n",
    "# chart 1\n",
    "plt.hist(florida, bins=45, color='r', alpha=0.4)\n",
    "plt.show()\n",
    "\n",
    "# chart 2\n",
    "plt.hist(california, bins=45, color='b', alpha=0.4)\n",
    "plt.show()\n",
    "\n",
    "\n",
    "# chart 3\n",
    "plt.hist(florida, bins=45, color='r', alpha=0.4)\n",
    "plt.hist(california, bins=45, color='b', alpha=0.4)\n",
    "plt.savefig('figure10-7.jpg')\n",
    "plt.show()"
   ]
  },
  {
   "cell_type": "code",
   "execution_count": 270,
   "metadata": {
    "collapsed": true
   },
   "outputs": [],
   "source": [
    "# using savefig method to save the chart as a jpg to the local folder\n",
    "x, y = [1600, 1700, 1800, 1900, 2000], [0.2, 0.5, 1.1, 2.2, 7.7]\n",
    "\n",
    "plt.plot(x, y, 'bo-')    # creates the line\n",
    "\n",
    "plt.title('World Population Over Time')\n",
    "plt.xlabel('Year')\n",
    "plt.ylabel('Population (billions)')\n",
    "\n",
    "plt.savefig(\"population.jpg\")"
   ]
  },
  {
   "cell_type": "code",
   "execution_count": 293,
   "metadata": {},
   "outputs": [
    {
     "data": {
      "image/png": "[encoded data removed]",
      "text/plain": [
       "<Figure size 432x288 with 2 Axes>"
      ]
     },
     "metadata": {},
     "output_type": "display_data"
    }
   ],
   "source": [
    "# creating a scatter plot to represent height-weight distribution\n",
    "from random import randint\n",
    "random.seed(2)\n",
    "\n",
    "height = [ randint(58, 78) for x in range(20) ]   # 20 records between 4'10\" and 6'8\"\n",
    "weight = [ randint(90, 250) for x in range(20) ]  # 20 records between 90lbs. and 250lbs.\n",
    "age = [ randint(18, 65) for x in range(20) ]      # 20 records between 18 and 65 years old\n",
    "\n",
    "plt.scatter(weight, height, c=age)\n",
    "\n",
    "plt.title(\"Height-Weight Distribution\")\n",
    "plt.xlabel(\"Weight (lbs)\")\n",
    "plt.ylabel(\"Height (inches)\")\n",
    "plt.colorbar(label=\"Age\")      # adds color bar to right side\n",
    "\n",
    "plt.show()"
   ]
  },
  {
   "cell_type": "markdown",
   "metadata": {},
   "source": [
    "# Web Scraping"
   ]
  },
  {
   "cell_type": "code",
   "execution_count": 337,
   "metadata": {
    "collapsed": true
   },
   "outputs": [],
   "source": [
    "# importing the beautiful soup and requests library\n",
    "from bs4 import BeautifulSoup\n",
    "import requests"
   ]
  },
  {
   "cell_type": "code",
   "execution_count": 379,
   "metadata": {},
   "outputs": [
    {
     "name": "stdout",
     "output_type": "stream",
     "text": [
      "<Response [200]>\n"
     ]
    }
   ],
   "source": [
    "# performing a request and outputting the status code\n",
    "\n",
    "page = requests.get('http://www.arthurleej.com/e-love.html')\n",
    "\n",
    "print(page)"
   ]
  },
  {
   "cell_type": "code",
   "execution_count": 381,
   "metadata": {},
   "outputs": [
    {
     "name": "stdout",
     "output_type": "stream",
     "text": [
      "b'<!DOCTYPE HTML PUBLIC \"-//W3C//DTD HTML 3.2 Final//EN\">\\r<html>\\r<head>\\r\\t<title>Essay on Love by Arthur Lee Jacobson</title>\\r<meta name=\"description\" content=\"Trees,gardening, wild and domestic plant life are the specialty of author Arthur Lee Jacobson.\">\\r<meta name=\"keywords\" content=\"trees, gardening, wild plants, domestic plants, gardening author, gardening books, Arthur Lee Jacobson, A L J, A L Jacobson, Arthur Jacobson, arthur lee, plants, flowers, seattle, washington\">\\r<meta name=\"resource-type\" content=\"document\">\\r<meta name=\"generator\" content=\"BBEdit 4.5\">\\r<meta name=\"robots\" content=\"all\">\\r<meta name=\"classification\" content=\"Gardening\">\\r<meta name=\"distribution\" content=\"global\">\\r<meta name=\"rating\" content=\"general\">\\r<meta name=\"copyright\" content=\"2001 Arthur Lee Jacobson\">\\r<meta name=\"author\" content=\"eriktyme@eriktyme.com\">\\r<meta name=\"language\" content=\"en-us\">\\r</head>\\r<body background=\"images/background1a.jpg\" bgcolor=\"#FFFFCC\" text=\"#000000\" link=\"#0000FF\" alink=\"#33CC33\" vlink=\"#FF00FF\">\\r<! -- #include virtual=\"/includes/header.html\" -- >\\r<br><center><table border=\"0\" cellspacing=\"2\" cellpadding=\"1\">\\r\\t<tr>\\r\\t\\t<td width=\"480\" align=\"center\" valign=\"top\">\\r<table border=\"0\" cellspacing=\"2\" cellpadding=\"1\">\\r\\t<tr>\\r\\t\\t<td width=\"480\" align=\"center\" valign=\"top\"><font size=\"5\"><b>Love</b></font></td>\\r\\t</tr>\\r\\t<tr>\\r\\t\\t<td width=\"480\" align=\"left\" valign=\"top\"><font size=\"3\"><b>&nbsp;&nbsp;&nbsp;&nbsp;Of the fourteen essays I\\'m writing, only this one treats an emotion. That love is the most important emotion is the deduction. I think other emotions may be as important, but are not so powerfully moving or interesting to most of us. Love is exciting. There is no need to justify choosing to write about it. Are not most songs love songs? Are not most novels stories featuring love?</b></font></td>\\r\\t</tr>\\r\\t<tr>\\r\\t\\t<td width=\"480\" align=\"left\" valign=\"top\"><font size=\"3\"><b>&nbsp;&nbsp;&nbsp;&nbsp;Love in its broad sense is the feeling of strong attraction, and often attachment and protection. It is felt towards other people, towards pets, towards inanimate objects, towards abstractions such as patriotism, religious matters, hobbies, and I suppose nearly everything. It is multifaceted, and includes ordinary self-love, chivalrous love, carnal or sexual love, friendly love, family love. It is an emotion that is closely related to certain others, such as hope. At its simplest level it is what we strongly like.</b></font></td>\\r\\t</tr>\\r\\t<tr>\\r\\t\\t<td width=\"480\" align=\"left\" valign=\"top\"><font size=\"3\"><b>&nbsp;&nbsp;&nbsp;&nbsp;I have a hunch that love, like the rose, owes much of its appeal to our mainstream Western culture -- and that in some other societies it is by no means such a big deal. Somehow, especially in recent centuries, the notion of romantic love has become elevated far more than it used to be. Why this has happened is for social historians to explain; I don\\'t know. I will merely say that if one reads the ancient Greeks and Romans, then it is obvious that today love is relatively more significant in our culture. A plethora of differences exist between us and people 2,000 years ago. That doesn\\'t invalidate my observation that we moderns rate love more importantly now than our ancestors used to.</b></font></td>\\r\\t</tr>\\r\\t<tr>\\r\\t\\t<td width=\"480\" align=\"left\" valign=\"top\"><font size=\"3\"><b>&nbsp;&nbsp;&nbsp;&nbsp;It is presumed that sexual attraction, being instinctive, is comparatively constant over the centuries and across cultures. But let\\'s be clear: sexual attraction is only one manifestation of love. One can be sexually aroused and still feel no love, just as a couple can be married and possess no mutual sexual appetite or love. Some people find they can fulfill sexual needs one way, and they love something else, such as a hobby or their work.</b></font></td>\\r\\t</tr>\\r\\t<tr>\\r\\t\\t<td width=\"480\" align=\"left\" valign=\"top\"><font size=\"3\"><b>&nbsp;&nbsp;&nbsp;&nbsp;When sexual desire, or go ahead and call it sexual need, is very strong, it certainly gets called love. To be precise it may be best termed carnal love. Similarly, a glutton loves food, and an addict perversely loves whatever drug or activity he\\'s hooked on. Sexual love, then, is not necessarily anything more than an equivalent of an animal being in heat. On the other hand, if two people share a wholehearted, broad-based love for each other, then their sexual relations may be more an expression of their affection than of their instinctive drive.</b></font></td>\\r\\t</tr>\\r\\t<tr>\\r\\t\\t<td width=\"480\" align=\"left\" valign=\"top\"><font size=\"3\"><b>&nbsp;&nbsp;&nbsp;&nbsp;Yes, love and sex are too much confused. It is frightful how many beastly rapes and molestations take place, which are sexual but devoid of love completely. Love can be found thriving far from sex, as in a mother\\'s love for her child, or a religious order\\'s mystical love of doing glory to God, or of the knight\\'s chivalrous love towards his country and rulers. The soldier\\'s courage to defend his family is a kind of love in action. The artist who starves in an attic, living a celibate existence to produce masterpieces, is illuminated by love. Childhood friends who go through life together know love, though not sex, as regards each other. Have I made my point obvious?</b></font></td>\\r\\t</tr>\\r\\t<tr>\\r\\t\\t<td width=\"480\" align=\"left\" valign=\"top\"><font size=\"3\"><b>&nbsp;&nbsp;&nbsp;&nbsp;It is, I\\'m sure. But I\\'m on a roll and don\\'t want to stop yet. Love\\'s antithesis is hate. Hate is often associated with harm or destruction, even death. But again, it is not <i>equal</i> to those. It is strongly held negative emotions, even as love is strongly held positive ones.</b><br><br></font></td>\\r\\t</tr>\\r\\t<tr>\\r\\t\\t<td width=\"480\" align=\"left\" valign=\"top\"><font size=\"3\"><b>&nbsp;&nbsp;&nbsp;&nbsp;The golden rule, &quot;Love thy neighbor as thyself,&quot; or &quot;do unto others as you would have them do unto you,&quot; helps us see that if we want people to enjoy peaceful, content existence, we must work together cooperatively, and not let our passions, of either love or hate, get us out of line.</b></font></td>\\r\\t</tr>\\r\\t<tr>\\r\\t\\t<td width=\"480\" align=\"left\" valign=\"top\"><font size=\"3\"><b>&nbsp;&nbsp;&nbsp;&nbsp;One thing I\\'m sure of, is the world would be a better place if all of us individuals had someone or something we loved. I feel sorry for people who are neutral about this, indifferent regarding that, and don\\'t know what really turns them on. I almost wish there was a law against having no love in one\\'s life. Well, that kind of thinking is too extreme. Is it possible, without love, to be healthy in a mental sense? To be balanced? Can an individual\\'s self-esteem be proper without love? It is certainly possible for a person to be <i>temporarily</i> devoid of love. For example, pick up a random individual, transport him across the planet, and set him into a strange culture, where he knows no one, he knows not a word of the language. He will be in shock, and will love no one, and probably his only love then would be of longing for his familiar life. Temporarily, his shock, his sadness, and his bewilderment will be more powerful feelings than any love he feels.</b></font></td>\\r\\t</tr>\\r\\t<tr>\\r\\t\\t<td width=\"480\" align=\"left\" valign=\"top\"><font size=\"3\"><b>&nbsp;&nbsp;&nbsp;&nbsp;Since love can be felt in so many different ways, it is a good thing our culture allows people freedom to choose. All the more wondrous that some of us seem to love nothing! What explains this? Are children who were in dysfunctional, abusive situations forced to retreat as it were into a shell, to be calloused against freely opening themselves to the flow of their emotions? Are certain people born with chemical imbalances in their brains which make it impossible for them to feel love? Are some people so prone to liking numerous things that they tend to not strongly like (<i>i.e.,</i> love) any one thing in particular?</b></font></td>\\r\\t</tr>\\r\\t<tr>\\r\\t\\t<td width=\"480\" align=\"left\" valign=\"top\"><font size=\"3\"><b>&nbsp;&nbsp;&nbsp;&nbsp;To love is to express oneself. Usually one\\'s love is obviously manifested. It may be that even as some of us are generally shy and inhibited, some of us are poorer at loving. Doubtless there are complex, peculiar combinations of factors operating in every individual case. And most of our general rules or commonplace assumptions are based on behavior prevalent in our <i>culture.</i></b></font></td>\\r\\t</tr>\\r\\t<tr>\\r\\t\\t<td width=\"480\" align=\"left\" valign=\"top\"><font size=\"3\"><b>&nbsp;&nbsp;&nbsp;&nbsp;The chief motivating factor in many of our lives is love. People go to extraordinary lengths and costs to find love, or to give it, to keep it, to hope for it. In some cultures, such as primitive stone-age ones, I\\'m sure that basic food gathering and survival work is more dominating than any interpretation of love other than love of continuing to <i>live.</i></b></font></td>\\r\\t</tr>\\r\\t<tr>\\r\\t\\t<td width=\"480\" align=\"left\" valign=\"top\"><font size=\"3\"><b>&nbsp;&nbsp;&nbsp;&nbsp;In my life, I prefer to give my time to being with people I love, rather than being paid to spend time working for people whom I don\\'t love. Similarly, I would rather remain single and wait until I can marry a woman with whom I can share profound love, than cohabit with a woman about who I am indifferent. It is often said &quot;what really counts is that a person does what he or she loves.&quot; Yet how many of us <i>really</i> do? How many of us <i>would</i> keep doing our jobs if we didn\\'t need the money? Few of us. Even if I was suddenly rich financially, I\\'d still do most of what I do now; I\\'d not fundamentally change.</b></font></td>\\r\\t</tr>\\r\\t<tr>\\r\\t\\t<td width=\"480\" align=\"left\" valign=\"top\"><font size=\"3\"><b>&nbsp;&nbsp;&nbsp;&nbsp;No, money won\\'t alter me much. Love may. If I decide to marry a woman, and she is eager also, I would stop merely doing whatever I please, and start giving my attention equally to pleasing her. Ideally we\\'d work very well together. But times would occur when we\\'d disagree, so I\\'d yield whenever I possibly could, out of my love and respect, and concern for our marriage.</b></font></td>\\r\\t</tr>\\r\\t<tr>\\r\\t\\t<td width=\"480\" align=\"left\" valign=\"top\"><font size=\"3\"><b>&nbsp;&nbsp;&nbsp;&nbsp;The love that motivates people to give freely their very lives is greatly inspiring. If martyrs didn\\'t have love propelling them, then they at any rate had <i>strong</i> emotions. Sometimes I dream about hypothetical situations that test my love. For example, if the woman I think the very world of, asked me to give up my Seattle existence, to live with her 1,000 miles away -- would I do it? Maybe. If I figured there was good odds of living happily ever after, I might. But such questions are answered not just by deliberation, they\\'re affected by emotion. Love can blind us to logic, reason and common sense. I love so many things about my life in Seattle, and there are so many eligible women here  -- that the chance of me heading out of town, loveblind, is remote. But that I <i>think</i> about such things, shows I am moved mightily by love.</b></font></td>\\r\\t</tr>\\r\\t<tr>\\r\\t\\t<td width=\"480\" align=\"left\" valign=\"top\"><font size=\"3\"><b>&nbsp;&nbsp;&nbsp;&nbsp;I am so glad to love my work, to love my family and friends, to love my city, and to love nature. Yes, I want to also love a woman who loves me. That will come. So far it has alway been one-way rather than mutual. I\\'m particular, patient, and confident. It\\'s sort of a &quot;patting oneself on the back&quot; to say it, but I wish more people would show restraint about forming intimate relationships of the sort that are called marriages. Too many young folks hurry into such arrangements, and all too soon failure comes about. People think it\\'s easier than it really is. Loving is often easy, but the long-term nurturing and sustaining of the love is work. I develop this theme more in my essay FAMILY.</b></font></td>\\r\\t</tr>\\r\\t<tr>\\r\\r</table>\\r\\r</td>\\r\\t\\t<td width=\"125\" align=\"center\" valign=\"top\"><br><br><br><! -- #include virtual=\"/includes/panel1.html\" -- >\\r</td>\\r\\t</tr>\\r</table></center>\\r<! -- #include virtual=\"/includes/footer.html\" -- >\\r\\r</body>\\r</html>\\r'\n"
     ]
    }
   ],
   "source": [
    "# outputting the request response content\n",
    "\n",
    "print(page.content)"
   ]
  },
  {
   "cell_type": "code",
   "execution_count": 382,
   "metadata": {},
   "outputs": [
    {
     "name": "stdout",
     "output_type": "stream",
     "text": [
      "<!DOCTYPE HTML PUBLIC \"-//W3C//DTD HTML 3.2 Final//EN\">\n",
      "<html>\n",
      " <head>\n",
      "  <title>\n",
      "   Essay on Love by Arthur Lee Jacobson\n",
      "  </title>\n",
      "  <meta content=\"Trees,gardening, wild and domestic plant life are the specialty of author Arthur Lee Jacobson.\" name=\"description\"/>\n",
      "  <meta content=\"trees, gardening, wild plants, domestic plants, gardening author, gardening books, Arthur Lee Jacobson, A L J, A L Jacobson, Arthur Jacobson, arthur lee, plants, flowers, seattle, washington\" name=\"keywords\"/>\n",
      "  <meta content=\"document\" name=\"resource-type\"/>\n",
      "  <meta content=\"BBEdit 4.5\" name=\"generator\"/>\n",
      "  <meta content=\"all\" name=\"robots\"/>\n",
      "  <meta content=\"Gardening\" name=\"classification\"/>\n",
      "  <meta content=\"global\" name=\"distribution\"/>\n",
      "  <meta content=\"general\" name=\"rating\"/>\n",
      "  <meta content=\"2001 Arthur Lee Jacobson\" name=\"copyright\"/>\n",
      "  <meta content=\"eriktyme@eriktyme.com\" name=\"author\"/>\n",
      "  <meta content=\"en-us\" name=\"language\"/>\n",
      " </head>\n",
      " <body alink=\"#33CC33\" background=\"images/background1a.jpg\" bgcolor=\"#FFFFCC\" link=\"#0000FF\" text=\"#000000\" vlink=\"#FF00FF\">\n",
      "  <!-- -- #include virtual=\"/includes/header.html\" -- -->\n",
      "  <br/>\n",
      "  <center>\n",
      "   <table border=\"0\" cellpadding=\"1\" cellspacing=\"2\">\n",
      "    <tr>\n",
      "     <td align=\"center\" valign=\"top\" width=\"480\">\n",
      "      <table border=\"0\" cellpadding=\"1\" cellspacing=\"2\">\n",
      "       <tr>\n",
      "        <td align=\"center\" valign=\"top\" width=\"480\">\n",
      "         <font size=\"5\">\n",
      "          <b>\n",
      "           Love\n",
      "          </b>\n",
      "         </font>\n",
      "        </td>\n",
      "       </tr>\n",
      "       <tr>\n",
      "        <td align=\"left\" valign=\"top\" width=\"480\">\n",
      "         <font size=\"3\">\n",
      "          <b>\n",
      "           Of the fourteen essays I'm writing, only this one treats an emotion. That love is the most important emotion is the deduction. I think other emotions may be as important, but are not so powerfully moving or interesting to most of us. Love is exciting. There is no need to justify choosing to write about it. Are not most songs love songs? Are not most novels stories featuring love?\n",
      "          </b>\n",
      "         </font>\n",
      "        </td>\n",
      "       </tr>\n",
      "       <tr>\n",
      "        <td align=\"left\" valign=\"top\" width=\"480\">\n",
      "         <font size=\"3\">\n",
      "          <b>\n",
      "           Love in its broad sense is the feeling of strong attraction, and often attachment and protection. It is felt towards other people, towards pets, towards inanimate objects, towards abstractions such as patriotism, religious matters, hobbies, and I suppose nearly everything. It is multifaceted, and includes ordinary self-love, chivalrous love, carnal or sexual love, friendly love, family love. It is an emotion that is closely related to certain others, such as hope. At its simplest level it is what we strongly like.\n",
      "          </b>\n",
      "         </font>\n",
      "        </td>\n",
      "       </tr>\n",
      "       <tr>\n",
      "        <td align=\"left\" valign=\"top\" width=\"480\">\n",
      "         <font size=\"3\">\n",
      "          <b>\n",
      "           I have a hunch that love, like the rose, owes much of its appeal to our mainstream Western culture -- and that in some other societies it is by no means such a big deal. Somehow, especially in recent centuries, the notion of romantic love has become elevated far more than it used to be. Why this has happened is for social historians to explain; I don't know. I will merely say that if one reads the ancient Greeks and Romans, then it is obvious that today love is relatively more significant in our culture. A plethora of differences exist between us and people 2,000 years ago. That doesn't invalidate my observation that we moderns rate love more importantly now than our ancestors used to.\n",
      "          </b>\n",
      "         </font>\n",
      "        </td>\n",
      "       </tr>\n",
      "       <tr>\n",
      "        <td align=\"left\" valign=\"top\" width=\"480\">\n",
      "         <font size=\"3\">\n",
      "          <b>\n",
      "           It is presumed that sexual attraction, being instinctive, is comparatively constant over the centuries and across cultures. But let's be clear: sexual attraction is only one manifestation of love. One can be sexually aroused and still feel no love, just as a couple can be married and possess no mutual sexual appetite or love. Some people find they can fulfill sexual needs one way, and they love something else, such as a hobby or their work.\n",
      "          </b>\n",
      "         </font>\n",
      "        </td>\n",
      "       </tr>\n",
      "       <tr>\n",
      "        <td align=\"left\" valign=\"top\" width=\"480\">\n",
      "         <font size=\"3\">\n",
      "          <b>\n",
      "           When sexual desire, or go ahead and call it sexual need, is very strong, it certainly gets called love. To be precise it may be best termed carnal love. Similarly, a glutton loves food, and an addict perversely loves whatever drug or activity he's hooked on. Sexual love, then, is not necessarily anything more than an equivalent of an animal being in heat. On the other hand, if two people share a wholehearted, broad-based love for each other, then their sexual relations may be more an expression of their affection than of their instinctive drive.\n",
      "          </b>\n",
      "         </font>\n",
      "        </td>\n",
      "       </tr>\n",
      "       <tr>\n",
      "        <td align=\"left\" valign=\"top\" width=\"480\">\n",
      "         <font size=\"3\">\n",
      "          <b>\n",
      "           Yes, love and sex are too much confused. It is frightful how many beastly rapes and molestations take place, which are sexual but devoid of love completely. Love can be found thriving far from sex, as in a mother's love for her child, or a religious order's mystical love of doing glory to God, or of the knight's chivalrous love towards his country and rulers. The soldier's courage to defend his family is a kind of love in action. The artist who starves in an attic, living a celibate existence to produce masterpieces, is illuminated by love. Childhood friends who go through life together know love, though not sex, as regards each other. Have I made my point obvious?\n",
      "          </b>\n",
      "         </font>\n",
      "        </td>\n",
      "       </tr>\n",
      "       <tr>\n",
      "        <td align=\"left\" valign=\"top\" width=\"480\">\n",
      "         <font size=\"3\">\n",
      "          <b>\n",
      "           It is, I'm sure. But I'm on a roll and don't want to stop yet. Love's antithesis is hate. Hate is often associated with harm or destruction, even death. But again, it is not\n",
      "           <i>\n",
      "            equal\n",
      "           </i>\n",
      "           to those. It is strongly held negative emotions, even as love is strongly held positive ones.\n",
      "          </b>\n",
      "          <br/>\n",
      "          <br/>\n",
      "         </font>\n",
      "        </td>\n",
      "       </tr>\n",
      "       <tr>\n",
      "        <td align=\"left\" valign=\"top\" width=\"480\">\n",
      "         <font size=\"3\">\n",
      "          <b>\n",
      "           The golden rule, \"Love thy neighbor as thyself,\" or \"do unto others as you would have them do unto you,\" helps us see that if we want people to enjoy peaceful, content existence, we must work together cooperatively, and not let our passions, of either love or hate, get us out of line.\n",
      "          </b>\n",
      "         </font>\n",
      "        </td>\n",
      "       </tr>\n",
      "       <tr>\n",
      "        <td align=\"left\" valign=\"top\" width=\"480\">\n",
      "         <font size=\"3\">\n",
      "          <b>\n",
      "           One thing I'm sure of, is the world would be a better place if all of us individuals had someone or something we loved. I feel sorry for people who are neutral about this, indifferent regarding that, and don't know what really turns them on. I almost wish there was a law against having no love in one's life. Well, that kind of thinking is too extreme. Is it possible, without love, to be healthy in a mental sense? To be balanced? Can an individual's self-esteem be proper without love? It is certainly possible for a person to be\n",
      "           <i>\n",
      "            temporarily\n",
      "           </i>\n",
      "           devoid of love. For example, pick up a random individual, transport him across the planet, and set him into a strange culture, where he knows no one, he knows not a word of the language. He will be in shock, and will love no one, and probably his only love then would be of longing for his familiar life. Temporarily, his shock, his sadness, and his bewilderment will be more powerful feelings than any love he feels.\n",
      "          </b>\n",
      "         </font>\n",
      "        </td>\n",
      "       </tr>\n",
      "       <tr>\n",
      "        <td align=\"left\" valign=\"top\" width=\"480\">\n",
      "         <font size=\"3\">\n",
      "          <b>\n",
      "           Since love can be felt in so many different ways, it is a good thing our culture allows people freedom to choose. All the more wondrous that some of us seem to love nothing! What explains this? Are children who were in dysfunctional, abusive situations forced to retreat as it were into a shell, to be calloused against freely opening themselves to the flow of their emotions? Are certain people born with chemical imbalances in their brains which make it impossible for them to feel love? Are some people so prone to liking numerous things that they tend to not strongly like (\n",
      "           <i>\n",
      "            i.e.,\n",
      "           </i>\n",
      "           love) any one thing in particular?\n",
      "          </b>\n",
      "         </font>\n",
      "        </td>\n",
      "       </tr>\n",
      "       <tr>\n",
      "        <td align=\"left\" valign=\"top\" width=\"480\">\n",
      "         <font size=\"3\">\n",
      "          <b>\n",
      "           To love is to express oneself. Usually one's love is obviously manifested. It may be that even as some of us are generally shy and inhibited, some of us are poorer at loving. Doubtless there are complex, peculiar combinations of factors operating in every individual case. And most of our general rules or commonplace assumptions are based on behavior prevalent in our\n",
      "           <i>\n",
      "            culture.\n",
      "           </i>\n",
      "          </b>\n",
      "         </font>\n",
      "        </td>\n",
      "       </tr>\n",
      "       <tr>\n",
      "        <td align=\"left\" valign=\"top\" width=\"480\">\n",
      "         <font size=\"3\">\n",
      "          <b>\n",
      "           The chief motivating factor in many of our lives is love. People go to extraordinary lengths and costs to find love, or to give it, to keep it, to hope for it. In some cultures, such as primitive stone-age ones, I'm sure that basic food gathering and survival work is more dominating than any interpretation of love other than love of continuing to\n",
      "           <i>\n",
      "            live.\n",
      "           </i>\n",
      "          </b>\n",
      "         </font>\n",
      "        </td>\n",
      "       </tr>\n",
      "       <tr>\n",
      "        <td align=\"left\" valign=\"top\" width=\"480\">\n",
      "         <font size=\"3\">\n",
      "          <b>\n",
      "           In my life, I prefer to give my time to being with people I love, rather than being paid to spend time working for people whom I don't love. Similarly, I would rather remain single and wait until I can marry a woman with whom I can share profound love, than cohabit with a woman about who I am indifferent. It is often said \"what really counts is that a person does what he or she loves.\" Yet how many of us\n",
      "           <i>\n",
      "            really\n",
      "           </i>\n",
      "           do? How many of us\n",
      "           <i>\n",
      "            would\n",
      "           </i>\n",
      "           keep doing our jobs if we didn't need the money? Few of us. Even if I was suddenly rich financially, I'd still do most of what I do now; I'd not fundamentally change.\n",
      "          </b>\n",
      "         </font>\n",
      "        </td>\n",
      "       </tr>\n",
      "       <tr>\n",
      "        <td align=\"left\" valign=\"top\" width=\"480\">\n",
      "         <font size=\"3\">\n",
      "          <b>\n",
      "           No, money won't alter me much. Love may. If I decide to marry a woman, and she is eager also, I would stop merely doing whatever I please, and start giving my attention equally to pleasing her. Ideally we'd work very well together. But times would occur when we'd disagree, so I'd yield whenever I possibly could, out of my love and respect, and concern for our marriage.\n",
      "          </b>\n",
      "         </font>\n",
      "        </td>\n",
      "       </tr>\n",
      "       <tr>\n",
      "        <td align=\"left\" valign=\"top\" width=\"480\">\n",
      "         <font size=\"3\">\n",
      "          <b>\n",
      "           The love that motivates people to give freely their very lives is greatly inspiring. If martyrs didn't have love propelling them, then they at any rate had\n",
      "           <i>\n",
      "            strong\n",
      "           </i>\n",
      "           emotions. Sometimes I dream about hypothetical situations that test my love. For example, if the woman I think the very world of, asked me to give up my Seattle existence, to live with her 1,000 miles away -- would I do it? Maybe. If I figured there was good odds of living happily ever after, I might. But such questions are answered not just by deliberation, they're affected by emotion. Love can blind us to logic, reason and common sense. I love so many things about my life in Seattle, and there are so many eligible women here  -- that the chance of me heading out of town, loveblind, is remote. But that I\n",
      "           <i>\n",
      "            think\n",
      "           </i>\n",
      "           about such things, shows I am moved mightily by love.\n",
      "          </b>\n",
      "         </font>\n",
      "        </td>\n",
      "       </tr>\n",
      "       <tr>\n",
      "        <td align=\"left\" valign=\"top\" width=\"480\">\n",
      "         <font size=\"3\">\n",
      "          <b>\n",
      "           I am so glad to love my work, to love my family and friends, to love my city, and to love nature. Yes, I want to also love a woman who loves me. That will come. So far it has alway been one-way rather than mutual. I'm particular, patient, and confident. It's sort of a \"patting oneself on the back\" to say it, but I wish more people would show restraint about forming intimate relationships of the sort that are called marriages. Too many young folks hurry into such arrangements, and all too soon failure comes about. People think it's easier than it really is. Loving is often easy, but the long-term nurturing and sustaining of the love is work. I develop this theme more in my essay FAMILY.\n",
      "          </b>\n",
      "         </font>\n",
      "        </td>\n",
      "       </tr>\n",
      "       <tr>\n",
      "       </tr>\n",
      "      </table>\n",
      "     </td>\n",
      "     <td align=\"center\" valign=\"top\" width=\"125\">\n",
      "      <br/>\n",
      "      <br/>\n",
      "      <br/>\n",
      "      <!-- -- #include virtual=\"/includes/panel1.html\" -- -->\n",
      "     </td>\n",
      "    </tr>\n",
      "   </table>\n",
      "  </center>\n",
      "  <!-- -- #include virtual=\"/includes/footer.html\" -- -->\n",
      " </body>\n",
      "</html>\n",
      "\n"
     ]
    }
   ],
   "source": [
    "# turning the response into a BeautifulSoup object to extract data\n",
    "\n",
    "soup = BeautifulSoup(page.content, 'html.parser')\n",
    "\n",
    "print(soup.prettify())"
   ]
  },
  {
   "cell_type": "code",
   "execution_count": 383,
   "metadata": {},
   "outputs": [
    {
     "name": "stdout",
     "output_type": "stream",
     "text": [
      "<b>Love</b>\n",
      "Love\n"
     ]
    }
   ],
   "source": [
    "# using the find method to scrape the text within the first bold tag\n",
    "\n",
    "title = soup.find('b')\n",
    "\n",
    "print(title)\n",
    "print(title.get_text())    # extracts all text within element"
   ]
  },
  {
   "cell_type": "code",
   "execution_count": 385,
   "metadata": {},
   "outputs": [
    {
     "name": "stdout",
     "output_type": "stream",
     "text": [
      "Love\n",
      "    Of the fourteen essays I'm writing, only this one treats an emotion. That love is the most important emotion is the deduction. I think other emotions may be as important, but are not so powerfully moving or interesting to most of us. Love is exciting. There is no need to justify choosing to write about it. Are not most songs love songs? Are not most novels stories featuring love?\n",
      "    Love in its broad sense is the feeling of strong attraction, and often attachment and protection. It is felt towards other people, towards pets, towards inanimate objects, towards abstractions such as patriotism, religious matters, hobbies, and I suppose nearly everything. It is multifaceted, and includes ordinary self-love, chivalrous love, carnal or sexual love, friendly love, family love. It is an emotion that is closely related to certain others, such as hope. At its simplest level it is what we strongly like.\n",
      "    I have a hunch that love, like the rose, owes much of its appeal to our mainstream Western culture -- and that in some other societies it is by no means such a big deal. Somehow, especially in recent centuries, the notion of romantic love has become elevated far more than it used to be. Why this has happened is for social historians to explain; I don't know. I will merely say that if one reads the ancient Greeks and Romans, then it is obvious that today love is relatively more significant in our culture. A plethora of differences exist between us and people 2,000 years ago. That doesn't invalidate my observation that we moderns rate love more importantly now than our ancestors used to.\n",
      "    It is presumed that sexual attraction, being instinctive, is comparatively constant over the centuries and across cultures. But let's be clear: sexual attraction is only one manifestation of love. One can be sexually aroused and still feel no love, just as a couple can be married and possess no mutual sexual appetite or love. Some people find they can fulfill sexual needs one way, and they love something else, such as a hobby or their work.\n",
      "    When sexual desire, or go ahead and call it sexual need, is very strong, it certainly gets called love. To be precise it may be best termed carnal love. Similarly, a glutton loves food, and an addict perversely loves whatever drug or activity he's hooked on. Sexual love, then, is not necessarily anything more than an equivalent of an animal being in heat. On the other hand, if two people share a wholehearted, broad-based love for each other, then their sexual relations may be more an expression of their affection than of their instinctive drive.\n",
      "    Yes, love and sex are too much confused. It is frightful how many beastly rapes and molestations take place, which are sexual but devoid of love completely. Love can be found thriving far from sex, as in a mother's love for her child, or a religious order's mystical love of doing glory to God, or of the knight's chivalrous love towards his country and rulers. The soldier's courage to defend his family is a kind of love in action. The artist who starves in an attic, living a celibate existence to produce masterpieces, is illuminated by love. Childhood friends who go through life together know love, though not sex, as regards each other. Have I made my point obvious?\n",
      "    It is, I'm sure. But I'm on a roll and don't want to stop yet. Love's antithesis is hate. Hate is often associated with harm or destruction, even death. But again, it is not equal to those. It is strongly held negative emotions, even as love is strongly held positive ones.\n",
      "    The golden rule, \"Love thy neighbor as thyself,\" or \"do unto others as you would have them do unto you,\" helps us see that if we want people to enjoy peaceful, content existence, we must work together cooperatively, and not let our passions, of either love or hate, get us out of line.\n",
      "    One thing I'm sure of, is the world would be a better place if all of us individuals had someone or something we loved. I feel sorry for people who are neutral about this, indifferent regarding that, and don't know what really turns them on. I almost wish there was a law against having no love in one's life. Well, that kind of thinking is too extreme. Is it possible, without love, to be healthy in a mental sense? To be balanced? Can an individual's self-esteem be proper without love? It is certainly possible for a person to be temporarily devoid of love. For example, pick up a random individual, transport him across the planet, and set him into a strange culture, where he knows no one, he knows not a word of the language. He will be in shock, and will love no one, and probably his only love then would be of longing for his familiar life. Temporarily, his shock, his sadness, and his bewilderment will be more powerful feelings than any love he feels.\n",
      "    Since love can be felt in so many different ways, it is a good thing our culture allows people freedom to choose. All the more wondrous that some of us seem to love nothing! What explains this? Are children who were in dysfunctional, abusive situations forced to retreat as it were into a shell, to be calloused against freely opening themselves to the flow of their emotions? Are certain people born with chemical imbalances in their brains which make it impossible for them to feel love? Are some people so prone to liking numerous things that they tend to not strongly like (i.e., love) any one thing in particular?\n",
      "    To love is to express oneself. Usually one's love is obviously manifested. It may be that even as some of us are generally shy and inhibited, some of us are poorer at loving. Doubtless there are complex, peculiar combinations of factors operating in every individual case. And most of our general rules or commonplace assumptions are based on behavior prevalent in our culture.\n",
      "    The chief motivating factor in many of our lives is love. People go to extraordinary lengths and costs to find love, or to give it, to keep it, to hope for it. In some cultures, such as primitive stone-age ones, I'm sure that basic food gathering and survival work is more dominating than any interpretation of love other than love of continuing to live.\n",
      "    In my life, I prefer to give my time to being with people I love, rather than being paid to spend time working for people whom I don't love. Similarly, I would rather remain single and wait until I can marry a woman with whom I can share profound love, than cohabit with a woman about who I am indifferent. It is often said \"what really counts is that a person does what he or she loves.\" Yet how many of us really do? How many of us would keep doing our jobs if we didn't need the money? Few of us. Even if I was suddenly rich financially, I'd still do most of what I do now; I'd not fundamentally change.\n",
      "    No, money won't alter me much. Love may. If I decide to marry a woman, and she is eager also, I would stop merely doing whatever I please, and start giving my attention equally to pleasing her. Ideally we'd work very well together. But times would occur when we'd disagree, so I'd yield whenever I possibly could, out of my love and respect, and concern for our marriage.\n",
      "    The love that motivates people to give freely their very lives is greatly inspiring. If martyrs didn't have love propelling them, then they at any rate had strong emotions. Sometimes I dream about hypothetical situations that test my love. For example, if the woman I think the very world of, asked me to give up my Seattle existence, to live with her 1,000 miles away -- would I do it? Maybe. If I figured there was good odds of living happily ever after, I might. But such questions are answered not just by deliberation, they're affected by emotion. Love can blind us to logic, reason and common sense. I love so many things about my life in Seattle, and there are so many eligible women here  -- that the chance of me heading out of town, loveblind, is remote. But that I think about such things, shows I am moved mightily by love.\n",
      "    I am so glad to love my work, to love my family and friends, to love my city, and to love nature. Yes, I want to also love a woman who loves me. That will come. So far it has alway been one-way rather than mutual. I'm particular, patient, and confident. It's sort of a \"patting oneself on the back\" to say it, but I wish more people would show restraint about forming intimate relationships of the sort that are called marriages. Too many young folks hurry into such arrangements, and all too soon failure comes about. People think it's easier than it really is. Loving is often easy, but the long-term nurturing and sustaining of the love is work. I develop this theme more in my essay FAMILY.\n"
     ]
    }
   ],
   "source": [
    "# get all text within the bold element tag then output each\n",
    "\n",
    "poem_text = soup.find_all('b')\n",
    "\n",
    "for text in poem_text:\n",
    "    print(text.get_text())"
   ]
  },
  {
   "cell_type": "code",
   "execution_count": 393,
   "metadata": {},
   "outputs": [
    {
     "name": "stdout",
     "output_type": "stream",
     "text": [
      "<span class=\"p-nickname vcard-username d-block\" itemprop=\"additionalName\">Connor-SM</span>\n",
      "Connor-SM\n"
     ]
    }
   ],
   "source": [
    "# finding an element by specific attribute key-values\n",
    "\n",
    "page = requests.get('https://github.com/Connor-SM')\n",
    "\n",
    "soup = BeautifulSoup(page.content, 'html.parser')\n",
    "\n",
    "username = soup.find('span', attrs={ 'class' : 'vcard-username' })   # find first span with this class\n",
    "\n",
    "print(username)   # will show that element has class of vcard-username among others\n",
    "print(username.get_text())"
   ]
  },
  {
   "cell_type": "code",
   "execution_count": 397,
   "metadata": {
    "scrolled": true
   },
   "outputs": [
    {
     "name": "stdout",
     "output_type": "stream",
     "text": [
      "<list_iterator object at 0x0000022968590278>\n"
     ]
    }
   ],
   "source": [
    "# traversing through the DOM using Beautiful Soup - using the children attribute\n",
    "\n",
    "page = requests.get('http://www.arthurleej.com/e-love.html')\n",
    "\n",
    "soup = BeautifulSoup(page.content, 'html.parser')\n",
    "\n",
    "print(soup.children)"
   ]
  },
  {
   "cell_type": "code",
   "execution_count": 421,
   "metadata": {},
   "outputs": [
    {
     "name": "stdout",
     "output_type": "stream",
     "text": [
      "<class 'bs4.element.Doctype'>\n",
      "<class 'bs4.element.NavigableString'>\n",
      "<class 'bs4.element.Tag'>\n",
      "<class 'bs4.element.NavigableString'>\n"
     ]
    }
   ],
   "source": [
    "# understanding the children within the soup object\n",
    "\n",
    "for child in list(soup.children):\n",
    "    print(type(child))"
   ]
  },
  {
   "cell_type": "code",
   "execution_count": 422,
   "metadata": {},
   "outputs": [
    {
     "name": "stdout",
     "output_type": "stream",
     "text": [
      "\n",
      "\n",
      " Start of new section\n",
      " \n",
      "\n",
      "\n",
      " Start of new section\n",
      "<head> <title>Essay on Love by Arthur Lee Jacobson</title> <meta content=\"Trees,gardening, wild and domestic plant life are the specialty of author Arthur Lee Jacobson.\" name=\"description\"/> <meta content=\"trees, gardening, wild plants, domestic plants, gardening author, gardening books, Arthur Lee Jacobson, A L J, A L Jacobson, Arthur Jacobson, arthur lee, plants, flowers, seattle, washington\" name=\"keywords\"/> <meta content=\"document\" name=\"resource-type\"/> <meta content=\"BBEdit 4.5\" name=\"generator\"/> <meta content=\"all\" name=\"robots\"/> <meta content=\"Gardening\" name=\"classification\"/> <meta content=\"global\" name=\"distribution\"/> <meta content=\"general\" name=\"rating\"/> <meta content=\"2001 Arthur Lee Jacobson\" name=\"copyright\"/> <meta content=\"eriktyme@eriktyme.com\" name=\"author\"/> <meta content=\"en-us\" name=\"language\"/> </head>\n",
      "\n",
      "\n",
      " Start of new section\n",
      " \n",
      "\n",
      "\n",
      " Start of new section\n",
      "<body alink=\"#33CC33\" background=\"images/background1a.jpg\" bgcolor=\"#FFFFCC\" link=\"#0000FF\" text=\"#000000\" vlink=\"#FF00FF\"> <!-- -- #include virtual=\"/includes/header.html\" -- --> <br/><center><table border=\"0\" cellpadding=\"1\" cellspacing=\"2\"> <tr> <td align=\"center\" valign=\"top\" width=\"480\"> <table border=\"0\" cellpadding=\"1\" cellspacing=\"2\"> <tr> <td align=\"center\" valign=\"top\" width=\"480\"><font size=\"5\"><b>Love</b></font></td> </tr> <tr> <td align=\"left\" valign=\"top\" width=\"480\"><font size=\"3\"><b>    Of the fourteen essays I'm writing, only this one treats an emotion. That love is the most important emotion is the deduction. I think other emotions may be as important, but are not so powerfully moving or interesting to most of us. Love is exciting. There is no need to justify choosing to write about it. Are not most songs love songs? Are not most novels stories featuring love?</b></font></td> </tr> <tr> <td align=\"left\" valign=\"top\" width=\"480\"><font size=\"3\"><b>    Love in its broad sense is the feeling of strong attraction, and often attachment and protection. It is felt towards other people, towards pets, towards inanimate objects, towards abstractions such as patriotism, religious matters, hobbies, and I suppose nearly everything. It is multifaceted, and includes ordinary self-love, chivalrous love, carnal or sexual love, friendly love, family love. It is an emotion that is closely related to certain others, such as hope. At its simplest level it is what we strongly like.</b></font></td> </tr> <tr> <td align=\"left\" valign=\"top\" width=\"480\"><font size=\"3\"><b>    I have a hunch that love, like the rose, owes much of its appeal to our mainstream Western culture -- and that in some other societies it is by no means such a big deal. Somehow, especially in recent centuries, the notion of romantic love has become elevated far more than it used to be. Why this has happened is for social historians to explain; I don't know. I will merely say that if one reads the ancient Greeks and Romans, then it is obvious that today love is relatively more significant in our culture. A plethora of differences exist between us and people 2,000 years ago. That doesn't invalidate my observation that we moderns rate love more importantly now than our ancestors used to.</b></font></td> </tr> <tr> <td align=\"left\" valign=\"top\" width=\"480\"><font size=\"3\"><b>    It is presumed that sexual attraction, being instinctive, is comparatively constant over the centuries and across cultures. But let's be clear: sexual attraction is only one manifestation of love. One can be sexually aroused and still feel no love, just as a couple can be married and possess no mutual sexual appetite or love. Some people find they can fulfill sexual needs one way, and they love something else, such as a hobby or their work.</b></font></td> </tr> <tr> <td align=\"left\" valign=\"top\" width=\"480\"><font size=\"3\"><b>    When sexual desire, or go ahead and call it sexual need, is very strong, it certainly gets called love. To be precise it may be best termed carnal love. Similarly, a glutton loves food, and an addict perversely loves whatever drug or activity he's hooked on. Sexual love, then, is not necessarily anything more than an equivalent of an animal being in heat. On the other hand, if two people share a wholehearted, broad-based love for each other, then their sexual relations may be more an expression of their affection than of their instinctive drive.</b></font></td> </tr> <tr> <td align=\"left\" valign=\"top\" width=\"480\"><font size=\"3\"><b>    Yes, love and sex are too much confused. It is frightful how many beastly rapes and molestations take place, which are sexual but devoid of love completely. Love can be found thriving far from sex, as in a mother's love for her child, or a religious order's mystical love of doing glory to God, or of the knight's chivalrous love towards his country and rulers. The soldier's courage to defend his family is a kind of love in action. The artist who starves in an attic, living a celibate existence to produce masterpieces, is illuminated by love. Childhood friends who go through life together know love, though not sex, as regards each other. Have I made my point obvious?</b></font></td> </tr> <tr> <td align=\"left\" valign=\"top\" width=\"480\"><font size=\"3\"><b>    It is, I'm sure. But I'm on a roll and don't want to stop yet. Love's antithesis is hate. Hate is often associated with harm or destruction, even death. But again, it is not <i>equal</i> to those. It is strongly held negative emotions, even as love is strongly held positive ones.</b><br/><br/></font></td> </tr> <tr> <td align=\"left\" valign=\"top\" width=\"480\"><font size=\"3\"><b>    The golden rule, \"Love thy neighbor as thyself,\" or \"do unto others as you would have them do unto you,\" helps us see that if we want people to enjoy peaceful, content existence, we must work together cooperatively, and not let our passions, of either love or hate, get us out of line.</b></font></td> </tr> <tr> <td align=\"left\" valign=\"top\" width=\"480\"><font size=\"3\"><b>    One thing I'm sure of, is the world would be a better place if all of us individuals had someone or something we loved. I feel sorry for people who are neutral about this, indifferent regarding that, and don't know what really turns them on. I almost wish there was a law against having no love in one's life. Well, that kind of thinking is too extreme. Is it possible, without love, to be healthy in a mental sense? To be balanced? Can an individual's self-esteem be proper without love? It is certainly possible for a person to be <i>temporarily</i> devoid of love. For example, pick up a random individual, transport him across the planet, and set him into a strange culture, where he knows no one, he knows not a word of the language. He will be in shock, and will love no one, and probably his only love then would be of longing for his familiar life. Temporarily, his shock, his sadness, and his bewilderment will be more powerful feelings than any love he feels.</b></font></td> </tr> <tr> <td align=\"left\" valign=\"top\" width=\"480\"><font size=\"3\"><b>    Since love can be felt in so many different ways, it is a good thing our culture allows people freedom to choose. All the more wondrous that some of us seem to love nothing! What explains this? Are children who were in dysfunctional, abusive situations forced to retreat as it were into a shell, to be calloused against freely opening themselves to the flow of their emotions? Are certain people born with chemical imbalances in their brains which make it impossible for them to feel love? Are some people so prone to liking numerous things that they tend to not strongly like (<i>i.e.,</i> love) any one thing in particular?</b></font></td> </tr> <tr> <td align=\"left\" valign=\"top\" width=\"480\"><font size=\"3\"><b>    To love is to express oneself. Usually one's love is obviously manifested. It may be that even as some of us are generally shy and inhibited, some of us are poorer at loving. Doubtless there are complex, peculiar combinations of factors operating in every individual case. And most of our general rules or commonplace assumptions are based on behavior prevalent in our <i>culture.</i></b></font></td> </tr> <tr> <td align=\"left\" valign=\"top\" width=\"480\"><font size=\"3\"><b>    The chief motivating factor in many of our lives is love. People go to extraordinary lengths and costs to find love, or to give it, to keep it, to hope for it. In some cultures, such as primitive stone-age ones, I'm sure that basic food gathering and survival work is more dominating than any interpretation of love other than love of continuing to <i>live.</i></b></font></td> </tr> <tr> <td align=\"left\" valign=\"top\" width=\"480\"><font size=\"3\"><b>    In my life, I prefer to give my time to being with people I love, rather than being paid to spend time working for people whom I don't love. Similarly, I would rather remain single and wait until I can marry a woman with whom I can share profound love, than cohabit with a woman about who I am indifferent. It is often said \"what really counts is that a person does what he or she loves.\" Yet how many of us <i>really</i> do? How many of us <i>would</i> keep doing our jobs if we didn't need the money? Few of us. Even if I was suddenly rich financially, I'd still do most of what I do now; I'd not fundamentally change.</b></font></td> </tr> <tr> <td align=\"left\" valign=\"top\" width=\"480\"><font size=\"3\"><b>    No, money won't alter me much. Love may. If I decide to marry a woman, and she is eager also, I would stop merely doing whatever I please, and start giving my attention equally to pleasing her. Ideally we'd work very well together. But times would occur when we'd disagree, so I'd yield whenever I possibly could, out of my love and respect, and concern for our marriage.</b></font></td> </tr> <tr> <td align=\"left\" valign=\"top\" width=\"480\"><font size=\"3\"><b>    The love that motivates people to give freely their very lives is greatly inspiring. If martyrs didn't have love propelling them, then they at any rate had <i>strong</i> emotions. Sometimes I dream about hypothetical situations that test my love. For example, if the woman I think the very world of, asked me to give up my Seattle existence, to live with her 1,000 miles away -- would I do it? Maybe. If I figured there was good odds of living happily ever after, I might. But such questions are answered not just by deliberation, they're affected by emotion. Love can blind us to logic, reason and common sense. I love so many things about my life in Seattle, and there are so many eligible women here  -- that the chance of me heading out of town, loveblind, is remote. But that I <i>think</i> about such things, shows I am moved mightily by love.</b></font></td> </tr> <tr> <td align=\"left\" valign=\"top\" width=\"480\"><font size=\"3\"><b>    I am so glad to love my work, to love my family and friends, to love my city, and to love nature. Yes, I want to also love a woman who loves me. That will come. So far it has alway been one-way rather than mutual. I'm particular, patient, and confident. It's sort of a \"patting oneself on the back\" to say it, but I wish more people would show restraint about forming intimate relationships of the sort that are called marriages. Too many young folks hurry into such arrangements, and all too soon failure comes about. People think it's easier than it really is. Loving is often easy, but the long-term nurturing and sustaining of the love is work. I develop this theme more in my essay FAMILY.</b></font></td> </tr> <tr> </tr></table> </td> <td align=\"center\" valign=\"top\" width=\"125\"><br/><br/><br/><!-- -- #include virtual=\"/includes/panel1.html\" -- --> </td> </tr> </table></center> <!-- -- #include virtual=\"/includes/footer.html\" -- --> </body>\n",
      "\n",
      "\n",
      " Start of new section\n",
      " \n"
     ]
    }
   ],
   "source": [
    "# accessing the .Tag object which holds the html - trying to access the title tag\n",
    "\n",
    "html = list(soup.children)[2]\n",
    "\n",
    "for section in html:\n",
    "    print(\"\\n\\n Start of new section\")\n",
    "    print(section)"
   ]
  },
  {
   "cell_type": "code",
   "execution_count": 423,
   "metadata": {
    "scrolled": true
   },
   "outputs": [
    {
     "name": "stdout",
     "output_type": "stream",
     "text": [
      "\n",
      "\n",
      " New Tag\n",
      " \n",
      "\n",
      "\n",
      " New Tag\n",
      "<title>Essay on Love by Arthur Lee Jacobson</title>\n",
      "\n",
      "\n",
      " New Tag\n",
      " \n",
      "\n",
      "\n",
      " New Tag\n",
      "<meta content=\"Trees,gardening, wild and domestic plant life are the specialty of author Arthur Lee Jacobson.\" name=\"description\"/>\n",
      "\n",
      "\n",
      " New Tag\n",
      " \n",
      "\n",
      "\n",
      " New Tag\n",
      "<meta content=\"trees, gardening, wild plants, domestic plants, gardening author, gardening books, Arthur Lee Jacobson, A L J, A L Jacobson, Arthur Jacobson, arthur lee, plants, flowers, seattle, washington\" name=\"keywords\"/>\n",
      "\n",
      "\n",
      " New Tag\n",
      " \n",
      "\n",
      "\n",
      " New Tag\n",
      "<meta content=\"document\" name=\"resource-type\"/>\n",
      "\n",
      "\n",
      " New Tag\n",
      " \n",
      "\n",
      "\n",
      " New Tag\n",
      "<meta content=\"BBEdit 4.5\" name=\"generator\"/>\n",
      "\n",
      "\n",
      " New Tag\n",
      " \n",
      "\n",
      "\n",
      " New Tag\n",
      "<meta content=\"all\" name=\"robots\"/>\n",
      "\n",
      "\n",
      " New Tag\n",
      " \n",
      "\n",
      "\n",
      " New Tag\n",
      "<meta content=\"Gardening\" name=\"classification\"/>\n",
      "\n",
      "\n",
      " New Tag\n",
      " \n",
      "\n",
      "\n",
      " New Tag\n",
      "<meta content=\"global\" name=\"distribution\"/>\n",
      "\n",
      "\n",
      " New Tag\n",
      " \n",
      "\n",
      "\n",
      " New Tag\n",
      "<meta content=\"general\" name=\"rating\"/>\n",
      "\n",
      "\n",
      " New Tag\n",
      " \n",
      "\n",
      "\n",
      " New Tag\n",
      "<meta content=\"2001 Arthur Lee Jacobson\" name=\"copyright\"/>\n",
      "\n",
      "\n",
      " New Tag\n",
      " \n",
      "\n",
      "\n",
      " New Tag\n",
      "<meta content=\"eriktyme@eriktyme.com\" name=\"author\"/>\n",
      "\n",
      "\n",
      " New Tag\n",
      " \n",
      "\n",
      "\n",
      " New Tag\n",
      "<meta content=\"en-us\" name=\"language\"/>\n",
      "\n",
      "\n",
      " New Tag\n",
      " \n"
     ]
    }
   ],
   "source": [
    "# accessing the head element using the children attribute\n",
    "head = list(html.children)[1]\n",
    "\n",
    "for item in head:\n",
    "    print(\"\\n\\n New Tag\")\n",
    "    print(item)"
   ]
  },
  {
   "cell_type": "code",
   "execution_count": 431,
   "metadata": {},
   "outputs": [
    {
     "name": "stdout",
     "output_type": "stream",
     "text": [
      "Essay on Love by Arthur Lee Jacobson\n",
      "<class 'bs4.element.NavigableString'>\n",
      "Essay on Love by Arthur Lee Jacobson\n"
     ]
    }
   ],
   "source": [
    "# scraping the title text\n",
    "\n",
    "title = list(head)[1]\n",
    "\n",
    "print(title.string)\n",
    "print(type(title.string))\n",
    "print(title.get_text())"
   ]
  },
  {
   "cell_type": "markdown",
   "metadata": {},
   "source": [
    "# Friday Project: Website Analysis"
   ]
  },
  {
   "cell_type": "code",
   "execution_count": 1,
   "metadata": {
    "collapsed": true
   },
   "outputs": [],
   "source": [
    "# accept input from user on which site they want to search on\n",
    "# request site content\n",
    "# parse out bad/useless words\n",
    "# throw word count into dictionary\n",
    "# use bar plot to showcase top 5 words\n",
    "# use https://www.microsoft.com/en-us/"
   ]
  },
  {
   "cell_type": "code",
   "execution_count": 1,
   "metadata": {
    "collapsed": true
   },
   "outputs": [],
   "source": [
    "import requests\n",
    "import matplotlib.pyplot as plt\n",
    "from bs4 import BeautifulSoup\n",
    "from bs4.element import Comment\n",
    "from IPython.display import clear_output"
   ]
  },
  {
   "cell_type": "code",
   "execution_count": 2,
   "metadata": {
    "scrolled": true
   },
   "outputs": [
    {
     "name": "stdout",
     "output_type": "stream",
     "text": [
      "Enter a website to analyze: https://www.microsoft.com/en-us/\n",
      "The top word is: Microsoft\n"
     ]
    },
    {
     "data": {
      "image/png": "[encoded data removed]",
      "text/plain": [
       "<Figure size 1440x720 with 1 Axes>"
      ]
     },
     "metadata": {},
     "output_type": "display_data"
    },
    {
     "name": "stdout",
     "output_type": "stream",
     "text": [
      "Would you like to scrape a website (y/n)? n\n",
      "Thanks for analyzing! Come back again!\n"
     ]
    }
   ],
   "source": [
    "# graph results of top 7 words\n",
    "def displayResults(words, site):\n",
    "    count = [item[1] for item in words][::-1]     # reverses order\n",
    "    word = [item[0] for item in words][::-1]      # reverses order\n",
    "    \n",
    "    plt.figure(figsize=(20, 10))   # define how large the figure appears\n",
    "\n",
    "    plt.bar(word, count)\n",
    "\n",
    "    plt.title(\"Analyzing Top Words from: {}...\".format(site[:50]), fontname=\"Sans Serif\", fontsize=24)\n",
    "    plt.xlabel(\"Words\", fontsize=24)\n",
    "    plt.ylabel(\"# of Appearances\", fontsize=24)\n",
    "    plt.xticks(fontname=\"Sans Serif\", fontsize=20)\n",
    "    plt.yticks(fontname=\"Sans Serif\", fontsize=20)\n",
    "\n",
    "    plt.savefig('microsoft.png')\n",
    "    plt.show()\n",
    "    \n",
    "# filter article words and hidden characters\n",
    "def filterWaste(word):\n",
    "    bad_words = ('the', 'a', 'in', 'of', 'to', 'you', '\\xa0', 'and', 'at', 'on', 'for', 'from', 'is', 'that', 'are', 'be', '-', 'as', '&', 'they', 'with',\n",
    "                 'how', 'was', 'her', 'him', 'i', 'has', '|', 'his')\n",
    "    \n",
    "    if word.lower() in bad_words:\n",
    "        return False\n",
    "    else:\n",
    "        return True\n",
    "    \n",
    "# filter out all elements that do not contain text that appears on site\n",
    "def filterTags(element):\n",
    "    if element.parent.name in ['style', 'script', 'head', 'title', 'meta', '[document]']:\n",
    "        return False\n",
    "    \n",
    "    if isinstance(element, Comment):\n",
    "        return False\n",
    "    \n",
    "    return True\n",
    "\n",
    "# request site and top 7 most used words\n",
    "def scrape(site):    \n",
    "    page = requests.get(site)\n",
    "    \n",
    "    soup = BeautifulSoup(page.content, 'html.parser')\n",
    "    \n",
    "    text = soup.find_all(text=True)     # will get all text within the document\n",
    "    \n",
    "    visible_text = filter(filterTags, text)\n",
    "    \n",
    "    word_count = {}\n",
    "\n",
    "    for text in visible_text:\n",
    "        words = text.replace('\\n', '').replace('\\t', '').split(' ')   # replace all hidden chars\n",
    "\n",
    "        words = list(filter(filterWaste, words))\n",
    "        \n",
    "        for word in words:\n",
    "            if word != '':\n",
    "                if word in word_count:\n",
    "                    word_count[word] += 1\n",
    "                else:\n",
    "                    word_count[word] = 1\n",
    "                     \n",
    "    word_count = sorted(word_count.items(), key=lambda kv: kv[1], reverse=True)        \n",
    "    \n",
    "    return word_count[:7]\n",
    "            \n",
    "# main loop should ask if user wants to scrape, then what site to scrape\n",
    "while input('Would you like to scrape a website (y/n)? ') == 'y':\n",
    "    try:\n",
    "        clear_output()\n",
    "    \n",
    "        site = input('Enter a website to analyze: ')\n",
    "    \n",
    "        top_words = scrape(site)\n",
    "        \n",
    "        top_word = top_words[0]   # tuple of (word, count)\n",
    "        \n",
    "        print(\"The top word is: {}\".format(top_word[0]))\n",
    "        \n",
    "        displayResults(top_words, site)\n",
    "    except:\n",
    "        print('Something went wrong, please try again.')\n",
    "    \n",
    "print('Thanks for analyzing! Come back again!')"
   ]
  },
  {
   "cell_type": "markdown",
   "metadata": {},
   "source": [
    "# Monday Exercises - Answers"
   ]
  },
  {
   "cell_type": "markdown",
   "metadata": {},
   "source": [
    "<p>\n",
    "1. <b>Test Environment:</b> Create a new virtual environment called \"test\". When creating it, install Python version 2.7 instead of the current version. After it's completed, make sure it installed the proper version of Python by checking the list.\n",
    "</p>"
   ]
  },
  {
   "cell_type": "code",
   "execution_count": 11,
   "metadata": {
    "collapsed": true
   },
   "outputs": [],
   "source": [
    "# done in terminal"
   ]
  },
  {
   "cell_type": "markdown",
   "metadata": {},
   "source": [
    "<p>\n",
    "2. <b>Javascript Repositories:</b> Using the requests module and the Github API link in our last lesson, figure out how many repositories on Github use Javascript.\n",
    "</p>"
   ]
  },
  {
   "cell_type": "code",
   "execution_count": 13,
   "metadata": {},
   "outputs": [
    {
     "name": "stdout",
     "output_type": "stream",
     "text": [
      "7006350\n"
     ]
    }
   ],
   "source": [
    "# outputting specific key-value pairs from data\n",
    "import requests\n",
    "\n",
    "r = requests.get('https://api.github.com/search/repositories?q=language:javascript')\n",
    "\n",
    "data = r.json()\n",
    "\n",
    "print(data['total_count'])"
   ]
  },
  {
   "cell_type": "markdown",
   "metadata": {},
   "source": [
    "# Tuesday Exercises - Answers"
   ]
  },
  {
   "cell_type": "markdown",
   "metadata": {},
   "source": [
    "<p>\n",
    "1. <b>Loading a Dataset:</b> Go to www.Kaggle.com, click on \"Datasets\" in the top bar menu. Choose a dataset that you like and download it into the \"python_bootcamp\" folder. Then, load the dataset into a Pandas DataFrame using the read_csv method and display the top five records.\n",
    "</p>"
   ]
  },
  {
   "cell_type": "code",
   "execution_count": 14,
   "metadata": {},
   "outputs": [
    {
     "data": {
      "text/html": [
       "<div>\n",
       "<style>\n",
       "    .dataframe thead tr:only-child th {\n",
       "        text-align: right;\n",
       "    }\n",
       "\n",
       "    .dataframe thead th {\n",
       "        text-align: left;\n",
       "    }\n",
       "\n",
       "    .dataframe tbody tr th {\n",
       "        vertical-align: top;\n",
       "    }\n",
       "</style>\n",
       "<table border=\"1\" class=\"dataframe\">\n",
       "  <thead>\n",
       "    <tr style=\"text-align: right;\">\n",
       "      <th></th>\n",
       "      <th>id</th>\n",
       "      <th>name</th>\n",
       "      <th>host_id</th>\n",
       "      <th>host_name</th>\n",
       "      <th>neighbourhood_group</th>\n",
       "      <th>neighbourhood</th>\n",
       "      <th>latitude</th>\n",
       "      <th>longitude</th>\n",
       "      <th>room_type</th>\n",
       "      <th>price</th>\n",
       "      <th>minimum_nights</th>\n",
       "      <th>number_of_reviews</th>\n",
       "      <th>last_review</th>\n",
       "      <th>reviews_per_month</th>\n",
       "      <th>calculated_host_listings_count</th>\n",
       "      <th>availability_365</th>\n",
       "    </tr>\n",
       "  </thead>\n",
       "  <tbody>\n",
       "    <tr>\n",
       "      <th>0</th>\n",
       "      <td>2539</td>\n",
       "      <td>Clean &amp; quiet apt home by the park</td>\n",
       "      <td>2787</td>\n",
       "      <td>John</td>\n",
       "      <td>Brooklyn</td>\n",
       "      <td>Kensington</td>\n",
       "      <td>40.64749</td>\n",
       "      <td>-73.97237</td>\n",
       "      <td>Private room</td>\n",
       "      <td>149</td>\n",
       "      <td>1</td>\n",
       "      <td>9</td>\n",
       "      <td>2018-10-19</td>\n",
       "      <td>0.21</td>\n",
       "      <td>6</td>\n",
       "      <td>365</td>\n",
       "    </tr>\n",
       "    <tr>\n",
       "      <th>1</th>\n",
       "      <td>2595</td>\n",
       "      <td>Skylit Midtown Castle</td>\n",
       "      <td>2845</td>\n",
       "      <td>Jennifer</td>\n",
       "      <td>Manhattan</td>\n",
       "      <td>Midtown</td>\n",
       "      <td>40.75362</td>\n",
       "      <td>-73.98377</td>\n",
       "      <td>Entire home/apt</td>\n",
       "      <td>225</td>\n",
       "      <td>1</td>\n",
       "      <td>45</td>\n",
       "      <td>2019-05-21</td>\n",
       "      <td>0.38</td>\n",
       "      <td>2</td>\n",
       "      <td>355</td>\n",
       "    </tr>\n",
       "    <tr>\n",
       "      <th>2</th>\n",
       "      <td>3647</td>\n",
       "      <td>THE VILLAGE OF HARLEM....NEW YORK !</td>\n",
       "      <td>4632</td>\n",
       "      <td>Elisabeth</td>\n",
       "      <td>Manhattan</td>\n",
       "      <td>Harlem</td>\n",
       "      <td>40.80902</td>\n",
       "      <td>-73.94190</td>\n",
       "      <td>Private room</td>\n",
       "      <td>150</td>\n",
       "      <td>3</td>\n",
       "      <td>0</td>\n",
       "      <td>NaN</td>\n",
       "      <td>NaN</td>\n",
       "      <td>1</td>\n",
       "      <td>365</td>\n",
       "    </tr>\n",
       "    <tr>\n",
       "      <th>3</th>\n",
       "      <td>3831</td>\n",
       "      <td>Cozy Entire Floor of Brownstone</td>\n",
       "      <td>4869</td>\n",
       "      <td>LisaRoxanne</td>\n",
       "      <td>Brooklyn</td>\n",
       "      <td>Clinton Hill</td>\n",
       "      <td>40.68514</td>\n",
       "      <td>-73.95976</td>\n",
       "      <td>Entire home/apt</td>\n",
       "      <td>89</td>\n",
       "      <td>1</td>\n",
       "      <td>270</td>\n",
       "      <td>2019-07-05</td>\n",
       "      <td>4.64</td>\n",
       "      <td>1</td>\n",
       "      <td>194</td>\n",
       "    </tr>\n",
       "    <tr>\n",
       "      <th>4</th>\n",
       "      <td>5022</td>\n",
       "      <td>Entire Apt: Spacious Studio/Loft by central park</td>\n",
       "      <td>7192</td>\n",
       "      <td>Laura</td>\n",
       "      <td>Manhattan</td>\n",
       "      <td>East Harlem</td>\n",
       "      <td>40.79851</td>\n",
       "      <td>-73.94399</td>\n",
       "      <td>Entire home/apt</td>\n",
       "      <td>80</td>\n",
       "      <td>10</td>\n",
       "      <td>9</td>\n",
       "      <td>2018-11-19</td>\n",
       "      <td>0.10</td>\n",
       "      <td>1</td>\n",
       "      <td>0</td>\n",
       "    </tr>\n",
       "  </tbody>\n",
       "</table>\n",
       "</div>"
      ],
      "text/plain": [
       "     id                                              name  host_id  \\\n",
       "0  2539                Clean & quiet apt home by the park     2787   \n",
       "1  2595                             Skylit Midtown Castle     2845   \n",
       "2  3647               THE VILLAGE OF HARLEM....NEW YORK !     4632   \n",
       "3  3831                   Cozy Entire Floor of Brownstone     4869   \n",
       "4  5022  Entire Apt: Spacious Studio/Loft by central park     7192   \n",
       "\n",
       "     host_name neighbourhood_group neighbourhood  latitude  longitude  \\\n",
       "0         John            Brooklyn    Kensington  40.64749  -73.97237   \n",
       "1     Jennifer           Manhattan       Midtown  40.75362  -73.98377   \n",
       "2    Elisabeth           Manhattan        Harlem  40.80902  -73.94190   \n",
       "3  LisaRoxanne            Brooklyn  Clinton Hill  40.68514  -73.95976   \n",
       "4        Laura           Manhattan   East Harlem  40.79851  -73.94399   \n",
       "\n",
       "         room_type  price  minimum_nights  number_of_reviews last_review  \\\n",
       "0     Private room    149               1                  9  2018-10-19   \n",
       "1  Entire home/apt    225               1                 45  2019-05-21   \n",
       "2     Private room    150               3                  0         NaN   \n",
       "3  Entire home/apt     89               1                270  2019-07-05   \n",
       "4  Entire home/apt     80              10                  9  2018-11-19   \n",
       "\n",
       "   reviews_per_month  calculated_host_listings_count  availability_365  \n",
       "0               0.21                               6               365  \n",
       "1               0.38                               2               355  \n",
       "2                NaN                               1               365  \n",
       "3               4.64                               1               194  \n",
       "4               0.10                               1                 0  "
      ]
     },
     "execution_count": 14,
     "metadata": {},
     "output_type": "execute_result"
    }
   ],
   "source": [
    "import pandas as pd\n",
    "\n",
    "file = 'AB_NYC_2019.csv'\n",
    "\n",
    "df = pd.read_csv(file)\n",
    "\n",
    "df.head(5)"
   ]
  },
  {
   "cell_type": "markdown",
   "metadata": {},
   "source": [
    "<p>\n",
    "2. <b>Dataset Analysis:</b> This is an open-ended exercise. Run some analysis on the dataset you chose from exercise #1. Try to answer questions like these:\n",
    "</p>\n",
    "\n",
    "<p>\n",
    "a. How many records are there? <br>\n",
    "b. What are the datatypes of each column? <br>\n",
    "c. Are there duplicate records or columns? <br>\n",
    "d. Is there missing data? <br>\n",
    "e. Is there a correlations between two or more columns?\n",
    "</p>"
   ]
  },
  {
   "cell_type": "code",
   "execution_count": 15,
   "metadata": {
    "collapsed": true
   },
   "outputs": [],
   "source": [
    "# open ended"
   ]
  },
  {
   "cell_type": "markdown",
   "metadata": {},
   "source": [
    "# Wednesday Exercises - Answers"
   ]
  },
  {
   "cell_type": "markdown",
   "metadata": {},
   "source": [
    "<p>\n",
    "1. <b>Three Line Plot:</b> Create three random lists of data that have 20 numbers between 1 and 10. Then create a line plot with three lines, one for each list. Give each line their own color, dot symbol, and line style.\n",
    "</p>"
   ]
  },
  {
   "cell_type": "code",
   "execution_count": 18,
   "metadata": {},
   "outputs": [
    {
     "data": {
      "image/png": "[encoded data removed]",
      "text/plain": [
       "<Figure size 432x288 with 1 Axes>"
      ]
     },
     "metadata": {},
     "output_type": "display_data"
    }
   ],
   "source": [
    "from matplotlib import pyplot as plt\n",
    "import random\n",
    "\n",
    "nums1 = sorted([random.randint(1, 11) for x in range(20)])\n",
    "nums2 = sorted([random.randint(1, 11) for x in range(20)])\n",
    "nums3 = sorted([random.randint(1, 11) for x in range(20)])\n",
    "\n",
    "points = [x for x in range(1, 21)]\n",
    "\n",
    "plt.plot(nums1, points, 'bo:')\n",
    "plt.plot(nums2, points, 'go--')\n",
    "plt.plot(nums3, points, 'ro-')\n",
    "\n",
    "plt.show()"
   ]
  },
  {
   "cell_type": "markdown",
   "metadata": {},
   "source": [
    "<p>\n",
    "2. <b>User Information:</b> Create a program that asks any number of users to give a rating between 1 and 5 stars and plots a bar chart of the data when no more users would like to answer. Use the text below as an example of what to ask:\n",
    "</p>\n",
    "\n",
    "<p>\n",
    ">>> What would you rate this movie (1-5)?     4 <br>\n",
    ">>> Is there another user that would like to review (y/n)?    y <br>\n",
    ">>> What would you rate this movie (1-5)?     5 <br>\n",
    ">>> Is there another user that would like to review (y/n)?    n <br>\n",
    "*** bar plot renders with two categories and two ratings ***\n",
    "</p>"
   ]
  },
  {
   "cell_type": "code",
   "execution_count": 20,
   "metadata": {},
   "outputs": [
    {
     "name": "stdout",
     "output_type": "stream",
     "text": [
      "What movie are you rating? Inception\n",
      "Is there another user that would like to review (y/n)? y\n",
      "What would you rate this movie (1-5)? 1\n",
      "Is there another user that would like to review (y/n)? y\n",
      "What would you rate this movie (1-5)? 2\n",
      "Is there another user that would like to review (y/n)? y\n",
      "What would you rate this movie (1-5)? 3\n",
      "Is there another user that would like to review (y/n)? y\n",
      "What would you rate this movie (1-5)? 4\n",
      "Is there another user that would like to review (y/n)? y\n",
      "What would you rate this movie (1-5)? 5\n",
      "Is there another user that would like to review (y/n)? y\n",
      "What would you rate this movie (1-5)? 5\n",
      "Is there another user that would like to review (y/n)? y\n",
      "What would you rate this movie (1-5)? 4\n",
      "Is there another user that would like to review (y/n)? n\n"
     ]
    },
    {
     "data": {
      "image/png": "[encoded data removed]",
      "text/plain": [
       "<Figure size 432x288 with 1 Axes>"
      ]
     },
     "metadata": {},
     "output_type": "display_data"
    }
   ],
   "source": [
    "def createGraph(data, movie):\n",
    "    categories = [k for k in data.keys()]\n",
    "    ratings_per_category = [v for v in data.values()]\n",
    "    \n",
    "    plt.bar(categories, ratings_per_category)\n",
    "\n",
    "    plt.title(\"{}\".format(movie.title()), fontsize=24)\n",
    "    plt.xlabel(\"Rating\", fontsize=16)\n",
    "    plt.ylabel(\"# of People\", fontsize=16)\n",
    "    plt.xticks(fontname=\"Fantasy\")\n",
    "    plt.yticks(fontname=\"Fantasy\")\n",
    "\n",
    "    plt.show()\n",
    "\n",
    "def main():\n",
    "    data = {}\n",
    "    \n",
    "    movie = input('What movie are you rating? ')\n",
    "    \n",
    "    while input('Is there another user that would like to review (y/n)? ') == 'y':\n",
    "        try:\n",
    "            ans = int(input('What would you rate this movie (1-5)? '))\n",
    "            \n",
    "            if ans in data:\n",
    "                data[ans] += 1   # add to the category in the dictionary\n",
    "            else:\n",
    "                data[ans] = 1\n",
    "        except:\n",
    "            clear_output()\n",
    "            print(\"Something went wrong, try again!\")\n",
    "            \n",
    "    createGraph(data, movie)\n",
    "    \n",
    "main()"
   ]
  },
  {
   "cell_type": "markdown",
   "metadata": {},
   "source": [
    "# Thursday Exercises - Answers"
   ]
  },
  {
   "cell_type": "markdown",
   "metadata": {},
   "source": [
    "<p>\n",
    "1. <b>Word Count:</b> Write a program that counts how many words are in the following link: https://www.york.ac.uk/teaching/cws/wws/webpage1.html. Use the requests module and Beautiful Soup library to extract all text.\n",
    "</p>"
   ]
  },
  {
   "cell_type": "code",
   "execution_count": 35,
   "metadata": {},
   "outputs": [
    {
     "name": "stdout",
     "output_type": "stream",
     "text": [
      "634\n"
     ]
    }
   ],
   "source": [
    "from bs4 import BeautifulSoup\n",
    "import requests\n",
    "from bs4.element import Comment\n",
    "\n",
    "page = requests.get('https://www.york.ac.uk/teaching/cws/wws/webpage1.html')\n",
    "\n",
    "soup = BeautifulSoup(page.content, 'html.parser')\n",
    "\n",
    "\n",
    "texts = soup.findAll(text=True)\n",
    "\n",
    "count = 0\n",
    "\n",
    "for text in texts:\n",
    "    words = text.replace('\\n', '').replace('\\t', '').split(' ')\n",
    "            \n",
    "    for word in words:\n",
    "        if word not in ['', '.', '-']:\n",
    "            count += 1\n",
    "            \n",
    "print(count)"
   ]
  },
  {
   "cell_type": "markdown",
   "metadata": {},
   "source": [
    "<p>\n",
    "2. <b>Question #2:</b> Using the link below, extract every stadium name out of the table: https://en.wikipedia.org/wiki/List_of_current_National_Football_League_stadiums. There should be 31 total names. \n",
    "</p>"
   ]
  },
  {
   "cell_type": "code",
   "execution_count": 71,
   "metadata": {
    "scrolled": true
   },
   "outputs": [
    {
     "name": "stdout",
     "output_type": "stream",
     "text": [
      "Arrowhead Stadium\n",
      "\n",
      "AT&T Stadium\n",
      "\n",
      "Bank of America Stadium\n",
      "\n",
      "CenturyLink Field\n",
      "\n",
      "Dignity Health Sports Park\n",
      "\n",
      "Empower Field at Mile High\n",
      "\n",
      "FedExField\n",
      "\n",
      "FirstEnergy Stadium\n",
      "\n",
      "Ford Field\n",
      "\n",
      "Gillette Stadium\n",
      "\n",
      "Hard Rock Stadium\n",
      "\n",
      "Heinz Field\n",
      "\n",
      "Lambeau Field\n",
      "\n",
      "Levi's Stadium\n",
      "\n",
      "Lincoln Financial Field\n",
      "\n",
      "Los Angeles Memorial Coliseum\n",
      "\n",
      "Lucas Oil Stadium\n",
      "\n",
      "M&T Bank Stadium\n",
      "\n",
      "Mercedes-Benz Superdome\n",
      "\n",
      "Mercedes-Benz Stadium\n",
      "\n",
      "MetLife Stadium\n",
      "\n",
      "New Era Field\n",
      "\n",
      "Nissan Stadium\n",
      "\n",
      "NRG Stadium\n",
      "\n",
      "Paul Brown Stadium\n",
      "\n",
      "Raymond James Stadium\n",
      "\n",
      "RingCentral Coliseum\n",
      "\n",
      "Soldier Field\n",
      "\n",
      "State Farm Stadium\n",
      "\n",
      "TIAA Bank Field\n",
      "\n",
      "U.S. Bank Stadium\n",
      "\n",
      "31\n"
     ]
    }
   ],
   "source": [
    "from bs4 import BeautifulSoup\n",
    "import requests\n",
    "\n",
    "page = requests.get('https://en.wikipedia.org/wiki/List_of_current_National_Football_League_stadiums')\n",
    "\n",
    "soup = BeautifulSoup(page.content, 'html.parser')\n",
    "\n",
    "nfl_stadiums_table = soup.findAll('table')[1]\n",
    "\n",
    "tbody = list(nfl_stadiums_table.children)[1]\n",
    "\n",
    "stadiums = [] \n",
    "\n",
    "for i in range(1, len(list(tbody.children))):\n",
    "    row = list(tbody.children)[i]\n",
    "    \n",
    "    th = row.find('th')\n",
    "    \n",
    "    try:\n",
    "        stadium_name = th.get_text()\n",
    "        stadiums.append(stadium_name)\n",
    "    except:\n",
    "        pass\n",
    "    \n",
    "for stadium in stadiums:\n",
    "    print(stadium)\n",
    "    \n",
    "print(len(stadiums))  # should be 31, two teams share a field"
   ]
  },
  {
   "cell_type": "markdown",
   "metadata": {},
   "source": [
    "# End of Week Exercises - Answers"
   ]
  },
  {
   "cell_type": "markdown",
   "metadata": {},
   "source": [
    "<p>\n",
    "1. <b>User Input:</b> As we saw in our Friday project, there were many article words or characters that we wanted to filter out. Unfortunately, we can’t keep track of all of them for each site. For this challenge, implement a block of code that asks the users what additional words or characters they would like to filter out so that they may alter the words shown.\n",
    "</p>"
   ]
  },
  {
   "cell_type": "code",
   "execution_count": 3,
   "metadata": {
    "scrolled": true
   },
   "outputs": [
    {
     "name": "stdout",
     "output_type": "stream",
     "text": [
      "\n",
      "Would you like to filter any others? no\n",
      "The top word is: Xbox\n"
     ]
    },
    {
     "data": {
      "image/png": "[encoded data removed]",
      "text/plain": [
       "<Figure size 1440x720 with 1 Axes>"
      ]
     },
     "metadata": {},
     "output_type": "display_data"
    },
    {
     "name": "stdout",
     "output_type": "stream",
     "text": [
      "Would you like to scrape a website (y/n)? n\n",
      "Thanks for analyzing! Come back again!\n"
     ]
    }
   ],
   "source": [
    "import requests\n",
    "import matplotlib.pyplot as plt\n",
    "from bs4 import BeautifulSoup\n",
    "from bs4.element import Comment\n",
    "from IPython.display import clear_output\n",
    "\n",
    "# graph results of top 7 words\n",
    "def displayResults(words, site):\n",
    "    count = [item[1] for item in words][::-1]     # reverses order\n",
    "    word = [item[0] for item in words][::-1]      # reverses order\n",
    "    \n",
    "    plt.figure(figsize=(20, 10))   # define how large the figure appears\n",
    "\n",
    "    plt.bar(word, count)\n",
    "\n",
    "    plt.title(\"Analyzing Top Words from: {}...\".format(site[:50]), fontname=\"Sans Serif\", fontsize=24)\n",
    "    plt.xlabel(\"Words\", fontsize=24)\n",
    "    plt.ylabel(\"# of Appearances\", fontsize=24)\n",
    "    plt.xticks(fontname=\"Sans Serif\", fontsize=20)\n",
    "    plt.yticks(fontname=\"Sans Serif\", fontsize=20)\n",
    "\n",
    "    plt.savefig('microsoft.png')\n",
    "    plt.show()    \n",
    "    \n",
    "# filter out all elements that do not contain text that appears on site\n",
    "def filterTags(element):\n",
    "    if element.parent.name in ['style', 'script', 'head', 'title', 'meta', '[document]']:\n",
    "        return False\n",
    "    \n",
    "    if isinstance(element, Comment):\n",
    "        return False\n",
    "    \n",
    "    return True\n",
    "\n",
    "# request site and top 7 most used words\n",
    "def scrape(site):    \n",
    "    page = requests.get(site)\n",
    "    \n",
    "    soup = BeautifulSoup(page.content, 'html.parser')\n",
    "    \n",
    "    text = soup.find_all(text=True)     # will get all text within the document\n",
    "    \n",
    "    visible_text = filter(filterTags, text)\n",
    "    \n",
    "    word_count = {}\n",
    "    \n",
    "    bad_words = set(['the', 'a', 'in', 'of', 'to', 'you', '\\xa0', 'and', 'at', 'on', 'for', 'from', 'is', 'that', 'are', 'be', '-', 'as', '&', 'they', 'with',\n",
    "                 'how', 'was', 'her', 'him', 'i', 'has', '|', 'his'])\n",
    "    \n",
    "    print('\\nThis is a list of words currently being filtered:')\n",
    "    print(bad_words)\n",
    "    \n",
    "    while input('\\nWould you like to filter any others? ').lower() != 'no':\n",
    "        print('\\nThis is a list of words currently being filtered:')\n",
    "        print(bad_words)\n",
    "        \n",
    "        word = input('What word would you like to filter? ')\n",
    "\n",
    "        bad_words.add(word)\n",
    "\n",
    "        clear_output()\n",
    "\n",
    "    for text in visible_text:\n",
    "        words = text.replace('\\n', '').replace('\\t', '').split(' ')   # replace all hidden chars\n",
    "    \n",
    "        words = list(filter(lambda word: True if word.lower() not in bad_words else False, words))\n",
    "        \n",
    "        for word in words:\n",
    "            if word != '':\n",
    "                if word in word_count:\n",
    "                    word_count[word] += 1\n",
    "                else:\n",
    "                    word_count[word] = 1\n",
    "                     \n",
    "    word_count = sorted(word_count.items(), key=lambda kv: kv[1], reverse=True)        \n",
    "    \n",
    "    return word_count[:7]\n",
    "            \n",
    "# main loop should ask if user wants to scrape, then what site to scrape\n",
    "while input('Would you like to scrape a website (y/n)? ') == 'y':\n",
    "    try:\n",
    "        clear_output()\n",
    "    \n",
    "        site = input('Enter a website to analyze: ')\n",
    "    \n",
    "        top_words = scrape(site)\n",
    "        \n",
    "        top_word = top_words[0]   # tuple of (word, count)\n",
    "        \n",
    "       \n",
    "        print(\"The top word is: {}\".format(top_word[0]))\n",
    "        \n",
    "        displayResults(top_words, site)\n",
    "    except:\n",
    "        print('Something went wrong, please try again.')\n",
    "    \n",
    "print('Thanks for analyzing! Come back again!')"
   ]
  },
  {
   "cell_type": "markdown",
   "metadata": {},
   "source": [
    "<p>\n",
    "2. <b>Saving the Plot:</b>  Implement a block of code that asks the user if they would like to save the file. If they do, be sure to ask the user what they would like to call the image and save it with that name.\n",
    "</p>"
   ]
  },
  {
   "cell_type": "code",
   "execution_count": 6,
   "metadata": {
    "scrolled": true
   },
   "outputs": [
    {
     "name": "stdout",
     "output_type": "stream",
     "text": [
      "Enter a website to analyze: https://www.microsoft.com/en-us/\n",
      "\n",
      "This is a list of words currently being filtered:\n",
      "{'him', 'at', 'a', 'of', 'and', 'in', '-', 'to', 'you', 'is', 'has', 'they', 'as', '&', 'the', 'be', 'from', 'i', '|', 'that', 'for', '\\xa0', 'how', 'his', 'are', 'with', 'on', 'her', 'was'}\n",
      "\n",
      "Would you like to filter any others? no\n",
      "The top word is: Microsoft\n",
      "Would you like to save this image (y/n)? y\n",
      "Please provide the name and extension, ex: \"image.png\"...\n",
      "What would you like to call the chart? microsoft_analysis.png\n",
      "File saved!\n"
     ]
    },
    {
     "data": {
      "text/plain": [
       "<Figure size 432x288 with 0 Axes>"
      ]
     },
     "metadata": {},
     "output_type": "display_data"
    },
    {
     "data": {
      "image/png": "[encoded data removed]",
      "text/plain": [
       "<Figure size 1440x720 with 1 Axes>"
      ]
     },
     "metadata": {},
     "output_type": "display_data"
    },
    {
     "name": "stdout",
     "output_type": "stream",
     "text": [
      "Would you like to scrape a website (y/n)? n\n",
      "Thanks for analyzing! Come back again!\n"
     ]
    }
   ],
   "source": [
    "import requests\n",
    "import matplotlib.pyplot as plt\n",
    "from bs4 import BeautifulSoup\n",
    "from bs4.element import Comment\n",
    "from IPython.display import clear_output\n",
    "\n",
    "# graph results of top 7 words\n",
    "def displayResults(words, site):\n",
    "    count = [item[1] for item in words][::-1]     # reverses order\n",
    "    word = [item[0] for item in words][::-1]      # reverses order\n",
    "    \n",
    "    plt.figure(figsize=(20, 10))   # define how large the figure appears\n",
    "\n",
    "    plt.bar(word, count)\n",
    "\n",
    "    plt.title(\"Analyzing Top Words from: {}...\".format(site[:50]), fontname=\"Sans Serif\", fontsize=24)\n",
    "    plt.xlabel(\"Words\", fontsize=24)\n",
    "    plt.ylabel(\"# of Appearances\", fontsize=24)\n",
    "    plt.xticks(fontname=\"Sans Serif\", fontsize=20)\n",
    "    plt.yticks(fontname=\"Sans Serif\", fontsize=20)\n",
    "    \n",
    "    ans = input('Would you like to save this image (y/n)? ').lower()\n",
    "    \n",
    "    if ans == 'y':\n",
    "        print('Please provide the name and extension, ex: \"image.png\"...')\n",
    "        \n",
    "        filename = input('What would you like to call the chart? ')\n",
    "        \n",
    "        plt.savefig(filename)\n",
    "        \n",
    "        print('File saved!')\n",
    "        \n",
    "    plt.show()\n",
    "    \n",
    "# filter out all elements that do not contain text that appears on site\n",
    "def filterTags(element):\n",
    "    if element.parent.name in ['style', 'script', 'head', 'title', 'meta', '[document]']:\n",
    "        return False\n",
    "    \n",
    "    if isinstance(element, Comment):\n",
    "        return False\n",
    "    \n",
    "    return True\n",
    "\n",
    "# request site and top 7 most used words\n",
    "def scrape(site):    \n",
    "    page = requests.get(site)\n",
    "    \n",
    "    soup = BeautifulSoup(page.content, 'html.parser')\n",
    "    \n",
    "    text = soup.find_all(text=True)     # will get all text within the document\n",
    "    \n",
    "    visible_text = filter(filterTags, text)\n",
    "    \n",
    "    word_count = {}\n",
    "    \n",
    "    bad_words = set(['the', 'a', 'in', 'of', 'to', 'you', '\\xa0', 'and', 'at', 'on', 'for', 'from', 'is', 'that', 'are', 'be', '-', 'as', '&', 'they', 'with',\n",
    "                 'how', 'was', 'her', 'him', 'i', 'has', '|', 'his'])\n",
    "    \n",
    "    print('\\nThis is a list of words currently being filtered:')\n",
    "    print(bad_words)\n",
    "    \n",
    "    while input('\\nWould you like to filter any others? ').lower() != 'no':\n",
    "        print('\\nThis is a list of words currently being filtered:')\n",
    "        print(bad_words)\n",
    "        \n",
    "        word = input('What word would you like to filter? ')\n",
    "\n",
    "        bad_words.add(word)\n",
    "\n",
    "        clear_output()\n",
    "\n",
    "    for text in visible_text:\n",
    "        words = text.replace('\\n', '').replace('\\t', '').split(' ')   # replace all hidden chars\n",
    "    \n",
    "        words = list(filter(lambda word: True if word.lower() not in bad_words else False, words))\n",
    "        \n",
    "        for word in words:\n",
    "            if word != '':\n",
    "                if word in word_count:\n",
    "                    word_count[word] += 1\n",
    "                else:\n",
    "                    word_count[word] = 1\n",
    "                     \n",
    "    word_count = sorted(word_count.items(), key=lambda kv: kv[1], reverse=True)        \n",
    "    \n",
    "    return word_count[:7]\n",
    "            \n",
    "# main loop should ask if user wants to scrape, then what site to scrape\n",
    "while input('Would you like to scrape a website (y/n)? ') == 'y':\n",
    "    try:\n",
    "        clear_output()\n",
    "    \n",
    "        site = input('Enter a website to analyze: ')\n",
    "    \n",
    "        top_words = scrape(site)\n",
    "        \n",
    "        top_word = top_words[0]   # tuple of (word, count)\n",
    "        \n",
    "       \n",
    "        print(\"The top word is: {}\".format(top_word[0]))\n",
    "        \n",
    "        displayResults(top_words, site)\n",
    "    except:\n",
    "        print('Something went wrong, please try again.')\n",
    "    \n",
    "print('Thanks for analyzing! Come back again!')"
   ]
  },
  {
   "cell_type": "markdown",
   "metadata": {},
   "source": [
    "<p>\n",
    "3. <b>Pandas Implementation:</b> Rather than using a dictionary to track the words from the website scrape in our Project, implement Pandas into the code to track the information. You should be able to perform a head or tail function to see the top or bottom most frequently used words.\n",
    "</p>"
   ]
  },
  {
   "cell_type": "code",
   "execution_count": 2,
   "metadata": {},
   "outputs": [
    {
     "name": "stdout",
     "output_type": "stream",
     "text": [
      "\n",
      "Would you like to filter any others? no\n",
      "   Frequency       Word\n",
      "0         21  Microsoft\n",
      "1          9       Xbox\n",
      "2          9    Windows\n",
      "3          9    Surface\n",
      "4          8     Office\n",
      "5          7        NOW\n",
      "6          7        365\n",
      "The top word is: Microsoft\n",
      "Would you like to save this image (y/n)? n\n"
     ]
    },
    {
     "data": {
      "image/png": "[encoded data removed]",
      "text/plain": [
       "<Figure size 1440x720 with 1 Axes>"
      ]
     },
     "metadata": {},
     "output_type": "display_data"
    },
    {
     "name": "stdout",
     "output_type": "stream",
     "text": [
      "Would you like to scrape a website (y/n)? n\n",
      "Thanks for analyzing! Come back again!\n"
     ]
    }
   ],
   "source": [
    "import requests\n",
    "import matplotlib.pyplot as plt\n",
    "from bs4 import BeautifulSoup\n",
    "from bs4.element import Comment\n",
    "import pandas as pd\n",
    "from IPython.display import clear_output\n",
    "\n",
    "# graph results of top 7 words\n",
    "def displayResults(words, site):\n",
    "    count = [num for num in words['Frequency']][::-1]     # reverses order\n",
    "    word = [word for word in words['Word']][::-1]      # reverses order\n",
    "    \n",
    "    plt.figure(figsize=(20, 10))   # define how large the figure appears\n",
    "\n",
    "    plt.bar(word, count)\n",
    "\n",
    "    plt.title(\"Analyzing Top Words from: {}...\".format(site[:50]), fontname=\"Sans Serif\", fontsize=24)\n",
    "    plt.xlabel(\"Words\", fontsize=24)\n",
    "    plt.ylabel(\"# of Appearances\", fontsize=24)\n",
    "    plt.xticks(fontname=\"Sans Serif\", fontsize=20)\n",
    "    plt.yticks(fontname=\"Sans Serif\", fontsize=20)\n",
    "    \n",
    "    ans = input('Would you like to save this image (y/n)? ').lower()\n",
    "    \n",
    "    if ans == 'y':\n",
    "        print('Please provide the name and extension, ex: \"image.png\"...')\n",
    "        \n",
    "        filename = input('What would you like to call the chart? ')\n",
    "        \n",
    "        plt.savefig(filename)\n",
    "        \n",
    "        print('File saved!')\n",
    "        \n",
    "    plt.show()\n",
    "    \n",
    "# filter out all elements that do not contain text that appears on site\n",
    "def filterTags(element):\n",
    "    if element.parent.name in ['style', 'script', 'head', 'title', 'meta', '[document]']:\n",
    "        return False\n",
    "    \n",
    "    if isinstance(element, Comment):\n",
    "        return False\n",
    "    \n",
    "    return True\n",
    "\n",
    "# request site and top 7 most used words\n",
    "def scrape(site):    \n",
    "    page = requests.get(site)\n",
    "    \n",
    "    soup = BeautifulSoup(page.content, 'html.parser')\n",
    "    \n",
    "    text = soup.find_all(text=True)     # will get all text within the document\n",
    "    \n",
    "    visible_text = filter(filterTags, text)\n",
    "    \n",
    "    word_count = {}\n",
    "    \n",
    "    bad_words = set(['the', 'a', 'in', 'of', 'to', 'you', '\\xa0', 'and', 'at', 'on', 'for', 'from', 'is', 'that', 'are', 'be', '-', 'as', '&', 'they', 'with',\n",
    "                 'how', 'was', 'her', 'him', 'i', 'has', '|', 'his'])\n",
    "    \n",
    "    print('\\nThis is a list of words currently being filtered:')\n",
    "    print(bad_words)\n",
    "    \n",
    "    while input('\\nWould you like to filter any others? ').lower() != 'no':\n",
    "        print('\\nThis is a list of words currently being filtered:')\n",
    "        print(bad_words)\n",
    "        \n",
    "        word = input('What word would you like to filter? ')\n",
    "\n",
    "        bad_words.add(word)\n",
    "\n",
    "        clear_output()\n",
    "\n",
    "    for text in visible_text:\n",
    "        words = text.replace('\\n', '').replace('\\t', '').split(' ')   # replace all hidden chars\n",
    "    \n",
    "        words = list(filter(lambda word: True if word.lower() not in bad_words else False, words))\n",
    "        \n",
    "        for word in words:\n",
    "            if word != '':\n",
    "                if word in word_count:\n",
    "                    word_count[word] += 1\n",
    "                else:\n",
    "                    word_count[word] = 1\n",
    "                    \n",
    "    words = [word for word in word_count.keys()]\n",
    "    frequency = [word for word in word_count.values()]\n",
    "                             \n",
    "    df = pd.DataFrame.from_dict({ 'Word' : words, 'Frequency' : frequency })\n",
    "    \n",
    "    df = df.sort_values('Frequency', ascending=False).reset_index(drop=True)\n",
    "    \n",
    "    return df\n",
    "            \n",
    "# main loop should ask if user wants to scrape, then what site to scrape\n",
    "while input('Would you like to scrape a website (y/n)? ') == 'y':\n",
    "    try:\n",
    "        clear_output()\n",
    "\n",
    "        site = input('Enter a website to analyze: ')\n",
    "\n",
    "        df = scrape(site)\n",
    "\n",
    "        print(df.head(7))\n",
    "\n",
    "        top_word = df.loc[0]['Word']\n",
    "        top_words = df[0:7]\n",
    "\n",
    "        print(\"The top word is: {}\".format(top_word))\n",
    "\n",
    "        displayResults(top_words, site)\n",
    "    except:\n",
    "        print('Something went wrong, please try again.')\n",
    "    \n",
    "print('Thanks for analyzing! Come back again!')"
   ]
  },
  {
   "cell_type": "markdown",
   "metadata": {},
   "source": [
    "<p>\n",
    "4. <b>Saving the Data:</b> After implementing Pandas to save the unique words and their frequency, output the information to a CSV for each site. The name of the file should represent the web site name: e.g. “microsoft_frequent_words.csv”.\n",
    "</p>\n",
    "\n"
   ]
  },
  {
   "cell_type": "code",
   "execution_count": 4,
   "metadata": {},
   "outputs": [
    {
     "name": "stdout",
     "output_type": "stream",
     "text": [
      "Enter a website to analyze: https://www.microsoft.com/en-us/\n",
      "\n",
      "This is a list of words currently being filtered:\n",
      "{'are', 'is', 'her', '\\xa0', 'has', 'at', 'from', 'as', '|', 'you', 'of', 'how', 'on', 'i', 'for', 'and', 'they', '-', 'his', 'in', 'with', 'the', 'to', 'him', 'a', 'be', '&', 'was', 'that'}\n",
      "\n",
      "Would you like to filter any others? no\n",
      "   Frequency       Word\n",
      "0         21  Microsoft\n",
      "1          9       Xbox\n",
      "2          9    Windows\n",
      "3          9    Surface\n",
      "4          8     Office\n",
      "5          7        NOW\n",
      "6          7        365\n",
      "The top word is: Microsoft\n",
      "Would you like to save this image (y/n)? n\n"
     ]
    },
    {
     "data": {
      "image/png": "[encoded data removed]",
      "text/plain": [
       "<Figure size 1440x720 with 1 Axes>"
      ]
     },
     "metadata": {},
     "output_type": "display_data"
    },
    {
     "name": "stdout",
     "output_type": "stream",
     "text": [
      "Would you like to scrape a website (y/n)? n\n",
      "Thanks for analyzing! Come back again!\n"
     ]
    }
   ],
   "source": [
    "import requests\n",
    "import matplotlib.pyplot as plt\n",
    "from bs4 import BeautifulSoup\n",
    "from bs4.element import Comment\n",
    "import pandas as pd\n",
    "from IPython.display import clear_output\n",
    "\n",
    "def saveCSVData(df, site):        \n",
    "    site_name = site.split('.')[1]\n",
    "\n",
    "    name = 'site_data/{}_frequent_words.csv'.format(site_name)\n",
    "    \n",
    "    df.to_csv(name)\n",
    "\n",
    "# graph results of top 7 words\n",
    "def displayResults(words, site):\n",
    "    count = [num for num in words['Frequency']][::-1]     # reverses order\n",
    "    word = [word for word in words['Word']][::-1]      # reverses order\n",
    "    \n",
    "    plt.figure(figsize=(20, 10))   # define how large the figure appears\n",
    "\n",
    "    plt.bar(word, count)\n",
    "\n",
    "    plt.title(\"Analyzing Top Words from: {}...\".format(site[:50]), fontname=\"Sans Serif\", fontsize=24)\n",
    "    plt.xlabel(\"Words\", fontsize=24)\n",
    "    plt.ylabel(\"# of Appearances\", fontsize=24)\n",
    "    plt.xticks(fontname=\"Sans Serif\", fontsize=20)\n",
    "    plt.yticks(fontname=\"Sans Serif\", fontsize=20)\n",
    "    \n",
    "    ans = input('Would you like to save this image (y/n)? ').lower()\n",
    "    \n",
    "    if ans == 'y':\n",
    "        print('Please provide the name and extension, ex: \"image.png\"...')\n",
    "        \n",
    "        filename = input('What would you like to call the chart? ')\n",
    "        \n",
    "        plt.savefig(filename)\n",
    "        \n",
    "        print('File saved!')\n",
    "        \n",
    "    plt.show()\n",
    "    \n",
    "# filter out all elements that do not contain text that appears on site\n",
    "def filterTags(element):\n",
    "    if element.parent.name in ['style', 'script', 'head', 'title', 'meta', '[document]']:\n",
    "        return False\n",
    "    \n",
    "    if isinstance(element, Comment):\n",
    "        return False\n",
    "    \n",
    "    return True\n",
    "\n",
    "# request site and top 7 most used words\n",
    "def scrape(site):    \n",
    "    page = requests.get(site)\n",
    "    \n",
    "    soup = BeautifulSoup(page.content, 'html.parser')\n",
    "    \n",
    "    text = soup.find_all(text=True)     # will get all text within the document\n",
    "    \n",
    "    visible_text = filter(filterTags, text)\n",
    "    \n",
    "    word_count = {}\n",
    "    \n",
    "    bad_words = set(['the', 'a', 'in', 'of', 'to', 'you', '\\xa0', 'and', 'at', 'on', 'for', 'from', 'is', 'that', 'are', 'be', '-', 'as', '&', 'they', 'with',\n",
    "                 'how', 'was', 'her', 'him', 'i', 'has', '|', 'his'])\n",
    "    \n",
    "    print('\\nThis is a list of words currently being filtered:')\n",
    "    print(bad_words)\n",
    "    \n",
    "    while input('\\nWould you like to filter any others? ').lower() != 'no':\n",
    "        print('\\nThis is a list of words currently being filtered:')\n",
    "        print(bad_words)\n",
    "        \n",
    "        word = input('What word would you like to filter? ')\n",
    "\n",
    "        bad_words.add(word)\n",
    "\n",
    "        clear_output()\n",
    "\n",
    "    for text in visible_text:\n",
    "        words = text.replace('\\n', '').replace('\\t', '').split(' ')   # replace all hidden chars\n",
    "    \n",
    "        words = list(filter(lambda word: True if word.lower() not in bad_words else False, words))\n",
    "        \n",
    "        for word in words:\n",
    "            if word != '':\n",
    "                if word in word_count:\n",
    "                    word_count[word] += 1\n",
    "                else:\n",
    "                    word_count[word] = 1\n",
    "                     \n",
    "    words = [word for word in word_count.keys()]\n",
    "    frequency = [word for word in word_count.values()]\n",
    "                             \n",
    "    df = pd.DataFrame.from_dict({ 'Word' : words, 'Frequency' : frequency })\n",
    "    \n",
    "    df = df.sort_values('Frequency', ascending=False).reset_index(drop=True)\n",
    "    \n",
    "    return df\n",
    "            \n",
    "# main loop should ask if user wants to scrape, then what site to scrape\n",
    "while input('Would you like to scrape a website (y/n)? ') == 'y':\n",
    "    try:\n",
    "        clear_output()\n",
    "\n",
    "        site = input('Enter a website to analyze: ')\n",
    "\n",
    "        df = scrape(site)\n",
    "\n",
    "        print(df.head(7))\n",
    "\n",
    "        top_word = df.loc[0]['Word']\n",
    "        top_words = df[0:7]\n",
    "\n",
    "        print(\"The top word is: {}\".format(top_word))\n",
    "\n",
    "        displayResults(top_words, site)\n",
    "        \n",
    "        saveCSVData(df, site)\n",
    "    except:\n",
    "        print('Something went wrong, please try again.')\n",
    "    \n",
    "print('Thanks for analyzing! Come back again!')"
   ]
  }
 ],
 "metadata": {
  "kernelspec": {
   "display_name": "Python 3",
   "language": "python",
   "name": "python3"
  },
  "language_info": {
   "codemirror_mode": {
    "name": "ipython",
    "version": 3
   },
   "file_extension": ".py",
   "mimetype": "text/x-python",
   "name": "python",
   "nbconvert_exporter": "python",
   "pygments_lexer": "ipython3",
   "version": "3.6.5"
  }
 },
 "nbformat": 4,
 "nbformat_minor": 2
}
