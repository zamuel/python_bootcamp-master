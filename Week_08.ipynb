{
 "cells": [
  {
   "cell_type": "markdown",
   "metadata": {},
   "source": [
    "# List Comprehension"
   ]
  },
  {
   "cell_type": "code",
   "execution_count": 3,
   "metadata": {},
   "outputs": [
    {
     "name": "stdout",
     "output_type": "stream",
     "text": [
      "[0, 1, 2, 3, 4, 5, 6, 7, 8, 9, 10, 11, 12, 13, 14, 15, 16, 17, 18, 19, 20, 21, 22, 23, 24, 25, 26, 27, 28, 29, 30, 31, 32, 33, 34, 35, 36, 37, 38, 39, 40, 41, 42, 43, 44, 45, 46, 47, 48, 49, 50, 51, 52, 53, 54, 55, 56, 57, 58, 59, 60, 61, 62, 63, 64, 65, 66, 67, 68, 69, 70, 71, 72, 73, 74, 75, 76, 77, 78, 79, 80, 81, 82, 83, 84, 85, 86, 87, 88, 89, 90, 91, 92, 93, 94, 95, 96, 97, 98, 99]\n"
     ]
    }
   ],
   "source": [
    "# create a list of ten numbers using list comprehension\n",
    "\n",
    "nums = [ x for x in range(100) ]     # generates a list from 0 up to 100\n",
    "\n",
    "print(nums)"
   ]
  },
  {
   "cell_type": "code",
   "execution_count": 4,
   "metadata": {},
   "outputs": [
    {
     "name": "stdout",
     "output_type": "stream",
     "text": [
      "[0, 2, 4, 6, 8]\n"
     ]
    }
   ],
   "source": [
    "# using if statements within list comprehension\n",
    "\n",
    "nums = [ x for x in range(10) if x % 2 == 0 ]     # generates a list of even numbers up to 10\n",
    "\n",
    "print(nums)"
   ]
  },
  {
   "cell_type": "code",
   "execution_count": 5,
   "metadata": {},
   "outputs": [
    {
     "name": "stdout",
     "output_type": "stream",
     "text": [
      "['Even', 'Odd', 'Even', 'Odd', 'Even', 'Odd', 'Even', 'Odd', 'Even', 'Odd']\n"
     ]
    }
   ],
   "source": [
    "# using if/else statements within list comprehension\n",
    "\n",
    "nums = [ \"Even\" if x % 2 == 0 else \"Odd\" for x in range(10) ]    # generates a list of even/odd strings\n",
    "\n",
    "print(nums)"
   ]
  },
  {
   "cell_type": "code",
   "execution_count": 6,
   "metadata": {},
   "outputs": [
    {
     "name": "stdout",
     "output_type": "stream",
     "text": [
      "[2, 4, 6, 8]\n"
     ]
    }
   ],
   "source": [
    "# creating a list of squared numbers from another list of numbers using list comprehension\n",
    "\n",
    "nums = [2, 4, 6, 8]\n",
    "\n",
    "squared_nums = [ num**2 for num in nums ]    # creates a new list of squared numbers based on nums\n",
    "\n",
    "print(nums)"
   ]
  },
  {
   "cell_type": "code",
   "execution_count": 7,
   "metadata": {},
   "outputs": [
    {
     "name": "stdout",
     "output_type": "stream",
     "text": [
      "{0: 0, 2: 4, 4: 16, 6: 36, 8: 64}\n"
     ]
    }
   ],
   "source": [
    "# creating a dictionary of even numbers and square values using comprehension\n",
    "\n",
    "numbers = [ x for x in range(10) ]\n",
    "\n",
    "squares = { num : num**2 for num in numbers if num % 2 == 0 }\n",
    "\n",
    "print(squares)"
   ]
  },
  {
   "cell_type": "markdown",
   "metadata": {},
   "source": [
    "# Lambda Functions"
   ]
  },
  {
   "cell_type": "code",
   "execution_count": 9,
   "metadata": {},
   "outputs": [
    {
     "data": {
      "text/plain": [
       "16"
      ]
     },
     "execution_count": 9,
     "metadata": {},
     "output_type": "execute_result"
    }
   ],
   "source": [
    "# using a lambda to square a number\n",
    "\n",
    "( lambda x: x**2 )(4)    # takes in 4 and returns the number squared"
   ]
  },
  {
   "cell_type": "code",
   "execution_count": 10,
   "metadata": {},
   "outputs": [
    {
     "data": {
      "text/plain": [
       "50"
      ]
     },
     "execution_count": 10,
     "metadata": {},
     "output_type": "execute_result"
    }
   ],
   "source": [
    "# passing multiple arguments into a lambda\n",
    "\n",
    "( lambda x, y: x * y)(10, 5)     # x = 10, y = 5 and returns the result of 5 * 10"
   ]
  },
  {
   "cell_type": "code",
   "execution_count": 11,
   "metadata": {},
   "outputs": [
    {
     "name": "stdout",
     "output_type": "stream",
     "text": [
      "<function <lambda> at 0x0000022934CA9400>\n",
      "50\n"
     ]
    }
   ],
   "source": [
    "# saving a lambda function into a variable\n",
    "\n",
    "square = lambda x, y: x * y\n",
    "\n",
    "print(square)\n",
    "\n",
    "result = square(10, 5)    # calls the lambda function stored in the square variable and returns 5 * 10\n",
    "\n",
    "print(result)"
   ]
  },
  {
   "cell_type": "code",
   "execution_count": 12,
   "metadata": {},
   "outputs": [
    {
     "name": "stdout",
     "output_type": "stream",
     "text": [
      "10\n"
     ]
    }
   ],
   "source": [
    "# using if/else statements within a lambda to return the greater number\n",
    "\n",
    "greater = lambda x, y: x if x > y else y\n",
    "\n",
    "result = greater(5, 10)\n",
    "\n",
    "print(result)"
   ]
  },
  {
   "cell_type": "code",
   "execution_count": 13,
   "metadata": {},
   "outputs": [
    {
     "name": "stdout",
     "output_type": "stream",
     "text": [
      "10\n",
      "15\n"
     ]
    }
   ],
   "source": [
    "# returning a lambda function from another function\n",
    "\n",
    "def my_func(n):\n",
    "    return lambda x: x * n\n",
    "\n",
    "doubler = my_func(2)    # returns equivalent of lambda x: x * 2\n",
    "\n",
    "print( doubler(5) )   # will output 10\n",
    "\n",
    "tripler = my_func(3)     # returns equivalent of lambda x: x * 3\n",
    "\n",
    "print(tripler(5))   # will output 15"
   ]
  },
  {
   "cell_type": "markdown",
   "metadata": {},
   "source": [
    "# Map, Reduce, and Filter"
   ]
  },
  {
   "cell_type": "code",
   "execution_count": 15,
   "metadata": {},
   "outputs": [
    {
     "name": "stdout",
     "output_type": "stream",
     "text": [
      "<map object at 0x0000022934CD3668>\n",
      "[54.5, 56.480000000000004, 59.0, 48.56]\n"
     ]
    }
   ],
   "source": [
    "# using the map function without lambdas\n",
    "def convertDeg(C):\n",
    "    return (9/5) * C + 32\n",
    "\n",
    "temps = [ 12.5, 13.6, 15, 9.2 ]\n",
    "\n",
    "converted_temps = map(convertDeg, temps) # returns map object\n",
    "\n",
    "print(converted_temps)\n",
    "\n",
    "converted_temps = list(converted_temps) # type convert map object into list of converted temps\n",
    "\n",
    "print(converted_temps)"
   ]
  },
  {
   "cell_type": "code",
   "execution_count": 16,
   "metadata": {},
   "outputs": [
    {
     "name": "stdout",
     "output_type": "stream",
     "text": [
      "[54.5, 56.480000000000004, 59.0, 48.56]\n"
     ]
    }
   ],
   "source": [
    "# using a map function with lambdas\n",
    "\n",
    "temps = [ 12.5, 13.6, 15, 9.2 ]\n",
    "\n",
    "converted_temps = list( map( lambda C : (9/5) * C + 32, temps) ) # type convert the map object right away\n",
    "\n",
    "print(converted_temps)"
   ]
  },
  {
   "cell_type": "code",
   "execution_count": 17,
   "metadata": {},
   "outputs": [
    {
     "name": "stdout",
     "output_type": "stream",
     "text": [
      "<filter object at 0x0000022934CBDB38>\n",
      "[13.6, 15]\n"
     ]
    }
   ],
   "source": [
    "# using the filter function without lambda functions, filter out temps below 55F\n",
    "\n",
    "def filterTemps(C):\n",
    "    converted = (9/5) * C + 32\n",
    "\n",
    "    return True if converted > 55 else False # use ternary operator\n",
    "\n",
    "temps = [ 12.5, 13.6, 15, 9.2 ]\n",
    "\n",
    "filtered_temps = filter(filterTemps, temps) # returns filter object\n",
    "\n",
    "print(filtered_temps)\n",
    "\n",
    "filtered_temps = list(filtered_temps) # convert filter object to list of filtered data\n",
    "\n",
    "print(filtered_temps)"
   ]
  },
  {
   "cell_type": "code",
   "execution_count": 18,
   "metadata": {},
   "outputs": [
    {
     "name": "stdout",
     "output_type": "stream",
     "text": [
      "[13.6, 15]\n"
     ]
    }
   ],
   "source": [
    "# using the filter function with lambda functions, filter out temps below 55F\n",
    "\n",
    "temps = [ 12.5, 13.6, 15, 9.2 ]\n",
    "\n",
    "filtered_temps = list( filter( lambda C : True if (9/5) * C + 32 > 55 else False, temps) ) # type convert the filter\n",
    "\n",
    "print(filtered_temps)"
   ]
  },
  {
   "cell_type": "code",
   "execution_count": 19,
   "metadata": {},
   "outputs": [
    {
     "name": "stdout",
     "output_type": "stream",
     "text": [
      "24\n"
     ]
    }
   ],
   "source": [
    "# for informational purposes this is how you use the reduce function\n",
    "from functools import reduce\n",
    "\n",
    "nums = [ 1, 2, 3, 4 ]\n",
    "\n",
    "result = reduce( lambda a, b : a * b, nums ) # result is 24\n",
    "\n",
    "print(result)"
   ]
  },
  {
   "cell_type": "markdown",
   "metadata": {},
   "source": [
    "# Recursive Functions and Memoization"
   ]
  },
  {
   "cell_type": "code",
   "execution_count": 22,
   "metadata": {},
   "outputs": [
    {
     "name": "stdout",
     "output_type": "stream",
     "text": [
      "120\n"
     ]
    }
   ],
   "source": [
    "# writing a factorial using recursive functions\n",
    "\n",
    "def factorial(n):\n",
    "    # set your base case!\n",
    "    if n <= 1:\n",
    "        return 1\n",
    "    else:\n",
    "        return factorial( n - 1 ) * n\n",
    "\n",
    "print( factorial(5) ) # the result of 5 * 4 * 3 * 2 * 1"
   ]
  },
  {
   "cell_type": "code",
   "execution_count": 23,
   "metadata": {},
   "outputs": [
    {
     "name": "stdout",
     "output_type": "stream",
     "text": [
      "5\n"
     ]
    }
   ],
   "source": [
    "# writing the recursive fibonacci sequence\n",
    "\n",
    "def fib(n):\n",
    "    if n <= 1:\n",
    "        return n\n",
    "    else:\n",
    "        return fib( n - 1 ) + fib( n - 2 )\n",
    "\n",
    "print( fib(5) ) # results in 5"
   ]
  },
  {
   "cell_type": "code",
   "execution_count": 25,
   "metadata": {},
   "outputs": [
    {
     "name": "stdout",
     "output_type": "stream",
     "text": [
      "12586269025\n"
     ]
    }
   ],
   "source": [
    "# using memoization with the fibonacci sequence\n",
    "\n",
    "cache = { } # used to cache values to be used later\n",
    "\n",
    "def fib(n):\n",
    "    if n in cache:\n",
    "        return cache[ n ] # return value stored in dictionary\n",
    "    \n",
    "    result = 0\n",
    "\n",
    "    # base case\n",
    "    if n <= 1:\n",
    "        result = n\n",
    "    else:\n",
    "        result = fib( n - 1 ) + fib( n - 2 )\n",
    "    \n",
    "    cache[ n ] = result # save result into dictionary with n as the key\n",
    "    \n",
    "    return result\n",
    "\n",
    "print( fib(50) ) # calculates almost instantly"
   ]
  },
  {
   "cell_type": "code",
   "execution_count": 27,
   "metadata": {},
   "outputs": [
    {
     "data": {
      "text/plain": [
       "12586269025"
      ]
     },
     "execution_count": 27,
     "metadata": {},
     "output_type": "execute_result"
    }
   ],
   "source": [
    "# using @lru_cache, Python’s default moization/caching technique\n",
    "from functools import lru_cache\n",
    "\n",
    "@lru_cache( ) # python’s built-in memoization/caching system\n",
    "def fib(n):\n",
    "    if n <= 1:\n",
    "        return n\n",
    "    else:\n",
    "        return fib( n - 1 ) + fib( n - 2 )\n",
    "\n",
    "fib(50) # calculates almost instantly"
   ]
  },
  {
   "cell_type": "markdown",
   "metadata": {},
   "source": [
    "# Friday Project: Writing a Binary Search"
   ]
  },
  {
   "cell_type": "code",
   "execution_count": 35,
   "metadata": {},
   "outputs": [
    {
     "name": "stdout",
     "output_type": "stream",
     "text": [
      "[1, 1, 3, 5, 10, 10, 11, 13, 13, 18]\n",
      "True\n"
     ]
    }
   ],
   "source": [
    "# full output of binary search without comments\n",
    "import random\n",
    "\n",
    "nums = [ random.randint(0, 20) for i in range(10) ]\n",
    "\n",
    "def binarySearch(aList, num):\n",
    "    aList.sort( )\n",
    "    \n",
    "    while aList:\n",
    "        mid = len(aList) // 2\n",
    "\n",
    "        if aList[mid] == num:\n",
    "            return True\n",
    "        elif aList[mid] > num:\n",
    "            aList = aList[ : mid ]\n",
    "        elif aList[mid] < num:\n",
    "            aList = aList[ mid + 1 : ]\n",
    "    \n",
    "    return False\n",
    "\n",
    "print( sorted(nums) )\n",
    "print( binarySearch(nums, 3) )"
   ]
  },
  {
   "cell_type": "markdown",
   "metadata": {},
   "source": [
    "# Monday Exercises - Answers"
   ]
  },
  {
   "cell_type": "markdown",
   "metadata": {},
   "source": [
    "<p>\n",
    "1. <b>Degree Conversion:</b> Using list comprehension, convert the list below to Fahrenheit. Currently, the degrees are in Celsius temperatures. The conversion formula is \"(9/5) * C + 32\". Your output should be [53.6, 69.8, 59, 89.6]. \n",
    "</p>\n",
    "\n",
    "<p>\n",
    ">>> degrees = [12, 21, 15, 32]\n",
    "</p>"
   ]
  },
  {
   "cell_type": "code",
   "execution_count": 78,
   "metadata": {},
   "outputs": [
    {
     "name": "stdout",
     "output_type": "stream",
     "text": [
      "[53.6, 69.8, 59.0, 89.6]\n"
     ]
    }
   ],
   "source": [
    "degrees = [12, 21, 15, 32]\n",
    "\n",
    "degrees = [round((9/5) * deg + 32, 1) for deg in degrees]\n",
    "\n",
    "print(degrees)"
   ]
  },
  {
   "cell_type": "markdown",
   "metadata": {},
   "source": [
    "<p>\n",
    "2. <b>User Input:</b> Ask the user to input a single integer up to and including 100. Generate a list of numbers that are exactly divisble by that number up to and including 100 using list comprehension. For example, if the number 25 was input, then the output should be [25, 50, 75, 100].\n",
    "</p>"
   ]
  },
  {
   "cell_type": "code",
   "execution_count": 84,
   "metadata": {},
   "outputs": [
    {
     "name": "stdout",
     "output_type": "stream",
     "text": [
      "Input a number up to or including 100: 25\n",
      "[25, 50, 75, 100]\n"
     ]
    }
   ],
   "source": [
    "num = int(input('Input a number up to or including 100: '))\n",
    "\n",
    "numbers = [x for x in range(1, 101) if x % num == 0]\n",
    "\n",
    "print(numbers)"
   ]
  },
  {
   "cell_type": "markdown",
   "metadata": {},
   "source": [
    "# Tuesday Exercises - Answers"
   ]
  },
  {
   "cell_type": "markdown",
   "metadata": {},
   "source": [
    "<p>\n",
    "1. <b>Fill in the Blanks:</b> Fill in the blanks for the code below so that it takes in a parameter of \"x\" and returns \"True\" if it is greater than 50, otherwise it should return \"False\".\n",
    "</p>\n",
    "\n",
    "<p>\n",
    ">>> __________ x _____ True if x _ 50 ________ False\n",
    "</p>"
   ]
  },
  {
   "cell_type": "code",
   "execution_count": 73,
   "metadata": {},
   "outputs": [
    {
     "data": {
      "text/plain": [
       "<function __main__.<lambda>>"
      ]
     },
     "execution_count": 73,
     "metadata": {},
     "output_type": "execute_result"
    }
   ],
   "source": [
    "lambda x: True if x > 50 else False"
   ]
  },
  {
   "cell_type": "markdown",
   "metadata": {},
   "source": [
    "<p>\n",
    "2. <b>Degree Conversion:</b> Write a lambda function that takes in a degree value in Celsius and returns the degree converted into Fahrenheit.\n",
    "</p>"
   ]
  },
  {
   "cell_type": "code",
   "execution_count": 75,
   "metadata": {},
   "outputs": [
    {
     "data": {
      "text/plain": [
       "32.0"
      ]
     },
     "execution_count": 75,
     "metadata": {},
     "output_type": "execute_result"
    }
   ],
   "source": [
    "(lambda deg: (9/5) * deg + 32)(0)"
   ]
  },
  {
   "cell_type": "markdown",
   "metadata": {},
   "source": [
    "# Wednesday Exercises - Answers"
   ]
  },
  {
   "cell_type": "markdown",
   "metadata": {},
   "source": [
    "<p>\n",
    "1. <b>Mapping Names:</b> Use a lamba and map function to map over the list of names below to produce the following result \"[\"Ryan\", \"Paul\", \"Kevin Connors\"].\n",
    "</p>\n",
    "\n",
    "<p>\n",
    ">>> names = [ \"    ryan\", \"PAUL\", \"kevin connors    \"]\n",
    "</p>"
   ]
  },
  {
   "cell_type": "code",
   "execution_count": 68,
   "metadata": {},
   "outputs": [
    {
     "name": "stdout",
     "output_type": "stream",
     "text": [
      "['Ryan', 'Paul', 'Kevin Connors']\n"
     ]
    }
   ],
   "source": [
    "names = [ \" ryan\", \"PAUL\", \"kevin connors \"]\n",
    "\n",
    "names = list(map(lambda name: name.strip().title(), names))\n",
    "\n",
    "print(names)"
   ]
  },
  {
   "cell_type": "markdown",
   "metadata": {},
   "source": [
    "<p>\n",
    "2. <b>Filter Names:</b> Using a lambda and filter function, filter out all the names that start with the letter 'A'. Make it case insensitive so it filters out the name whether it's uppercase or not. The output of the list below should be [\"Frank\", \"Ripal\"].\n",
    "</p>\n",
    "\n",
    "<p>\n",
    ">>> names = [\"Amanda\", \"Frank\", \"abby\", \"Ripal\", \"Adam\"]\n",
    "</p>"
   ]
  },
  {
   "cell_type": "code",
   "execution_count": 72,
   "metadata": {},
   "outputs": [
    {
     "name": "stdout",
     "output_type": "stream",
     "text": [
      "['Frank', 'Ripal']\n"
     ]
    }
   ],
   "source": [
    "names = [\"Amanda\", \"Frank\", \"abby\", \"Ripal\", \"Adam\"]\n",
    "\n",
    "names = list(filter(lambda name: True if name[0].lower() != 'a' else False, names))\n",
    "\n",
    "print(names)"
   ]
  },
  {
   "cell_type": "markdown",
   "metadata": {},
   "source": [
    "# Thursday Exercises - Answers"
   ]
  },
  {
   "cell_type": "markdown",
   "metadata": {},
   "source": [
    "<p>\n",
    "1. <b>Factorial Caching:</b> Apply either the lru_cache built-in decorator to the factorial function that we create previously, or setup your own caching system.\n",
    "</p>"
   ]
  },
  {
   "cell_type": "code",
   "execution_count": 40,
   "metadata": {},
   "outputs": [
    {
     "name": "stdout",
     "output_type": "stream",
     "text": [
      "815915283247897734345611269596115894272000000000\n"
     ]
    }
   ],
   "source": [
    "from functools import lru_cache\n",
    "\n",
    "@lru_cache(500)\n",
    "def factorial(n):\n",
    "    # set your base case!\n",
    "    if n <= 1:\n",
    "        return 1\n",
    "    else:\n",
    "        return factorial( n - 1 ) * n\n",
    "\n",
    "print( factorial(40) ) # the result of 5 * 4 * 3 * 2 * 1"
   ]
  },
  {
   "cell_type": "markdown",
   "metadata": {},
   "source": [
    "<p>\n",
    "2. <b>Searching Data:</b> Create a function that takes in two arguments, a list of data and an item to search for. Search through the list of data passed in and return True if the item to search for appears, otherwise return False. If one of the items is another list, create a recursive call so that you don't need to create another loop. Use the example call below as a reference on what data to expect:\n",
    "</p>\n",
    "\n",
    "<p>\n",
    ">>> searchList( [2, 3, [18, 22], 6], 22)\n",
    "</p>"
   ]
  },
  {
   "cell_type": "code",
   "execution_count": 37,
   "metadata": {},
   "outputs": [
    {
     "data": {
      "text/plain": [
       "True"
      ]
     },
     "execution_count": 37,
     "metadata": {},
     "output_type": "execute_result"
    }
   ],
   "source": [
    "def searchList(aList, num):\n",
    "    result = False\n",
    "    \n",
    "    for item in aList:\n",
    "        if item == num:\n",
    "            return True\n",
    "        elif isinstance(item, list):\n",
    "            result = searchList(item, num)\n",
    "    \n",
    "    return result\n",
    "\n",
    "searchList([2, 3, [18, 22], 6], 22)"
   ]
  },
  {
   "cell_type": "markdown",
   "metadata": {},
   "source": [
    "# End of Week Exercises - Answers"
   ]
  },
  {
   "cell_type": "markdown",
   "metadata": {},
   "source": [
    "<p>\n",
    "1. <b>Recursive Binary Search:</b> Turn the Binary Search algorithm that we created together into a recursive function. Rather than using a while loop, it should call itself in order to cut the list down and eventually return True or False.\n",
    "</p>"
   ]
  },
  {
   "cell_type": "code",
   "execution_count": 45,
   "metadata": {},
   "outputs": [
    {
     "name": "stdout",
     "output_type": "stream",
     "text": [
      "[0, 4, 6, 7, 8, 10, 13, 14, 16, 20]\n",
      "False\n"
     ]
    }
   ],
   "source": [
    "import random\n",
    "\n",
    "nums = [ random.randint(0, 20) for i in range(10) ]\n",
    "\n",
    "def binarySearch(aList, num):\n",
    "    # base case\n",
    "    if aList == []:\n",
    "        return False\n",
    "    \n",
    "    aList.sort( )\n",
    "    \n",
    "    mid = len(aList) // 2\n",
    "\n",
    "    if aList[mid] == num:\n",
    "        return True\n",
    "    elif aList[mid] > num:\n",
    "        return binarySearch(aList[ : mid ], num)\n",
    "    elif aList[mid] < num:\n",
    "        return binarySearch(aList[ mid + 1 : ], num)\n",
    "    \n",
    "print( sorted(nums) )\n",
    "print( binarySearch(nums, 3) )"
   ]
  },
  {
   "cell_type": "markdown",
   "metadata": {},
   "source": [
    "<p>\n",
    "2. <b>Efficient Algorithms:</b> Looking at the Binary Search we wrote, how could you possibly make it even more efficient?\n",
    "</p>"
   ]
  },
  {
   "cell_type": "markdown",
   "metadata": {},
   "source": [
    "<p>When you write the steps out, you can see that the algorithm always sorts the list, and continues to do so, even if the list is sorted. It would be better to require the list to be sorted before passing in the data to the function. This way if you use recursive functions that we would not have to sort the list each time.</p>"
   ]
  },
  {
   "cell_type": "markdown",
   "metadata": {},
   "source": [
    "<p>\n",
    "3. <b>Case Sensitive Search:</b> Re-write the Binary Search so that it works with a list that holds both numbers and letters. It should be case sensitive. Use the function call below to understand the parameters being passed in. Hint \"22\" < 'a' will return True\n",
    "</p>\n",
    "\n",
    "<p>\n",
    ">>> binarySearch( ['a', 22, '3', 'hello', 1022, 4, 'e'], 'hello') # returns True\n",
    "</p>"
   ]
  },
  {
   "cell_type": "code",
   "execution_count": 65,
   "metadata": {},
   "outputs": [
    {
     "name": "stdout",
     "output_type": "stream",
     "text": [
      "True\n"
     ]
    }
   ],
   "source": [
    "data = ['a', 22, '3', 'hello', 1022, 4, 'e']\n",
    "\n",
    "def binarySearch(aList, num):\n",
    "    # convert data into strings\n",
    "    for i in range(len(aList)):\n",
    "        aList[i] = str(aList[i])\n",
    "        \n",
    "    # sort all strings as you could not sort strings and numbers together\n",
    "    aList.sort()\n",
    "    \n",
    "    while aList:\n",
    "        mid = len(aList) // 2\n",
    "\n",
    "        if str(aList[mid]) == str(num):\n",
    "            return True\n",
    "        elif str(aList[mid]) > str(num):\n",
    "            aList = aList[ : mid ]\n",
    "        elif str(aList[mid]) < str(num):\n",
    "            aList = aList[ mid + 1 : ]\n",
    "    \n",
    "    return False\n",
    "\n",
    "print( binarySearch(data, 'hello') )"
   ]
  }
 ],
 "metadata": {
  "kernelspec": {
   "display_name": "Python 3",
   "language": "python",
   "name": "python3"
  },
  "language_info": {
   "codemirror_mode": {
    "name": "ipython",
    "version": 3
   },
   "file_extension": ".py",
   "mimetype": "text/x-python",
   "name": "python",
   "nbconvert_exporter": "python",
   "pygments_lexer": "ipython3",
   "version": "3.6.5"
  }
 },
 "nbformat": 4,
 "nbformat_minor": 2
}
